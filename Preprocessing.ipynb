{
 "cells": [
  {
   "cell_type": "markdown",
   "metadata": {},
   "source": [
    "## Data from YouTube's Videos"
   ]
  },
  {
   "cell_type": "markdown",
   "metadata": {},
   "source": [
    "### Part I: Doing on Japan dataset"
   ]
  },
  {
   "cell_type": "markdown",
   "metadata": {},
   "source": [
    "#### 1. Preparing your data"
   ]
  },
  {
   "cell_type": "code",
   "execution_count": 1,
   "metadata": {},
   "outputs": [],
   "source": [
    "# !pip install --upgrade pip\n",
    "# !pip install --upgrade pandas"
   ]
  },
  {
   "cell_type": "code",
   "execution_count": 2,
   "metadata": {},
   "outputs": [],
   "source": [
    "#!pip install pandas\n",
    "#!pip install numpy\n",
    "#!pip install matplotlib\n",
    "#!pip install seaborn\n",
    "#!pip install datetime"
   ]
  },
  {
   "cell_type": "code",
   "execution_count": 3,
   "metadata": {},
   "outputs": [],
   "source": [
    "import pandas as pd\n",
    "import numpy as np\n",
    "import matplotlib.pyplot as plt\n",
    "import seaborn as sns\n",
    "from pandas.plotting import scatter_matrix\n",
    "from scipy import stats\n",
    "import datetime as dt"
   ]
  },
  {
   "cell_type": "code",
   "execution_count": 4,
   "metadata": {
    "scrolled": true
   },
   "outputs": [],
   "source": [
    "# japan_df = pd.read_csv('JP_videos.csv', encoding = \"iso-8859-1\")\n",
    "df = pd.read_csv('JP_videos.csv', encoding_errors='ignore')"
   ]
  },
  {
   "cell_type": "code",
   "execution_count": 5,
   "metadata": {},
   "outputs": [
    {
     "data": {
      "text/plain": [
       "(20523, 16)"
      ]
     },
     "execution_count": 5,
     "metadata": {},
     "output_type": "execute_result"
    }
   ],
   "source": [
    "df.shape"
   ]
  },
  {
   "cell_type": "code",
   "execution_count": 6,
   "metadata": {},
   "outputs": [
    {
     "name": "stdout",
     "output_type": "stream",
     "text": [
      "<class 'pandas.core.frame.DataFrame'>\n",
      "RangeIndex: 20523 entries, 0 to 20522\n",
      "Data columns (total 16 columns):\n",
      " #   Column                  Non-Null Count  Dtype \n",
      "---  ------                  --------------  ----- \n",
      " 0   video_id                20523 non-null  object\n",
      " 1   trending_date           20523 non-null  object\n",
      " 2   title                   20523 non-null  object\n",
      " 3   channel_title           20523 non-null  object\n",
      " 4   category_id             20523 non-null  int64 \n",
      " 5   publish_time            20523 non-null  object\n",
      " 6   tags                    20523 non-null  object\n",
      " 7   views                   20523 non-null  int64 \n",
      " 8   likes                   20523 non-null  int64 \n",
      " 9   dislikes                20523 non-null  int64 \n",
      " 10  comment_count           20523 non-null  int64 \n",
      " 11  thumbnail_link          20523 non-null  object\n",
      " 12  comments_disabled       20523 non-null  bool  \n",
      " 13  ratings_disabled        20523 non-null  bool  \n",
      " 14  video_error_or_removed  20523 non-null  bool  \n",
      " 15  description             18399 non-null  object\n",
      "dtypes: bool(3), int64(5), object(8)\n",
      "memory usage: 2.1+ MB\n"
     ]
    }
   ],
   "source": [
    "df.info()"
   ]
  },
  {
   "cell_type": "code",
   "execution_count": 7,
   "metadata": {
    "scrolled": true
   },
   "outputs": [
    {
     "data": {
      "text/html": [
       "<div>\n",
       "<style scoped>\n",
       "    .dataframe tbody tr th:only-of-type {\n",
       "        vertical-align: middle;\n",
       "    }\n",
       "\n",
       "    .dataframe tbody tr th {\n",
       "        vertical-align: top;\n",
       "    }\n",
       "\n",
       "    .dataframe thead th {\n",
       "        text-align: right;\n",
       "    }\n",
       "</style>\n",
       "<table border=\"1\" class=\"dataframe\">\n",
       "  <thead>\n",
       "    <tr style=\"text-align: right;\">\n",
       "      <th></th>\n",
       "      <th>video_id</th>\n",
       "      <th>trending_date</th>\n",
       "      <th>title</th>\n",
       "      <th>channel_title</th>\n",
       "      <th>category_id</th>\n",
       "      <th>publish_time</th>\n",
       "      <th>tags</th>\n",
       "      <th>views</th>\n",
       "      <th>likes</th>\n",
       "      <th>dislikes</th>\n",
       "      <th>comment_count</th>\n",
       "      <th>thumbnail_link</th>\n",
       "      <th>comments_disabled</th>\n",
       "      <th>ratings_disabled</th>\n",
       "      <th>video_error_or_removed</th>\n",
       "      <th>description</th>\n",
       "    </tr>\n",
       "  </thead>\n",
       "  <tbody>\n",
       "    <tr>\n",
       "      <th>0</th>\n",
       "      <td>5ugKfHgsmYw</td>\n",
       "      <td>18.07.02</td>\n",
       "      <td>陸自ヘリ、垂直に落下＝路上の車が撮影</td>\n",
       "      <td>時事通信映像センター</td>\n",
       "      <td>25</td>\n",
       "      <td>2018-02-06T03:04:37.000Z</td>\n",
       "      <td>事故|\"佐賀\"|\"佐賀県\"|\"ヘリコプター\"|\"ヘリ\"|\"自衛隊\"|\"墜落\"|\"落下\"|\"現...</td>\n",
       "      <td>188085</td>\n",
       "      <td>591</td>\n",
       "      <td>189</td>\n",
       "      <td>0</td>\n",
       "      <td>https://i.ytimg.com/vi/5ugKfHgsmYw/default.jpg</td>\n",
       "      <td>True</td>\n",
       "      <td>False</td>\n",
       "      <td>False</td>\n",
       "      <td>佐賀県神埼市の民家に墜落した陸上自衛隊のＡＨ６４Ｄ戦闘ヘリコプターが垂直に落下する様子を、近...</td>\n",
       "    </tr>\n",
       "    <tr>\n",
       "      <th>1</th>\n",
       "      <td>ohObafdd34Y</td>\n",
       "      <td>18.07.02</td>\n",
       "      <td>イッテQ お祭り男宮川×手越 巨大ブランコ②</td>\n",
       "      <td>神谷えりな Kamiya Erina 2</td>\n",
       "      <td>1</td>\n",
       "      <td>2018-02-06T04:01:56.000Z</td>\n",
       "      <td>[none]</td>\n",
       "      <td>90929</td>\n",
       "      <td>442</td>\n",
       "      <td>88</td>\n",
       "      <td>174</td>\n",
       "      <td>https://i.ytimg.com/vi/ohObafdd34Y/default.jpg</td>\n",
       "      <td>False</td>\n",
       "      <td>False</td>\n",
       "      <td>False</td>\n",
       "      <td>NaN</td>\n",
       "    </tr>\n",
       "    <tr>\n",
       "      <th>2</th>\n",
       "      <td>aBr2kKAHN6M</td>\n",
       "      <td>18.07.02</td>\n",
       "      <td>Live Views of Starman</td>\n",
       "      <td>SpaceX</td>\n",
       "      <td>28</td>\n",
       "      <td>2018-02-06T21:38:22.000Z</td>\n",
       "      <td>[none]</td>\n",
       "      <td>6408303</td>\n",
       "      <td>165892</td>\n",
       "      <td>2331</td>\n",
       "      <td>3006</td>\n",
       "      <td>https://i.ytimg.com/vi/aBr2kKAHN6M/default.jpg</td>\n",
       "      <td>False</td>\n",
       "      <td>False</td>\n",
       "      <td>False</td>\n",
       "      <td>NaN</td>\n",
       "    </tr>\n",
       "    <tr>\n",
       "      <th>3</th>\n",
       "      <td>5wNnwChvmsQ</td>\n",
       "      <td>18.07.02</td>\n",
       "      <td>東京ディズニーリゾートの元キャストが暴露した秘密5選</td>\n",
       "      <td>アシタノワダイ</td>\n",
       "      <td>25</td>\n",
       "      <td>2018-02-06T06:08:49.000Z</td>\n",
       "      <td>アシタノワダイ</td>\n",
       "      <td>96255</td>\n",
       "      <td>1165</td>\n",
       "      <td>277</td>\n",
       "      <td>545</td>\n",
       "      <td>https://i.ytimg.com/vi/5wNnwChvmsQ/default.jpg</td>\n",
       "      <td>False</td>\n",
       "      <td>False</td>\n",
       "      <td>False</td>\n",
       "      <td>東京ディズニーリゾートの元キャストが暴露した秘密5選\\n\\nかたまりクリエイトさま\\n【検証...</td>\n",
       "    </tr>\n",
       "    <tr>\n",
       "      <th>4</th>\n",
       "      <td>B7J47qFvdsk</td>\n",
       "      <td>18.07.02</td>\n",
       "      <td>榮倉奈々、衝撃の死んだふり！映画『家に帰ると妻が必ず死んだふりをしています。』特報</td>\n",
       "      <td>シネマトゥデイ</td>\n",
       "      <td>1</td>\n",
       "      <td>2018-02-06T02:30:00.000Z</td>\n",
       "      <td>[none]</td>\n",
       "      <td>108408</td>\n",
       "      <td>1336</td>\n",
       "      <td>74</td>\n",
       "      <td>201</td>\n",
       "      <td>https://i.ytimg.com/vi/B7J47qFvdsk/default.jpg</td>\n",
       "      <td>False</td>\n",
       "      <td>False</td>\n",
       "      <td>False</td>\n",
       "      <td>家に帰ってきたサラリーマンのじゅん（安田顕）は、玄関で血を出して倒れている妻ちえ（榮倉奈々）...</td>\n",
       "    </tr>\n",
       "  </tbody>\n",
       "</table>\n",
       "</div>"
      ],
      "text/plain": [
       "      video_id trending_date                                      title  \\\n",
       "0  5ugKfHgsmYw      18.07.02                         陸自ヘリ、垂直に落下＝路上の車が撮影   \n",
       "1  ohObafdd34Y      18.07.02                     イッテQ お祭り男宮川×手越 巨大ブランコ②   \n",
       "2  aBr2kKAHN6M      18.07.02                      Live Views of Starman   \n",
       "3  5wNnwChvmsQ      18.07.02                 東京ディズニーリゾートの元キャストが暴露した秘密5選   \n",
       "4  B7J47qFvdsk      18.07.02  榮倉奈々、衝撃の死んだふり！映画『家に帰ると妻が必ず死んだふりをしています。』特報   \n",
       "\n",
       "          channel_title  category_id              publish_time  \\\n",
       "0            時事通信映像センター           25  2018-02-06T03:04:37.000Z   \n",
       "1  神谷えりな Kamiya Erina 2            1  2018-02-06T04:01:56.000Z   \n",
       "2                SpaceX           28  2018-02-06T21:38:22.000Z   \n",
       "3               アシタノワダイ           25  2018-02-06T06:08:49.000Z   \n",
       "4               シネマトゥデイ            1  2018-02-06T02:30:00.000Z   \n",
       "\n",
       "                                                tags    views   likes  \\\n",
       "0  事故|\"佐賀\"|\"佐賀県\"|\"ヘリコプター\"|\"ヘリ\"|\"自衛隊\"|\"墜落\"|\"落下\"|\"現...   188085     591   \n",
       "1                                             [none]    90929     442   \n",
       "2                                             [none]  6408303  165892   \n",
       "3                                            アシタノワダイ    96255    1165   \n",
       "4                                             [none]   108408    1336   \n",
       "\n",
       "   dislikes  comment_count                                  thumbnail_link  \\\n",
       "0       189              0  https://i.ytimg.com/vi/5ugKfHgsmYw/default.jpg   \n",
       "1        88            174  https://i.ytimg.com/vi/ohObafdd34Y/default.jpg   \n",
       "2      2331           3006  https://i.ytimg.com/vi/aBr2kKAHN6M/default.jpg   \n",
       "3       277            545  https://i.ytimg.com/vi/5wNnwChvmsQ/default.jpg   \n",
       "4        74            201  https://i.ytimg.com/vi/B7J47qFvdsk/default.jpg   \n",
       "\n",
       "   comments_disabled  ratings_disabled  video_error_or_removed  \\\n",
       "0               True             False                   False   \n",
       "1              False             False                   False   \n",
       "2              False             False                   False   \n",
       "3              False             False                   False   \n",
       "4              False             False                   False   \n",
       "\n",
       "                                         description  \n",
       "0  佐賀県神埼市の民家に墜落した陸上自衛隊のＡＨ６４Ｄ戦闘ヘリコプターが垂直に落下する様子を、近...  \n",
       "1                                                NaN  \n",
       "2                                                NaN  \n",
       "3  東京ディズニーリゾートの元キャストが暴露した秘密5選\\n\\nかたまりクリエイトさま\\n【検証...  \n",
       "4  家に帰ってきたサラリーマンのじゅん（安田顕）は、玄関で血を出して倒れている妻ちえ（榮倉奈々）...  "
      ]
     },
     "execution_count": 7,
     "metadata": {},
     "output_type": "execute_result"
    }
   ],
   "source": [
    "df.head()"
   ]
  },
  {
   "cell_type": "code",
   "execution_count": 8,
   "metadata": {},
   "outputs": [
    {
     "data": {
      "text/html": [
       "<div>\n",
       "<style scoped>\n",
       "    .dataframe tbody tr th:only-of-type {\n",
       "        vertical-align: middle;\n",
       "    }\n",
       "\n",
       "    .dataframe tbody tr th {\n",
       "        vertical-align: top;\n",
       "    }\n",
       "\n",
       "    .dataframe thead th {\n",
       "        text-align: right;\n",
       "    }\n",
       "</style>\n",
       "<table border=\"1\" class=\"dataframe\">\n",
       "  <thead>\n",
       "    <tr style=\"text-align: right;\">\n",
       "      <th></th>\n",
       "      <th>video_id</th>\n",
       "      <th>trending_date</th>\n",
       "      <th>title</th>\n",
       "      <th>channel_title</th>\n",
       "      <th>category_id</th>\n",
       "      <th>publish_time</th>\n",
       "      <th>tags</th>\n",
       "      <th>views</th>\n",
       "      <th>likes</th>\n",
       "      <th>dislikes</th>\n",
       "      <th>comment_count</th>\n",
       "      <th>thumbnail_link</th>\n",
       "      <th>comments_disabled</th>\n",
       "      <th>ratings_disabled</th>\n",
       "      <th>video_error_or_removed</th>\n",
       "      <th>description</th>\n",
       "    </tr>\n",
       "  </thead>\n",
       "  <tbody>\n",
       "    <tr>\n",
       "      <th>20518</th>\n",
       "      <td>GuWCkLnCMOo</td>\n",
       "      <td>18.14.06</td>\n",
       "      <td>หนึ่งด้าวฟ้าเดียว NeungDaoFahDeaw EP.15 ตอนที่...</td>\n",
       "      <td>Ch3Thailand</td>\n",
       "      <td>24</td>\n",
       "      <td>2018-06-13T17:00:01.000Z</td>\n",
       "      <td>หนึ่งด้าวฟ้าเดียว|\"NeungDaoFahDeaw\"|\"เจมส์ จิร...</td>\n",
       "      <td>81321</td>\n",
       "      <td>321</td>\n",
       "      <td>17</td>\n",
       "      <td>61</td>\n",
       "      <td>https://i.ytimg.com/vi/GuWCkLnCMOo/default.jpg</td>\n",
       "      <td>False</td>\n",
       "      <td>False</td>\n",
       "      <td>False</td>\n",
       "      <td>หลังจบละครทางหน้าจอทีวี สามารถรับชมได้อีกครั้ง...</td>\n",
       "    </tr>\n",
       "    <tr>\n",
       "      <th>20519</th>\n",
       "      <td>nOUlB0i2MaA</td>\n",
       "      <td>18.14.06</td>\n",
       "      <td>2018 국민의 선택 - 선거방송 '왕의 귀환' 12시간 연속 생중계! (풀영상) ...</td>\n",
       "      <td>SBS 뉴스</td>\n",
       "      <td>25</td>\n",
       "      <td>2018-06-13T19:10:31.000Z</td>\n",
       "      <td>뉴스|\"NEWS\"|\"news\"|\"SBS\"|\"sbs\"|\"SBS NEWS\"|\"SBS8N...</td>\n",
       "      <td>433188</td>\n",
       "      <td>0</td>\n",
       "      <td>0</td>\n",
       "      <td>175</td>\n",
       "      <td>https://i.ytimg.com/vi/nOUlB0i2MaA/default.jpg</td>\n",
       "      <td>False</td>\n",
       "      <td>True</td>\n",
       "      <td>False</td>\n",
       "      <td>'선거방송의 명가' SBS가 온다! SBS가 제 7회 전국동시지방선거(6·13 지방...</td>\n",
       "    </tr>\n",
       "    <tr>\n",
       "      <th>20520</th>\n",
       "      <td>4cRanIowkTE</td>\n",
       "      <td>18.14.06</td>\n",
       "      <td>元FBIエージェントが教える、200％人を引き付けるようになるコツ、トップ10</td>\n",
       "      <td>ブライトサイド | Bright Side Japan</td>\n",
       "      <td>26</td>\n",
       "      <td>2018-06-13T14:00:02.000Z</td>\n",
       "      <td>人々を魅了する方法|\"魅力的になるには\"|\"成功の秘訣\"|\"簡単なトリック\"|\"人から好かれ...</td>\n",
       "      <td>39235</td>\n",
       "      <td>1194</td>\n",
       "      <td>27</td>\n",
       "      <td>46</td>\n",
       "      <td>https://i.ytimg.com/vi/4cRanIowkTE/default.jpg</td>\n",
       "      <td>False</td>\n",
       "      <td>False</td>\n",
       "      <td>False</td>\n",
       "      <td>元FBIエージェント、ジャック･シェーファー医師が明かす、人に200％魅力的に見せるトリック...</td>\n",
       "    </tr>\n",
       "    <tr>\n",
       "      <th>20521</th>\n",
       "      <td>oLtWIVBVoS8</td>\n",
       "      <td>18.14.06</td>\n",
       "      <td>日本×パラグアイ徹底分析&amp;スペイン代表監督解任事件を解説【トークtheフットボール】#683</td>\n",
       "      <td>Leo the football TV</td>\n",
       "      <td>17</td>\n",
       "      <td>2018-06-13T13:56:47.000Z</td>\n",
       "      <td>W杯|\"ワールドカップ\"|\"蹴球\"|\"思想家\"|\"ラジオ\"|\"ナポリ\"|\"ライプツィヒ\"|\"...</td>\n",
       "      <td>49900</td>\n",
       "      <td>431</td>\n",
       "      <td>66</td>\n",
       "      <td>336</td>\n",
       "      <td>https://i.ytimg.com/vi/oLtWIVBVoS8/default.jpg</td>\n",
       "      <td>False</td>\n",
       "      <td>False</td>\n",
       "      <td>False</td>\n",
       "      <td>「２０１８Ｗ杯ロシア大会日本代表戦ライヴイベント」日本代表のグループリーグ３試合をLeo t...</td>\n",
       "    </tr>\n",
       "    <tr>\n",
       "      <th>20522</th>\n",
       "      <td>2IEWv23oa9E</td>\n",
       "      <td>18.14.06</td>\n",
       "      <td>エサのコオロギに夢中で二本足で立つカメレオン</td>\n",
       "      <td>釣りよかHOUSE</td>\n",
       "      <td>24</td>\n",
       "      <td>2018-06-13T09:00:00.000Z</td>\n",
       "      <td>よーらい|\"佐賀よかでしょう\"|\"釣りよかでしょう\"|\"釣り\"</td>\n",
       "      <td>46265</td>\n",
       "      <td>816</td>\n",
       "      <td>40</td>\n",
       "      <td>59</td>\n",
       "      <td>https://i.ytimg.com/vi/2IEWv23oa9E/default.jpg</td>\n",
       "      <td>False</td>\n",
       "      <td>False</td>\n",
       "      <td>False</td>\n",
       "      <td>使用した物https://amzn.to/2JwOEPGメインチャンネル　釣りよかでしょうh...</td>\n",
       "    </tr>\n",
       "  </tbody>\n",
       "</table>\n",
       "</div>"
      ],
      "text/plain": [
       "          video_id trending_date  \\\n",
       "20518  GuWCkLnCMOo      18.14.06   \n",
       "20519  nOUlB0i2MaA      18.14.06   \n",
       "20520  4cRanIowkTE      18.14.06   \n",
       "20521  oLtWIVBVoS8      18.14.06   \n",
       "20522  2IEWv23oa9E      18.14.06   \n",
       "\n",
       "                                                   title  \\\n",
       "20518  หนึ่งด้าวฟ้าเดียว NeungDaoFahDeaw EP.15 ตอนที่...   \n",
       "20519  2018 국민의 선택 - 선거방송 '왕의 귀환' 12시간 연속 생중계! (풀영상) ...   \n",
       "20520            元FBIエージェントが教える、200％人を引き付けるようになるコツ、トップ10   \n",
       "20521     日本×パラグアイ徹底分析&スペイン代表監督解任事件を解説【トークtheフットボール】#683   \n",
       "20522                             エサのコオロギに夢中で二本足で立つカメレオン   \n",
       "\n",
       "                     channel_title  category_id              publish_time  \\\n",
       "20518                  Ch3Thailand           24  2018-06-13T17:00:01.000Z   \n",
       "20519                       SBS 뉴스           25  2018-06-13T19:10:31.000Z   \n",
       "20520  ブライトサイド | Bright Side Japan           26  2018-06-13T14:00:02.000Z   \n",
       "20521          Leo the football TV           17  2018-06-13T13:56:47.000Z   \n",
       "20522                    釣りよかHOUSE           24  2018-06-13T09:00:00.000Z   \n",
       "\n",
       "                                                    tags   views  likes  \\\n",
       "20518  หนึ่งด้าวฟ้าเดียว|\"NeungDaoFahDeaw\"|\"เจมส์ จิร...   81321    321   \n",
       "20519  뉴스|\"NEWS\"|\"news\"|\"SBS\"|\"sbs\"|\"SBS NEWS\"|\"SBS8N...  433188      0   \n",
       "20520  人々を魅了する方法|\"魅力的になるには\"|\"成功の秘訣\"|\"簡単なトリック\"|\"人から好かれ...   39235   1194   \n",
       "20521  W杯|\"ワールドカップ\"|\"蹴球\"|\"思想家\"|\"ラジオ\"|\"ナポリ\"|\"ライプツィヒ\"|\"...   49900    431   \n",
       "20522                    よーらい|\"佐賀よかでしょう\"|\"釣りよかでしょう\"|\"釣り\"   46265    816   \n",
       "\n",
       "       dislikes  comment_count  \\\n",
       "20518        17             61   \n",
       "20519         0            175   \n",
       "20520        27             46   \n",
       "20521        66            336   \n",
       "20522        40             59   \n",
       "\n",
       "                                       thumbnail_link  comments_disabled  \\\n",
       "20518  https://i.ytimg.com/vi/GuWCkLnCMOo/default.jpg              False   \n",
       "20519  https://i.ytimg.com/vi/nOUlB0i2MaA/default.jpg              False   \n",
       "20520  https://i.ytimg.com/vi/4cRanIowkTE/default.jpg              False   \n",
       "20521  https://i.ytimg.com/vi/oLtWIVBVoS8/default.jpg              False   \n",
       "20522  https://i.ytimg.com/vi/2IEWv23oa9E/default.jpg              False   \n",
       "\n",
       "       ratings_disabled  video_error_or_removed  \\\n",
       "20518             False                   False   \n",
       "20519              True                   False   \n",
       "20520             False                   False   \n",
       "20521             False                   False   \n",
       "20522             False                   False   \n",
       "\n",
       "                                             description  \n",
       "20518  หลังจบละครทางหน้าจอทีวี สามารถรับชมได้อีกครั้ง...  \n",
       "20519  '선거방송의 명가' SBS가 온다! SBS가 제 7회 전국동시지방선거(6·13 지방...  \n",
       "20520  元FBIエージェント、ジャック･シェーファー医師が明かす、人に200％魅力的に見せるトリック...  \n",
       "20521  「２０１８Ｗ杯ロシア大会日本代表戦ライヴイベント」日本代表のグループリーグ３試合をLeo t...  \n",
       "20522  使用した物https://amzn.to/2JwOEPGメインチャンネル　釣りよかでしょうh...  "
      ]
     },
     "execution_count": 8,
     "metadata": {},
     "output_type": "execute_result"
    }
   ],
   "source": [
    "df.tail()"
   ]
  },
  {
   "cell_type": "code",
   "execution_count": 9,
   "metadata": {},
   "outputs": [
    {
     "data": {
      "text/html": [
       "<div>\n",
       "<style scoped>\n",
       "    .dataframe tbody tr th:only-of-type {\n",
       "        vertical-align: middle;\n",
       "    }\n",
       "\n",
       "    .dataframe tbody tr th {\n",
       "        vertical-align: top;\n",
       "    }\n",
       "\n",
       "    .dataframe thead th {\n",
       "        text-align: right;\n",
       "    }\n",
       "</style>\n",
       "<table border=\"1\" class=\"dataframe\">\n",
       "  <thead>\n",
       "    <tr style=\"text-align: right;\">\n",
       "      <th></th>\n",
       "      <th>video_id</th>\n",
       "      <th>trending_date</th>\n",
       "      <th>title</th>\n",
       "      <th>channel_title</th>\n",
       "      <th>category_id</th>\n",
       "      <th>publish_time</th>\n",
       "      <th>tags</th>\n",
       "      <th>views</th>\n",
       "      <th>likes</th>\n",
       "      <th>dislikes</th>\n",
       "      <th>comment_count</th>\n",
       "      <th>thumbnail_link</th>\n",
       "      <th>comments_disabled</th>\n",
       "      <th>ratings_disabled</th>\n",
       "      <th>video_error_or_removed</th>\n",
       "      <th>description</th>\n",
       "    </tr>\n",
       "  </thead>\n",
       "  <tbody>\n",
       "    <tr>\n",
       "      <th>2024</th>\n",
       "      <td>biKRtgcUyvY</td>\n",
       "      <td>18.19.02</td>\n",
       "      <td>欅って、書けない？2018年2月18日【ひらがな禁制！漢字だらけの大新年会！後半戦】</td>\n",
       "      <td>TBS うらら迷路帖</td>\n",
       "      <td>22</td>\n",
       "      <td>2018-02-18T16:20:36.000Z</td>\n",
       "      <td>欅って、書けない？|\"乃木坂工事中\"|\"欅って、書けない？180218\"</td>\n",
       "      <td>73999</td>\n",
       "      <td>169</td>\n",
       "      <td>275</td>\n",
       "      <td>79</td>\n",
       "      <td>https://i.ytimg.com/vi/biKRtgcUyvY/default.jpg</td>\n",
       "      <td>False</td>\n",
       "      <td>False</td>\n",
       "      <td>False</td>\n",
       "      <td>乃木坂工事中 2018年2月18日 180218\\n欅って、書けない？180218</td>\n",
       "    </tr>\n",
       "  </tbody>\n",
       "</table>\n",
       "</div>"
      ],
      "text/plain": [
       "         video_id trending_date                                       title  \\\n",
       "2024  biKRtgcUyvY      18.19.02  欅って、書けない？2018年2月18日【ひらがな禁制！漢字だらけの大新年会！後半戦】   \n",
       "\n",
       "     channel_title  category_id              publish_time  \\\n",
       "2024    TBS うらら迷路帖           22  2018-02-18T16:20:36.000Z   \n",
       "\n",
       "                                      tags  views  likes  dislikes  \\\n",
       "2024  欅って、書けない？|\"乃木坂工事中\"|\"欅って、書けない？180218\"  73999    169       275   \n",
       "\n",
       "      comment_count                                  thumbnail_link  \\\n",
       "2024             79  https://i.ytimg.com/vi/biKRtgcUyvY/default.jpg   \n",
       "\n",
       "      comments_disabled  ratings_disabled  video_error_or_removed  \\\n",
       "2024              False             False                   False   \n",
       "\n",
       "                                    description  \n",
       "2024  乃木坂工事中 2018年2月18日 180218\\n欅って、書けない？180218  "
      ]
     },
     "execution_count": 9,
     "metadata": {},
     "output_type": "execute_result"
    }
   ],
   "source": [
    "df.sample()"
   ]
  },
  {
   "cell_type": "markdown",
   "metadata": {},
   "source": [
    "#### 2. Cleaning your dataset"
   ]
  },
  {
   "cell_type": "code",
   "execution_count": 10,
   "metadata": {
    "scrolled": true
   },
   "outputs": [
    {
     "data": {
      "text/plain": [
       "Index(['video_id', 'trending_date', 'title', 'channel_title', 'category_id',\n",
       "       'publish_time', 'tags', 'views', 'likes', 'dislikes', 'comment_count',\n",
       "       'thumbnail_link', 'comments_disabled', 'ratings_disabled',\n",
       "       'video_error_or_removed', 'description'],\n",
       "      dtype='object')"
      ]
     },
     "execution_count": 10,
     "metadata": {},
     "output_type": "execute_result"
    }
   ],
   "source": [
    "df.columns"
   ]
  },
  {
   "cell_type": "markdown",
   "metadata": {},
   "source": [
    "##### Columns' name: OK"
   ]
  },
  {
   "cell_type": "code",
   "execution_count": 11,
   "metadata": {},
   "outputs": [
    {
     "name": "stdout",
     "output_type": "stream",
     "text": [
      "<class 'pandas.core.frame.DataFrame'>\n",
      "RangeIndex: 20523 entries, 0 to 20522\n",
      "Data columns (total 16 columns):\n",
      " #   Column                  Non-Null Count  Dtype \n",
      "---  ------                  --------------  ----- \n",
      " 0   video_id                20523 non-null  object\n",
      " 1   trending_date           20523 non-null  object\n",
      " 2   title                   20523 non-null  object\n",
      " 3   channel_title           20523 non-null  object\n",
      " 4   category_id             20523 non-null  int64 \n",
      " 5   publish_time            20523 non-null  object\n",
      " 6   tags                    20523 non-null  object\n",
      " 7   views                   20523 non-null  int64 \n",
      " 8   likes                   20523 non-null  int64 \n",
      " 9   dislikes                20523 non-null  int64 \n",
      " 10  comment_count           20523 non-null  int64 \n",
      " 11  thumbnail_link          20523 non-null  object\n",
      " 12  comments_disabled       20523 non-null  bool  \n",
      " 13  ratings_disabled        20523 non-null  bool  \n",
      " 14  video_error_or_removed  20523 non-null  bool  \n",
      " 15  description             18399 non-null  object\n",
      "dtypes: bool(3), int64(5), object(8)\n",
      "memory usage: 2.1+ MB\n"
     ]
    }
   ],
   "source": [
    "df.info()"
   ]
  },
  {
   "cell_type": "code",
   "execution_count": 12,
   "metadata": {},
   "outputs": [],
   "source": [
    "def get_memory(df):\n",
    "  print(f\"{round(df.memory_usage().sum() / 1000000, 2)} MB\")"
   ]
  },
  {
   "cell_type": "code",
   "execution_count": 13,
   "metadata": {},
   "outputs": [
    {
     "name": "stdout",
     "output_type": "stream",
     "text": [
      "2.2 MB\n"
     ]
    }
   ],
   "source": [
    "get_memory(df)"
   ]
  },
  {
   "cell_type": "markdown",
   "metadata": {},
   "source": [
    "##### Change trending_date and publish_time to datetime type"
   ]
  },
  {
   "cell_type": "code",
   "execution_count": 14,
   "metadata": {},
   "outputs": [
    {
     "data": {
      "text/plain": [
       "dtype('<M8[ns]')"
      ]
     },
     "execution_count": 14,
     "metadata": {},
     "output_type": "execute_result"
    }
   ],
   "source": [
    "df['trending_date'] = pd.to_datetime(df['trending_date'], format='%y.%d.%m')\n",
    "df['trending_date'].dtype"
   ]
  },
  {
   "cell_type": "code",
   "execution_count": 15,
   "metadata": {},
   "outputs": [
    {
     "data": {
      "text/plain": [
       "datetime64[ns, UTC]"
      ]
     },
     "execution_count": 15,
     "metadata": {},
     "output_type": "execute_result"
    }
   ],
   "source": [
    "df['publish_time'] = pd.to_datetime(df['publish_time'])\n",
    "df['publish_time'].dtype"
   ]
  },
  {
   "cell_type": "code",
   "execution_count": 16,
   "metadata": {
    "scrolled": true
   },
   "outputs": [
    {
     "name": "stdout",
     "output_type": "stream",
     "text": [
      "<class 'pandas.core.frame.DataFrame'>\n",
      "RangeIndex: 20523 entries, 0 to 20522\n",
      "Data columns (total 16 columns):\n",
      " #   Column                  Non-Null Count  Dtype              \n",
      "---  ------                  --------------  -----              \n",
      " 0   video_id                20523 non-null  object             \n",
      " 1   trending_date           20523 non-null  datetime64[ns]     \n",
      " 2   title                   20523 non-null  object             \n",
      " 3   channel_title           20523 non-null  object             \n",
      " 4   category_id             20523 non-null  int64              \n",
      " 5   publish_time            20523 non-null  datetime64[ns, UTC]\n",
      " 6   tags                    20523 non-null  object             \n",
      " 7   views                   20523 non-null  int64              \n",
      " 8   likes                   20523 non-null  int64              \n",
      " 9   dislikes                20523 non-null  int64              \n",
      " 10  comment_count           20523 non-null  int64              \n",
      " 11  thumbnail_link          20523 non-null  object             \n",
      " 12  comments_disabled       20523 non-null  bool               \n",
      " 13  ratings_disabled        20523 non-null  bool               \n",
      " 14  video_error_or_removed  20523 non-null  bool               \n",
      " 15  description             18399 non-null  object             \n",
      "dtypes: bool(3), datetime64[ns, UTC](1), datetime64[ns](1), int64(5), object(6)\n",
      "memory usage: 2.1+ MB\n"
     ]
    }
   ],
   "source": [
    "df.info()"
   ]
  },
  {
   "cell_type": "markdown",
   "metadata": {},
   "source": [
    "##### Check potential category-type columns"
   ]
  },
  {
   "cell_type": "code",
   "execution_count": 17,
   "metadata": {
    "scrolled": true
   },
   "outputs": [
    {
     "name": "stdout",
     "output_type": "stream",
     "text": [
      "15 \n",
      " [25  1 28 22 23 19 15 24 26  2 17 29 10 20 27]\n",
      "8761 \n",
      " ['事故|\"佐賀\"|\"佐賀県\"|\"ヘリコプター\"|\"ヘリ\"|\"自衛隊\"|\"墜落\"|\"落下\"|\"現場\"|\"神埼市\"|\"ドライブレコーダー\"'\n",
      " '[none]' 'アシタノワダイ' ...\n",
      " 'ポケモンgo|\"ポケモン\"|\"GO\"|\"はつだ\"|\"はっちゃんねる\"|\"実況\"|\"攻略\"|\"最新\"|\"情報\"|\"ガチャ\"|\"はじめ\"|\"しゃちょー\"|\"カイオーガ\"|\"色違い\"|\"紫\"|\"確率\"|\"コイキング\"|\"金\"|\"対策\"|\"個体値\"|\"cp\"|\"max\"|\"マックス\"|\"連\"'\n",
      " 'nepali comedy video|\"nepali comedy serial\"|\"nepali funny drama\"|\"nepali serial\"|\"nepali serial drama\"|\"nepali serial comedy\"|\"nepali comedy drama\"|\"nepali social serial\"|\"harke haldar\"|\"harke haldar latest\"|\"harke haldar this week\"|\"harke haldar new episode\"|\"comedy\"|\"nepali\"|\"drama\"|\"serial\"|\"nepali society\"|\"entertainment\"|\"risani maaf\"|\"kantipur tv\"|\"kantipur television\"|\"kantipur hd\"|\"kantipur tv live\"|\"ekantipur\"|\"ek channel\"|\"episode 371\"|\"harke haldar episode 371\"'\n",
      " 'おこぷれ|\"おこさまぷれ〜と。\"|\"YouTuber\"|\"JK\"|\"女子高生\"|\"おこさまぷれーとお子様プレート\"|\"お子様ぷれーと\"|\"あるある\"|\"アイドル\"|\"BYS\"|\"BIS\"|\"BISH\"|\"プー・ルイ\"|\"ういぽん\"|\"のぞみ\"']\n"
     ]
    }
   ],
   "source": [
    "print(len(df['category_id'].unique()), '\\n', df['category_id'].unique())\n",
    "print(len(df['tags'].unique()), '\\n', df['tags'].unique())"
   ]
  },
  {
   "cell_type": "markdown",
   "metadata": {},
   "source": [
    "##### Change suitable columns into category type"
   ]
  },
  {
   "cell_type": "code",
   "execution_count": 18,
   "metadata": {},
   "outputs": [
    {
     "name": "stdout",
     "output_type": "stream",
     "text": [
      "category_id new type:  category\n",
      "tags new type:  category\n"
     ]
    }
   ],
   "source": [
    "df['category_id'] = df['category_id'].astype('category')\n",
    "print('category_id new type: ', df['category_id'].dtype)\n",
    "\n",
    "df['tags'] = df['tags'].astype('category')\n",
    "print('tags new type: ', df['tags'].dtype)"
   ]
  },
  {
   "cell_type": "markdown",
   "metadata": {},
   "source": [
    "##### Check for smaller types of numeric columns"
   ]
  },
  {
   "cell_type": "code",
   "execution_count": 19,
   "metadata": {
    "scrolled": true
   },
   "outputs": [
    {
     "name": "stdout",
     "output_type": "stream",
     "text": [
      "views: max =  62796390 ; min =  798  ORIGINAL TYPE:  int64\n",
      "likes: max =  4470923 ; min =  0  ORIGINAL TYPE:  int64\n",
      "dislikes: max =  119053 ; min =  0  ORIGINAL TYPE:  int64\n",
      "comment_count: max =  905925 ; min =  0  ORIGINAL TYPE:  int64\n"
     ]
    }
   ],
   "source": [
    "print('views: max = ', df['views'].max(), '; min = ', df['views'].min(), ' ORIGINAL TYPE: ', df['views'].dtype)\n",
    "print('likes: max = ', df['likes'].max(), '; min = ', df['likes'].min(), ' ORIGINAL TYPE: ', df['likes'].dtype)\n",
    "print('dislikes: max = ', df['dislikes'].max(), '; min = ', df['dislikes'].min(), ' ORIGINAL TYPE: ', df['dislikes'].dtype)\n",
    "print('comment_count: max = ', df['comment_count'].max(), '; min = ', df['comment_count'].min(), ' ORIGINAL TYPE: ', df['comment_count'].dtype)"
   ]
  },
  {
   "cell_type": "markdown",
   "metadata": {},
   "source": [
    "##### => All numeric columns fit with int64."
   ]
  },
  {
   "cell_type": "markdown",
   "metadata": {},
   "source": [
    "#### New memory usage after converting types:"
   ]
  },
  {
   "cell_type": "code",
   "execution_count": 20,
   "metadata": {},
   "outputs": [
    {
     "name": "stdout",
     "output_type": "stream",
     "text": [
      "2.26 MB\n"
     ]
    }
   ],
   "source": [
    "get_memory(df)"
   ]
  },
  {
   "cell_type": "markdown",
   "metadata": {},
   "source": [
    "##### => Columns that are changed from object to datetime type consumes more memory."
   ]
  },
  {
   "cell_type": "markdown",
   "metadata": {},
   "source": [
    "##### Missing Data"
   ]
  },
  {
   "cell_type": "code",
   "execution_count": 21,
   "metadata": {},
   "outputs": [
    {
     "data": {
      "text/plain": [
       "video_id                  False\n",
       "trending_date             False\n",
       "title                     False\n",
       "channel_title             False\n",
       "category_id               False\n",
       "publish_time              False\n",
       "tags                      False\n",
       "views                     False\n",
       "likes                     False\n",
       "dislikes                  False\n",
       "comment_count             False\n",
       "thumbnail_link            False\n",
       "comments_disabled         False\n",
       "ratings_disabled          False\n",
       "video_error_or_removed    False\n",
       "description                True\n",
       "dtype: bool"
      ]
     },
     "execution_count": 21,
     "metadata": {},
     "output_type": "execute_result"
    }
   ],
   "source": [
    "df.isnull().any()"
   ]
  },
  {
   "cell_type": "code",
   "execution_count": 22,
   "metadata": {
    "scrolled": true
   },
   "outputs": [
    {
     "data": {
      "text/plain": [
       "video_id                     0\n",
       "trending_date                0\n",
       "title                        0\n",
       "channel_title                0\n",
       "category_id                  0\n",
       "publish_time                 0\n",
       "tags                         0\n",
       "views                        0\n",
       "likes                        0\n",
       "dislikes                     0\n",
       "comment_count                0\n",
       "thumbnail_link               0\n",
       "comments_disabled            0\n",
       "ratings_disabled             0\n",
       "video_error_or_removed       0\n",
       "description               2124\n",
       "dtype: int64"
      ]
     },
     "execution_count": 22,
     "metadata": {},
     "output_type": "execute_result"
    }
   ],
   "source": [
    "df.isnull().sum()"
   ]
  },
  {
   "cell_type": "markdown",
   "metadata": {},
   "source": [
    "##### => Description of some videos might be empty, but it is OK. So I don't need to deal with missing data in this situationn."
   ]
  },
  {
   "cell_type": "markdown",
   "metadata": {},
   "source": [
    "##### Data Inconsistencies"
   ]
  },
  {
   "cell_type": "code",
   "execution_count": 23,
   "metadata": {},
   "outputs": [
    {
     "name": "stdout",
     "output_type": "stream",
     "text": [
      "<class 'pandas.core.frame.DataFrame'>\n",
      "RangeIndex: 20523 entries, 0 to 20522\n",
      "Data columns (total 16 columns):\n",
      " #   Column                  Non-Null Count  Dtype              \n",
      "---  ------                  --------------  -----              \n",
      " 0   video_id                20523 non-null  object             \n",
      " 1   trending_date           20523 non-null  datetime64[ns]     \n",
      " 2   title                   20523 non-null  object             \n",
      " 3   channel_title           20523 non-null  object             \n",
      " 4   category_id             20523 non-null  category           \n",
      " 5   publish_time            20523 non-null  datetime64[ns, UTC]\n",
      " 6   tags                    20523 non-null  category           \n",
      " 7   views                   20523 non-null  int64              \n",
      " 8   likes                   20523 non-null  int64              \n",
      " 9   dislikes                20523 non-null  int64              \n",
      " 10  comment_count           20523 non-null  int64              \n",
      " 11  thumbnail_link          20523 non-null  object             \n",
      " 12  comments_disabled       20523 non-null  bool               \n",
      " 13  ratings_disabled        20523 non-null  bool               \n",
      " 14  video_error_or_removed  20523 non-null  bool               \n",
      " 15  description             18399 non-null  object             \n",
      "dtypes: bool(3), category(2), datetime64[ns, UTC](1), datetime64[ns](1), int64(4), object(5)\n",
      "memory usage: 2.2+ MB\n"
     ]
    }
   ],
   "source": [
    "df.info()"
   ]
  },
  {
   "cell_type": "markdown",
   "metadata": {},
   "source": [
    "##### Check datetime columnns"
   ]
  },
  {
   "cell_type": "code",
   "execution_count": 24,
   "metadata": {
    "scrolled": true
   },
   "outputs": [
    {
     "name": "stdout",
     "output_type": "stream",
     "text": [
      "Year:  count    20523.0\n",
      "mean      2018.0\n",
      "std          0.0\n",
      "min       2018.0\n",
      "25%       2018.0\n",
      "50%       2018.0\n",
      "75%       2018.0\n",
      "max       2018.0\n",
      "Name: trending_date, dtype: float64 \n",
      "\n",
      "Month:  count    20523.000000\n",
      "mean         3.851435\n",
      "std          1.286584\n",
      "min          2.000000\n",
      "25%          3.000000\n",
      "50%          4.000000\n",
      "75%          5.000000\n",
      "max          6.000000\n",
      "Name: trending_date, dtype: float64 \n",
      "\n",
      "Day:  count    20523.000000\n",
      "mean        15.423281\n",
      "std          8.745645\n",
      "min          1.000000\n",
      "25%          8.000000\n",
      "50%         15.000000\n",
      "75%         23.000000\n",
      "max         31.000000\n",
      "Name: trending_date, dtype: float64 \n",
      "\n"
     ]
    }
   ],
   "source": [
    "print('Year: ', df['trending_date'].dt.year.describe(), '\\n')\n",
    "print('Month: ', df['trending_date'].dt.month.describe(), '\\n')\n",
    "print('Day: ', df['trending_date'].dt.day.describe(), '\\n')"
   ]
  },
  {
   "cell_type": "code",
   "execution_count": 25,
   "metadata": {},
   "outputs": [
    {
     "name": "stdout",
     "output_type": "stream",
     "text": [
      "Year:  count    20523.000000\n",
      "mean      2017.999610\n",
      "std          0.031216\n",
      "min       2015.000000\n",
      "25%       2018.000000\n",
      "50%       2018.000000\n",
      "75%       2018.000000\n",
      "max       2018.000000\n",
      "Name: publish_time, dtype: float64 \n",
      "\n",
      "Month:  count    20523.000000\n",
      "mean         3.810846\n",
      "std          1.279666\n",
      "min          1.000000\n",
      "25%          3.000000\n",
      "50%          4.000000\n",
      "75%          5.000000\n",
      "max         11.000000\n",
      "Name: publish_time, dtype: float64 \n",
      "\n",
      "Day:  count    20523.000000\n",
      "mean        15.374750\n",
      "std          8.765644\n",
      "min          1.000000\n",
      "25%          8.000000\n",
      "50%         15.000000\n",
      "75%         23.000000\n",
      "max         31.000000\n",
      "Name: publish_time, dtype: float64 \n",
      "\n",
      "Hour:  count    20523.000000\n",
      "mean        10.718365\n",
      "std          5.610172\n",
      "min          0.000000\n",
      "25%          8.000000\n",
      "50%         10.000000\n",
      "75%         14.000000\n",
      "max         23.000000\n",
      "Name: publish_time, dtype: float64 \n",
      "\n",
      "Minute:  count    20523.000000\n",
      "mean        21.132437\n",
      "std         19.418262\n",
      "min          0.000000\n",
      "25%          0.000000\n",
      "50%         18.000000\n",
      "75%         37.000000\n",
      "max         59.000000\n",
      "Name: publish_time, dtype: float64 \n",
      "\n",
      "Second:  count    20523.000000\n",
      "mean        21.615407\n",
      "std         19.147468\n",
      "min          0.000000\n",
      "25%          3.000000\n",
      "50%         17.000000\n",
      "75%         38.000000\n",
      "max         59.000000\n",
      "Name: publish_time, dtype: float64 \n",
      "\n"
     ]
    }
   ],
   "source": [
    "print('Year: ', df['publish_time'].dt.year.describe(), '\\n')\n",
    "print('Month: ', df['publish_time'].dt.month.describe(), '\\n')\n",
    "print('Day: ', df['publish_time'].dt.day.describe(), '\\n')\n",
    "print('Hour: ', df['publish_time'].dt.hour.describe(), '\\n')\n",
    "print('Minute: ', df['publish_time'].dt.minute.describe(), '\\n')\n",
    "print('Second: ', df['publish_time'].dt.second.describe(), '\\n')"
   ]
  },
  {
   "cell_type": "markdown",
   "metadata": {},
   "source": [
    "##### Datetime columns: OK"
   ]
  },
  {
   "cell_type": "code",
   "execution_count": 26,
   "metadata": {
    "scrolled": true
   },
   "outputs": [
    {
     "data": {
      "text/html": [
       "<div>\n",
       "<style scoped>\n",
       "    .dataframe tbody tr th:only-of-type {\n",
       "        vertical-align: middle;\n",
       "    }\n",
       "\n",
       "    .dataframe tbody tr th {\n",
       "        vertical-align: top;\n",
       "    }\n",
       "\n",
       "    .dataframe thead th {\n",
       "        text-align: right;\n",
       "    }\n",
       "</style>\n",
       "<table border=\"1\" class=\"dataframe\">\n",
       "  <thead>\n",
       "    <tr style=\"text-align: right;\">\n",
       "      <th></th>\n",
       "      <th>video_id</th>\n",
       "      <th>trending_date</th>\n",
       "      <th>title</th>\n",
       "      <th>channel_title</th>\n",
       "      <th>category_id</th>\n",
       "      <th>publish_time</th>\n",
       "      <th>tags</th>\n",
       "      <th>views</th>\n",
       "      <th>likes</th>\n",
       "      <th>dislikes</th>\n",
       "      <th>comment_count</th>\n",
       "      <th>thumbnail_link</th>\n",
       "      <th>comments_disabled</th>\n",
       "      <th>ratings_disabled</th>\n",
       "      <th>video_error_or_removed</th>\n",
       "      <th>description</th>\n",
       "    </tr>\n",
       "  </thead>\n",
       "  <tbody>\n",
       "    <tr>\n",
       "      <th>32</th>\n",
       "      <td>5ugKfHgsmYw</td>\n",
       "      <td>2018-02-07</td>\n",
       "      <td>陸自ヘリ、垂直に落下＝路上の車が撮影</td>\n",
       "      <td>時事通信映像センター</td>\n",
       "      <td>25</td>\n",
       "      <td>2018-02-06 03:04:37+00:00</td>\n",
       "      <td>事故|\"佐賀\"|\"佐賀県\"|\"ヘリコプター\"|\"ヘリ\"|\"自衛隊\"|\"墜落\"|\"落下\"|\"現...</td>\n",
       "      <td>188085</td>\n",
       "      <td>591</td>\n",
       "      <td>189</td>\n",
       "      <td>0</td>\n",
       "      <td>https://i.ytimg.com/vi/5ugKfHgsmYw/default.jpg</td>\n",
       "      <td>True</td>\n",
       "      <td>False</td>\n",
       "      <td>False</td>\n",
       "      <td>佐賀県神埼市の民家に墜落した陸上自衛隊のＡＨ６４Ｄ戦闘ヘリコプターが垂直に落下する様子を、近...</td>\n",
       "    </tr>\n",
       "    <tr>\n",
       "      <th>33</th>\n",
       "      <td>ohObafdd34Y</td>\n",
       "      <td>2018-02-07</td>\n",
       "      <td>イッテQ お祭り男宮川×手越 巨大ブランコ②</td>\n",
       "      <td>神谷えりな Kamiya Erina 2</td>\n",
       "      <td>1</td>\n",
       "      <td>2018-02-06 04:01:56+00:00</td>\n",
       "      <td>[none]</td>\n",
       "      <td>90929</td>\n",
       "      <td>442</td>\n",
       "      <td>88</td>\n",
       "      <td>174</td>\n",
       "      <td>https://i.ytimg.com/vi/ohObafdd34Y/default.jpg</td>\n",
       "      <td>False</td>\n",
       "      <td>False</td>\n",
       "      <td>False</td>\n",
       "      <td>NaN</td>\n",
       "    </tr>\n",
       "    <tr>\n",
       "      <th>34</th>\n",
       "      <td>aBr2kKAHN6M</td>\n",
       "      <td>2018-02-07</td>\n",
       "      <td>Live Views of Starman</td>\n",
       "      <td>SpaceX</td>\n",
       "      <td>28</td>\n",
       "      <td>2018-02-06 21:38:22+00:00</td>\n",
       "      <td>[none]</td>\n",
       "      <td>6408303</td>\n",
       "      <td>165892</td>\n",
       "      <td>2331</td>\n",
       "      <td>3006</td>\n",
       "      <td>https://i.ytimg.com/vi/aBr2kKAHN6M/default.jpg</td>\n",
       "      <td>False</td>\n",
       "      <td>False</td>\n",
       "      <td>False</td>\n",
       "      <td>NaN</td>\n",
       "    </tr>\n",
       "    <tr>\n",
       "      <th>35</th>\n",
       "      <td>B7J47qFvdsk</td>\n",
       "      <td>2018-02-07</td>\n",
       "      <td>榮倉奈々、衝撃の死んだふり！映画『家に帰ると妻が必ず死んだふりをしています。』特報</td>\n",
       "      <td>シネマトゥデイ</td>\n",
       "      <td>1</td>\n",
       "      <td>2018-02-06 02:30:00+00:00</td>\n",
       "      <td>[none]</td>\n",
       "      <td>108408</td>\n",
       "      <td>1336</td>\n",
       "      <td>74</td>\n",
       "      <td>201</td>\n",
       "      <td>https://i.ytimg.com/vi/B7J47qFvdsk/default.jpg</td>\n",
       "      <td>False</td>\n",
       "      <td>False</td>\n",
       "      <td>False</td>\n",
       "      <td>家に帰ってきたサラリーマンのじゅん（安田顕）は、玄関で血を出して倒れている妻ちえ（榮倉奈々）...</td>\n",
       "    </tr>\n",
       "    <tr>\n",
       "      <th>36</th>\n",
       "      <td>5wNnwChvmsQ</td>\n",
       "      <td>2018-02-07</td>\n",
       "      <td>東京ディズニーリゾートの元キャストが暴露した秘密5選</td>\n",
       "      <td>アシタノワダイ</td>\n",
       "      <td>25</td>\n",
       "      <td>2018-02-06 06:08:49+00:00</td>\n",
       "      <td>アシタノワダイ</td>\n",
       "      <td>96255</td>\n",
       "      <td>1165</td>\n",
       "      <td>277</td>\n",
       "      <td>545</td>\n",
       "      <td>https://i.ytimg.com/vi/5wNnwChvmsQ/default.jpg</td>\n",
       "      <td>False</td>\n",
       "      <td>False</td>\n",
       "      <td>False</td>\n",
       "      <td>東京ディズニーリゾートの元キャストが暴露した秘密5選\\n\\nかたまりクリエイトさま\\n【検証...</td>\n",
       "    </tr>\n",
       "    <tr>\n",
       "      <th>...</th>\n",
       "      <td>...</td>\n",
       "      <td>...</td>\n",
       "      <td>...</td>\n",
       "      <td>...</td>\n",
       "      <td>...</td>\n",
       "      <td>...</td>\n",
       "      <td>...</td>\n",
       "      <td>...</td>\n",
       "      <td>...</td>\n",
       "      <td>...</td>\n",
       "      <td>...</td>\n",
       "      <td>...</td>\n",
       "      <td>...</td>\n",
       "      <td>...</td>\n",
       "      <td>...</td>\n",
       "      <td>...</td>\n",
       "    </tr>\n",
       "    <tr>\n",
       "      <th>20518</th>\n",
       "      <td>GuWCkLnCMOo</td>\n",
       "      <td>2018-06-14</td>\n",
       "      <td>หนึ่งด้าวฟ้าเดียว NeungDaoFahDeaw EP.15 ตอนที่...</td>\n",
       "      <td>Ch3Thailand</td>\n",
       "      <td>24</td>\n",
       "      <td>2018-06-13 17:00:01+00:00</td>\n",
       "      <td>หนึ่งด้าวฟ้าเดียว|\"NeungDaoFahDeaw\"|\"เจมส์ จิร...</td>\n",
       "      <td>81321</td>\n",
       "      <td>321</td>\n",
       "      <td>17</td>\n",
       "      <td>61</td>\n",
       "      <td>https://i.ytimg.com/vi/GuWCkLnCMOo/default.jpg</td>\n",
       "      <td>False</td>\n",
       "      <td>False</td>\n",
       "      <td>False</td>\n",
       "      <td>หลังจบละครทางหน้าจอทีวี สามารถรับชมได้อีกครั้ง...</td>\n",
       "    </tr>\n",
       "    <tr>\n",
       "      <th>20519</th>\n",
       "      <td>nOUlB0i2MaA</td>\n",
       "      <td>2018-06-14</td>\n",
       "      <td>2018 국민의 선택 - 선거방송 '왕의 귀환' 12시간 연속 생중계! (풀영상) ...</td>\n",
       "      <td>SBS 뉴스</td>\n",
       "      <td>25</td>\n",
       "      <td>2018-06-13 19:10:31+00:00</td>\n",
       "      <td>뉴스|\"NEWS\"|\"news\"|\"SBS\"|\"sbs\"|\"SBS NEWS\"|\"SBS8N...</td>\n",
       "      <td>433188</td>\n",
       "      <td>0</td>\n",
       "      <td>0</td>\n",
       "      <td>175</td>\n",
       "      <td>https://i.ytimg.com/vi/nOUlB0i2MaA/default.jpg</td>\n",
       "      <td>False</td>\n",
       "      <td>True</td>\n",
       "      <td>False</td>\n",
       "      <td>'선거방송의 명가' SBS가 온다! SBS가 제 7회 전국동시지방선거(6·13 지방...</td>\n",
       "    </tr>\n",
       "    <tr>\n",
       "      <th>20520</th>\n",
       "      <td>4cRanIowkTE</td>\n",
       "      <td>2018-06-14</td>\n",
       "      <td>元FBIエージェントが教える、200％人を引き付けるようになるコツ、トップ10</td>\n",
       "      <td>ブライトサイド | Bright Side Japan</td>\n",
       "      <td>26</td>\n",
       "      <td>2018-06-13 14:00:02+00:00</td>\n",
       "      <td>人々を魅了する方法|\"魅力的になるには\"|\"成功の秘訣\"|\"簡単なトリック\"|\"人から好かれ...</td>\n",
       "      <td>39235</td>\n",
       "      <td>1194</td>\n",
       "      <td>27</td>\n",
       "      <td>46</td>\n",
       "      <td>https://i.ytimg.com/vi/4cRanIowkTE/default.jpg</td>\n",
       "      <td>False</td>\n",
       "      <td>False</td>\n",
       "      <td>False</td>\n",
       "      <td>元FBIエージェント、ジャック･シェーファー医師が明かす、人に200％魅力的に見せるトリック...</td>\n",
       "    </tr>\n",
       "    <tr>\n",
       "      <th>20521</th>\n",
       "      <td>oLtWIVBVoS8</td>\n",
       "      <td>2018-06-14</td>\n",
       "      <td>日本×パラグアイ徹底分析&amp;スペイン代表監督解任事件を解説【トークtheフットボール】#683</td>\n",
       "      <td>Leo the football TV</td>\n",
       "      <td>17</td>\n",
       "      <td>2018-06-13 13:56:47+00:00</td>\n",
       "      <td>W杯|\"ワールドカップ\"|\"蹴球\"|\"思想家\"|\"ラジオ\"|\"ナポリ\"|\"ライプツィヒ\"|\"...</td>\n",
       "      <td>49900</td>\n",
       "      <td>431</td>\n",
       "      <td>66</td>\n",
       "      <td>336</td>\n",
       "      <td>https://i.ytimg.com/vi/oLtWIVBVoS8/default.jpg</td>\n",
       "      <td>False</td>\n",
       "      <td>False</td>\n",
       "      <td>False</td>\n",
       "      <td>「２０１８Ｗ杯ロシア大会日本代表戦ライヴイベント」日本代表のグループリーグ３試合をLeo t...</td>\n",
       "    </tr>\n",
       "    <tr>\n",
       "      <th>20522</th>\n",
       "      <td>2IEWv23oa9E</td>\n",
       "      <td>2018-06-14</td>\n",
       "      <td>エサのコオロギに夢中で二本足で立つカメレオン</td>\n",
       "      <td>釣りよかHOUSE</td>\n",
       "      <td>24</td>\n",
       "      <td>2018-06-13 09:00:00+00:00</td>\n",
       "      <td>よーらい|\"佐賀よかでしょう\"|\"釣りよかでしょう\"|\"釣り\"</td>\n",
       "      <td>46265</td>\n",
       "      <td>816</td>\n",
       "      <td>40</td>\n",
       "      <td>59</td>\n",
       "      <td>https://i.ytimg.com/vi/2IEWv23oa9E/default.jpg</td>\n",
       "      <td>False</td>\n",
       "      <td>False</td>\n",
       "      <td>False</td>\n",
       "      <td>使用した物https://amzn.to/2JwOEPGメインチャンネル　釣りよかでしょうh...</td>\n",
       "    </tr>\n",
       "  </tbody>\n",
       "</table>\n",
       "<p>5677 rows × 16 columns</p>\n",
       "</div>"
      ],
      "text/plain": [
       "          video_id trending_date  \\\n",
       "32     5ugKfHgsmYw    2018-02-07   \n",
       "33     ohObafdd34Y    2018-02-07   \n",
       "34     aBr2kKAHN6M    2018-02-07   \n",
       "35     B7J47qFvdsk    2018-02-07   \n",
       "36     5wNnwChvmsQ    2018-02-07   \n",
       "...            ...           ...   \n",
       "20518  GuWCkLnCMOo    2018-06-14   \n",
       "20519  nOUlB0i2MaA    2018-06-14   \n",
       "20520  4cRanIowkTE    2018-06-14   \n",
       "20521  oLtWIVBVoS8    2018-06-14   \n",
       "20522  2IEWv23oa9E    2018-06-14   \n",
       "\n",
       "                                                   title  \\\n",
       "32                                    陸自ヘリ、垂直に落下＝路上の車が撮影   \n",
       "33                                イッテQ お祭り男宮川×手越 巨大ブランコ②   \n",
       "34                                 Live Views of Starman   \n",
       "35             榮倉奈々、衝撃の死んだふり！映画『家に帰ると妻が必ず死んだふりをしています。』特報   \n",
       "36                            東京ディズニーリゾートの元キャストが暴露した秘密5選   \n",
       "...                                                  ...   \n",
       "20518  หนึ่งด้าวฟ้าเดียว NeungDaoFahDeaw EP.15 ตอนที่...   \n",
       "20519  2018 국민의 선택 - 선거방송 '왕의 귀환' 12시간 연속 생중계! (풀영상) ...   \n",
       "20520            元FBIエージェントが教える、200％人を引き付けるようになるコツ、トップ10   \n",
       "20521     日本×パラグアイ徹底分析&スペイン代表監督解任事件を解説【トークtheフットボール】#683   \n",
       "20522                             エサのコオロギに夢中で二本足で立つカメレオン   \n",
       "\n",
       "                     channel_title category_id              publish_time  \\\n",
       "32                      時事通信映像センター          25 2018-02-06 03:04:37+00:00   \n",
       "33            神谷えりな Kamiya Erina 2           1 2018-02-06 04:01:56+00:00   \n",
       "34                          SpaceX          28 2018-02-06 21:38:22+00:00   \n",
       "35                         シネマトゥデイ           1 2018-02-06 02:30:00+00:00   \n",
       "36                         アシタノワダイ          25 2018-02-06 06:08:49+00:00   \n",
       "...                            ...         ...                       ...   \n",
       "20518                  Ch3Thailand          24 2018-06-13 17:00:01+00:00   \n",
       "20519                       SBS 뉴스          25 2018-06-13 19:10:31+00:00   \n",
       "20520  ブライトサイド | Bright Side Japan          26 2018-06-13 14:00:02+00:00   \n",
       "20521          Leo the football TV          17 2018-06-13 13:56:47+00:00   \n",
       "20522                    釣りよかHOUSE          24 2018-06-13 09:00:00+00:00   \n",
       "\n",
       "                                                    tags    views   likes  \\\n",
       "32     事故|\"佐賀\"|\"佐賀県\"|\"ヘリコプター\"|\"ヘリ\"|\"自衛隊\"|\"墜落\"|\"落下\"|\"現...   188085     591   \n",
       "33                                                [none]    90929     442   \n",
       "34                                                [none]  6408303  165892   \n",
       "35                                                [none]   108408    1336   \n",
       "36                                               アシタノワダイ    96255    1165   \n",
       "...                                                  ...      ...     ...   \n",
       "20518  หนึ่งด้าวฟ้าเดียว|\"NeungDaoFahDeaw\"|\"เจมส์ จิร...    81321     321   \n",
       "20519  뉴스|\"NEWS\"|\"news\"|\"SBS\"|\"sbs\"|\"SBS NEWS\"|\"SBS8N...   433188       0   \n",
       "20520  人々を魅了する方法|\"魅力的になるには\"|\"成功の秘訣\"|\"簡単なトリック\"|\"人から好かれ...    39235    1194   \n",
       "20521  W杯|\"ワールドカップ\"|\"蹴球\"|\"思想家\"|\"ラジオ\"|\"ナポリ\"|\"ライプツィヒ\"|\"...    49900     431   \n",
       "20522                    よーらい|\"佐賀よかでしょう\"|\"釣りよかでしょう\"|\"釣り\"    46265     816   \n",
       "\n",
       "       dislikes  comment_count  \\\n",
       "32          189              0   \n",
       "33           88            174   \n",
       "34         2331           3006   \n",
       "35           74            201   \n",
       "36          277            545   \n",
       "...         ...            ...   \n",
       "20518        17             61   \n",
       "20519         0            175   \n",
       "20520        27             46   \n",
       "20521        66            336   \n",
       "20522        40             59   \n",
       "\n",
       "                                       thumbnail_link  comments_disabled  \\\n",
       "32     https://i.ytimg.com/vi/5ugKfHgsmYw/default.jpg               True   \n",
       "33     https://i.ytimg.com/vi/ohObafdd34Y/default.jpg              False   \n",
       "34     https://i.ytimg.com/vi/aBr2kKAHN6M/default.jpg              False   \n",
       "35     https://i.ytimg.com/vi/B7J47qFvdsk/default.jpg              False   \n",
       "36     https://i.ytimg.com/vi/5wNnwChvmsQ/default.jpg              False   \n",
       "...                                               ...                ...   \n",
       "20518  https://i.ytimg.com/vi/GuWCkLnCMOo/default.jpg              False   \n",
       "20519  https://i.ytimg.com/vi/nOUlB0i2MaA/default.jpg              False   \n",
       "20520  https://i.ytimg.com/vi/4cRanIowkTE/default.jpg              False   \n",
       "20521  https://i.ytimg.com/vi/oLtWIVBVoS8/default.jpg              False   \n",
       "20522  https://i.ytimg.com/vi/2IEWv23oa9E/default.jpg              False   \n",
       "\n",
       "       ratings_disabled  video_error_or_removed  \\\n",
       "32                False                   False   \n",
       "33                False                   False   \n",
       "34                False                   False   \n",
       "35                False                   False   \n",
       "36                False                   False   \n",
       "...                 ...                     ...   \n",
       "20518             False                   False   \n",
       "20519              True                   False   \n",
       "20520             False                   False   \n",
       "20521             False                   False   \n",
       "20522             False                   False   \n",
       "\n",
       "                                             description  \n",
       "32     佐賀県神埼市の民家に墜落した陸上自衛隊のＡＨ６４Ｄ戦闘ヘリコプターが垂直に落下する様子を、近...  \n",
       "33                                                   NaN  \n",
       "34                                                   NaN  \n",
       "35     家に帰ってきたサラリーマンのじゅん（安田顕）は、玄関で血を出して倒れている妻ちえ（榮倉奈々）...  \n",
       "36     東京ディズニーリゾートの元キャストが暴露した秘密5選\\n\\nかたまりクリエイトさま\\n【検証...  \n",
       "...                                                  ...  \n",
       "20518  หลังจบละครทางหน้าจอทีวี สามารถรับชมได้อีกครั้ง...  \n",
       "20519  '선거방송의 명가' SBS가 온다! SBS가 제 7회 전국동시지방선거(6·13 지방...  \n",
       "20520  元FBIエージェント、ジャック･シェーファー医師が明かす、人に200％魅力的に見せるトリック...  \n",
       "20521  「２０１８Ｗ杯ロシア大会日本代表戦ライヴイベント」日本代表のグループリーグ３試合をLeo t...  \n",
       "20522  使用した物https://amzn.to/2JwOEPGメインチャンネル　釣りよかでしょうh...  \n",
       "\n",
       "[5677 rows x 16 columns]"
      ]
     },
     "execution_count": 26,
     "metadata": {},
     "output_type": "execute_result"
    }
   ],
   "source": [
    "df[df.duplicated()]"
   ]
  },
  {
   "cell_type": "markdown",
   "metadata": {},
   "source": [
    "##### => There are duplicated rows -> delete."
   ]
  },
  {
   "cell_type": "code",
   "execution_count": 27,
   "metadata": {},
   "outputs": [
    {
     "data": {
      "text/html": [
       "<div>\n",
       "<style scoped>\n",
       "    .dataframe tbody tr th:only-of-type {\n",
       "        vertical-align: middle;\n",
       "    }\n",
       "\n",
       "    .dataframe tbody tr th {\n",
       "        vertical-align: top;\n",
       "    }\n",
       "\n",
       "    .dataframe thead th {\n",
       "        text-align: right;\n",
       "    }\n",
       "</style>\n",
       "<table border=\"1\" class=\"dataframe\">\n",
       "  <thead>\n",
       "    <tr style=\"text-align: right;\">\n",
       "      <th></th>\n",
       "      <th>video_id</th>\n",
       "      <th>trending_date</th>\n",
       "      <th>title</th>\n",
       "      <th>channel_title</th>\n",
       "      <th>category_id</th>\n",
       "      <th>publish_time</th>\n",
       "      <th>tags</th>\n",
       "      <th>views</th>\n",
       "      <th>likes</th>\n",
       "      <th>dislikes</th>\n",
       "      <th>comment_count</th>\n",
       "      <th>thumbnail_link</th>\n",
       "      <th>comments_disabled</th>\n",
       "      <th>ratings_disabled</th>\n",
       "      <th>video_error_or_removed</th>\n",
       "      <th>description</th>\n",
       "    </tr>\n",
       "  </thead>\n",
       "  <tbody>\n",
       "  </tbody>\n",
       "</table>\n",
       "</div>"
      ],
      "text/plain": [
       "Empty DataFrame\n",
       "Columns: [video_id, trending_date, title, channel_title, category_id, publish_time, tags, views, likes, dislikes, comment_count, thumbnail_link, comments_disabled, ratings_disabled, video_error_or_removed, description]\n",
       "Index: []"
      ]
     },
     "execution_count": 27,
     "metadata": {},
     "output_type": "execute_result"
    }
   ],
   "source": [
    "df.drop_duplicates(inplace=True)\n",
    "df[df.duplicated()]"
   ]
  },
  {
   "cell_type": "markdown",
   "metadata": {},
   "source": [
    "##### Other columns: Don't need to be checked on Data Inconsistencies."
   ]
  },
  {
   "cell_type": "markdown",
   "metadata": {},
   "source": [
    "##### We don't need to check Outliers with this data."
   ]
  },
  {
   "cell_type": "markdown",
   "metadata": {},
   "source": [
    "#### 3. Doing EDA on your dataset"
   ]
  },
  {
   "cell_type": "markdown",
   "metadata": {},
   "source": [
    "##### Data Sampling: Choose 1000 rows to do EDA (randomly)"
   ]
  },
  {
   "cell_type": "code",
   "execution_count": 28,
   "metadata": {},
   "outputs": [],
   "source": [
    "sample = df.sample(1000)"
   ]
  },
  {
   "cell_type": "code",
   "execution_count": 29,
   "metadata": {
    "scrolled": true
   },
   "outputs": [
    {
     "data": {
      "text/plain": [
       "(1000, 16)"
      ]
     },
     "execution_count": 29,
     "metadata": {},
     "output_type": "execute_result"
    }
   ],
   "source": [
    "sample.shape"
   ]
  },
  {
   "cell_type": "code",
   "execution_count": 30,
   "metadata": {},
   "outputs": [
    {
     "data": {
      "text/html": [
       "<div>\n",
       "<style scoped>\n",
       "    .dataframe tbody tr th:only-of-type {\n",
       "        vertical-align: middle;\n",
       "    }\n",
       "\n",
       "    .dataframe tbody tr th {\n",
       "        vertical-align: top;\n",
       "    }\n",
       "\n",
       "    .dataframe thead th {\n",
       "        text-align: right;\n",
       "    }\n",
       "</style>\n",
       "<table border=\"1\" class=\"dataframe\">\n",
       "  <thead>\n",
       "    <tr style=\"text-align: right;\">\n",
       "      <th></th>\n",
       "      <th>views</th>\n",
       "      <th>likes</th>\n",
       "      <th>dislikes</th>\n",
       "      <th>comment_count</th>\n",
       "    </tr>\n",
       "  </thead>\n",
       "  <tbody>\n",
       "    <tr>\n",
       "      <th>count</th>\n",
       "      <td>1.000000e+03</td>\n",
       "      <td>1.000000e+03</td>\n",
       "      <td>1000.00000</td>\n",
       "      <td>1000.00000</td>\n",
       "    </tr>\n",
       "    <tr>\n",
       "      <th>mean</th>\n",
       "      <td>2.263859e+05</td>\n",
       "      <td>6.408772e+03</td>\n",
       "      <td>288.15200</td>\n",
       "      <td>842.86800</td>\n",
       "    </tr>\n",
       "    <tr>\n",
       "      <th>std</th>\n",
       "      <td>8.149442e+05</td>\n",
       "      <td>4.959684e+04</td>\n",
       "      <td>1539.67638</td>\n",
       "      <td>5132.95654</td>\n",
       "    </tr>\n",
       "    <tr>\n",
       "      <th>min</th>\n",
       "      <td>1.675000e+03</td>\n",
       "      <td>0.000000e+00</td>\n",
       "      <td>0.00000</td>\n",
       "      <td>0.00000</td>\n",
       "    </tr>\n",
       "    <tr>\n",
       "      <th>25%</th>\n",
       "      <td>1.544375e+04</td>\n",
       "      <td>1.137500e+02</td>\n",
       "      <td>9.00000</td>\n",
       "      <td>15.00000</td>\n",
       "    </tr>\n",
       "    <tr>\n",
       "      <th>50%</th>\n",
       "      <td>5.682950e+04</td>\n",
       "      <td>5.665000e+02</td>\n",
       "      <td>41.00000</td>\n",
       "      <td>115.00000</td>\n",
       "    </tr>\n",
       "    <tr>\n",
       "      <th>75%</th>\n",
       "      <td>1.715692e+05</td>\n",
       "      <td>2.189250e+03</td>\n",
       "      <td>174.25000</td>\n",
       "      <td>421.25000</td>\n",
       "    </tr>\n",
       "    <tr>\n",
       "      <th>max</th>\n",
       "      <td>1.587377e+07</td>\n",
       "      <td>1.386676e+06</td>\n",
       "      <td>40715.00000</td>\n",
       "      <td>141624.00000</td>\n",
       "    </tr>\n",
       "  </tbody>\n",
       "</table>\n",
       "</div>"
      ],
      "text/plain": [
       "              views         likes     dislikes  comment_count\n",
       "count  1.000000e+03  1.000000e+03   1000.00000     1000.00000\n",
       "mean   2.263859e+05  6.408772e+03    288.15200      842.86800\n",
       "std    8.149442e+05  4.959684e+04   1539.67638     5132.95654\n",
       "min    1.675000e+03  0.000000e+00      0.00000        0.00000\n",
       "25%    1.544375e+04  1.137500e+02      9.00000       15.00000\n",
       "50%    5.682950e+04  5.665000e+02     41.00000      115.00000\n",
       "75%    1.715692e+05  2.189250e+03    174.25000      421.25000\n",
       "max    1.587377e+07  1.386676e+06  40715.00000   141624.00000"
      ]
     },
     "execution_count": 30,
     "metadata": {},
     "output_type": "execute_result"
    }
   ],
   "source": [
    "sample.describe()"
   ]
  },
  {
   "cell_type": "markdown",
   "metadata": {},
   "source": [
    "##### Data normalizationn"
   ]
  },
  {
   "cell_type": "markdown",
   "metadata": {},
   "source": [
    "###### Divide each numeric columns by suitable numbers"
   ]
  },
  {
   "cell_type": "code",
   "execution_count": 31,
   "metadata": {},
   "outputs": [
    {
     "data": {
      "text/html": [
       "<div>\n",
       "<style scoped>\n",
       "    .dataframe tbody tr th:only-of-type {\n",
       "        vertical-align: middle;\n",
       "    }\n",
       "\n",
       "    .dataframe tbody tr th {\n",
       "        vertical-align: top;\n",
       "    }\n",
       "\n",
       "    .dataframe thead th {\n",
       "        text-align: right;\n",
       "    }\n",
       "</style>\n",
       "<table border=\"1\" class=\"dataframe\">\n",
       "  <thead>\n",
       "    <tr style=\"text-align: right;\">\n",
       "      <th></th>\n",
       "      <th>views</th>\n",
       "      <th>likes</th>\n",
       "      <th>dislikes</th>\n",
       "      <th>comment_count</th>\n",
       "    </tr>\n",
       "  </thead>\n",
       "  <tbody>\n",
       "    <tr>\n",
       "      <th>count</th>\n",
       "      <td>1000.000000</td>\n",
       "      <td>1000.000000</td>\n",
       "      <td>1000.000000</td>\n",
       "      <td>1000.000000</td>\n",
       "    </tr>\n",
       "    <tr>\n",
       "      <th>mean</th>\n",
       "      <td>0.226386</td>\n",
       "      <td>6.408772</td>\n",
       "      <td>0.288152</td>\n",
       "      <td>0.842868</td>\n",
       "    </tr>\n",
       "    <tr>\n",
       "      <th>std</th>\n",
       "      <td>0.814944</td>\n",
       "      <td>49.596837</td>\n",
       "      <td>1.539676</td>\n",
       "      <td>5.132957</td>\n",
       "    </tr>\n",
       "    <tr>\n",
       "      <th>min</th>\n",
       "      <td>0.001675</td>\n",
       "      <td>0.000000</td>\n",
       "      <td>0.000000</td>\n",
       "      <td>0.000000</td>\n",
       "    </tr>\n",
       "    <tr>\n",
       "      <th>25%</th>\n",
       "      <td>0.015444</td>\n",
       "      <td>0.113750</td>\n",
       "      <td>0.009000</td>\n",
       "      <td>0.015000</td>\n",
       "    </tr>\n",
       "    <tr>\n",
       "      <th>50%</th>\n",
       "      <td>0.056830</td>\n",
       "      <td>0.566500</td>\n",
       "      <td>0.041000</td>\n",
       "      <td>0.115000</td>\n",
       "    </tr>\n",
       "    <tr>\n",
       "      <th>75%</th>\n",
       "      <td>0.171569</td>\n",
       "      <td>2.189250</td>\n",
       "      <td>0.174250</td>\n",
       "      <td>0.421250</td>\n",
       "    </tr>\n",
       "    <tr>\n",
       "      <th>max</th>\n",
       "      <td>15.873773</td>\n",
       "      <td>1386.676000</td>\n",
       "      <td>40.715000</td>\n",
       "      <td>141.624000</td>\n",
       "    </tr>\n",
       "  </tbody>\n",
       "</table>\n",
       "</div>"
      ],
      "text/plain": [
       "             views        likes     dislikes  comment_count\n",
       "count  1000.000000  1000.000000  1000.000000    1000.000000\n",
       "mean      0.226386     6.408772     0.288152       0.842868\n",
       "std       0.814944    49.596837     1.539676       5.132957\n",
       "min       0.001675     0.000000     0.000000       0.000000\n",
       "25%       0.015444     0.113750     0.009000       0.015000\n",
       "50%       0.056830     0.566500     0.041000       0.115000\n",
       "75%       0.171569     2.189250     0.174250       0.421250\n",
       "max      15.873773  1386.676000    40.715000     141.624000"
      ]
     },
     "execution_count": 31,
     "metadata": {},
     "output_type": "execute_result"
    }
   ],
   "source": [
    "sample['views'] = sample['views'] / 1000000.0\n",
    "sample['likes'] = sample['likes'] / 1000.0\n",
    "sample['dislikes'] = sample['dislikes'] / 1000.0\n",
    "sample['comment_count'] = sample['comment_count'] / 1000.0\n",
    "sample.describe()"
   ]
  },
  {
   "cell_type": "code",
   "execution_count": 32,
   "metadata": {},
   "outputs": [
    {
     "data": {
      "text/html": [
       "<div>\n",
       "<style scoped>\n",
       "    .dataframe tbody tr th:only-of-type {\n",
       "        vertical-align: middle;\n",
       "    }\n",
       "\n",
       "    .dataframe tbody tr th {\n",
       "        vertical-align: top;\n",
       "    }\n",
       "\n",
       "    .dataframe thead th {\n",
       "        text-align: right;\n",
       "    }\n",
       "</style>\n",
       "<table border=\"1\" class=\"dataframe\">\n",
       "  <thead>\n",
       "    <tr style=\"text-align: right;\">\n",
       "      <th></th>\n",
       "      <th>views_M</th>\n",
       "      <th>likes_K</th>\n",
       "      <th>dislikes_K</th>\n",
       "      <th>comments_K</th>\n",
       "    </tr>\n",
       "  </thead>\n",
       "  <tbody>\n",
       "    <tr>\n",
       "      <th>count</th>\n",
       "      <td>1000.000000</td>\n",
       "      <td>1000.000000</td>\n",
       "      <td>1000.000000</td>\n",
       "      <td>1000.000000</td>\n",
       "    </tr>\n",
       "    <tr>\n",
       "      <th>mean</th>\n",
       "      <td>0.226386</td>\n",
       "      <td>6.408772</td>\n",
       "      <td>0.288152</td>\n",
       "      <td>0.842868</td>\n",
       "    </tr>\n",
       "    <tr>\n",
       "      <th>std</th>\n",
       "      <td>0.814944</td>\n",
       "      <td>49.596837</td>\n",
       "      <td>1.539676</td>\n",
       "      <td>5.132957</td>\n",
       "    </tr>\n",
       "    <tr>\n",
       "      <th>min</th>\n",
       "      <td>0.001675</td>\n",
       "      <td>0.000000</td>\n",
       "      <td>0.000000</td>\n",
       "      <td>0.000000</td>\n",
       "    </tr>\n",
       "    <tr>\n",
       "      <th>25%</th>\n",
       "      <td>0.015444</td>\n",
       "      <td>0.113750</td>\n",
       "      <td>0.009000</td>\n",
       "      <td>0.015000</td>\n",
       "    </tr>\n",
       "    <tr>\n",
       "      <th>50%</th>\n",
       "      <td>0.056830</td>\n",
       "      <td>0.566500</td>\n",
       "      <td>0.041000</td>\n",
       "      <td>0.115000</td>\n",
       "    </tr>\n",
       "    <tr>\n",
       "      <th>75%</th>\n",
       "      <td>0.171569</td>\n",
       "      <td>2.189250</td>\n",
       "      <td>0.174250</td>\n",
       "      <td>0.421250</td>\n",
       "    </tr>\n",
       "    <tr>\n",
       "      <th>max</th>\n",
       "      <td>15.873773</td>\n",
       "      <td>1386.676000</td>\n",
       "      <td>40.715000</td>\n",
       "      <td>141.624000</td>\n",
       "    </tr>\n",
       "  </tbody>\n",
       "</table>\n",
       "</div>"
      ],
      "text/plain": [
       "           views_M      likes_K   dislikes_K   comments_K\n",
       "count  1000.000000  1000.000000  1000.000000  1000.000000\n",
       "mean      0.226386     6.408772     0.288152     0.842868\n",
       "std       0.814944    49.596837     1.539676     5.132957\n",
       "min       0.001675     0.000000     0.000000     0.000000\n",
       "25%       0.015444     0.113750     0.009000     0.015000\n",
       "50%       0.056830     0.566500     0.041000     0.115000\n",
       "75%       0.171569     2.189250     0.174250     0.421250\n",
       "max      15.873773  1386.676000    40.715000   141.624000"
      ]
     },
     "execution_count": 32,
     "metadata": {},
     "output_type": "execute_result"
    }
   ],
   "source": [
    "new_names = {'views': 'views_M', 'likes': 'likes_K', 'dislikes': 'dislikes_K', 'comment_count': 'comments_K'}\n",
    "sample.rename(columns=new_names, inplace=True)\n",
    "sample.describe()"
   ]
  },
  {
   "cell_type": "markdown",
   "metadata": {},
   "source": [
    "##### Normalization with Z-score method"
   ]
  },
  {
   "cell_type": "code",
   "execution_count": 33,
   "metadata": {},
   "outputs": [
    {
     "data": {
      "text/html": [
       "<div>\n",
       "<style scoped>\n",
       "    .dataframe tbody tr th:only-of-type {\n",
       "        vertical-align: middle;\n",
       "    }\n",
       "\n",
       "    .dataframe tbody tr th {\n",
       "        vertical-align: top;\n",
       "    }\n",
       "\n",
       "    .dataframe thead th {\n",
       "        text-align: right;\n",
       "    }\n",
       "</style>\n",
       "<table border=\"1\" class=\"dataframe\">\n",
       "  <thead>\n",
       "    <tr style=\"text-align: right;\">\n",
       "      <th></th>\n",
       "      <th>views_M</th>\n",
       "      <th>likes_K</th>\n",
       "      <th>dislikes_K</th>\n",
       "      <th>comments_K</th>\n",
       "    </tr>\n",
       "  </thead>\n",
       "  <tbody>\n",
       "    <tr>\n",
       "      <th>20386</th>\n",
       "      <td>-0.146784</td>\n",
       "      <td>0.029099</td>\n",
       "      <td>-0.162471</td>\n",
       "      <td>-0.098748</td>\n",
       "    </tr>\n",
       "    <tr>\n",
       "      <th>3359</th>\n",
       "      <td>-0.220398</td>\n",
       "      <td>-0.119418</td>\n",
       "      <td>-0.078687</td>\n",
       "      <td>-0.135958</td>\n",
       "    </tr>\n",
       "    <tr>\n",
       "      <th>770</th>\n",
       "      <td>1.030170</td>\n",
       "      <td>0.615205</td>\n",
       "      <td>0.156428</td>\n",
       "      <td>0.665919</td>\n",
       "    </tr>\n",
       "    <tr>\n",
       "      <th>17688</th>\n",
       "      <td>-0.225248</td>\n",
       "      <td>-0.093671</td>\n",
       "      <td>-0.184553</td>\n",
       "      <td>-0.152713</td>\n",
       "    </tr>\n",
       "    <tr>\n",
       "      <th>128</th>\n",
       "      <td>17.903756</td>\n",
       "      <td>5.925866</td>\n",
       "      <td>4.880148</td>\n",
       "      <td>5.741356</td>\n",
       "    </tr>\n",
       "  </tbody>\n",
       "</table>\n",
       "</div>"
      ],
      "text/plain": [
       "         views_M   likes_K  dislikes_K  comments_K\n",
       "20386  -0.146784  0.029099   -0.162471   -0.098748\n",
       "3359   -0.220398 -0.119418   -0.078687   -0.135958\n",
       "770     1.030170  0.615205    0.156428    0.665919\n",
       "17688  -0.225248 -0.093671   -0.184553   -0.152713\n",
       "128    17.903756  5.925866    4.880148    5.741356"
      ]
     },
     "execution_count": 33,
     "metadata": {},
     "output_type": "execute_result"
    }
   ],
   "source": [
    "sample_norm3 = sample.copy()\n",
    "sample_norm3['views_M'] = (sample_norm3['views_M'] - sample_norm3['views_M'].mean()) / sample_norm3['views_M'].std()\n",
    "sample_norm3['likes_K'] = (sample_norm3['likes_K'] - sample_norm3['likes_K'].mean()) / sample_norm3['likes_K'].std()\n",
    "sample_norm3['dislikes_K'] = (sample_norm3['dislikes_K'] - sample_norm3['dislikes_K'].mean()) / sample_norm3['dislikes_K'].std()\n",
    "sample_norm3['comments_K'] = (sample_norm3['comments_K'] - sample_norm3['comments_K'].mean()) / sample_norm3['comments_K'].std()\n",
    "\n",
    "sample_norm3[['views_M', 'likes_K', 'dislikes_K', 'comments_K']].head()"
   ]
  },
  {
   "cell_type": "markdown",
   "metadata": {},
   "source": [
    "##### Descriptive Analysis"
   ]
  },
  {
   "cell_type": "code",
   "execution_count": 34,
   "metadata": {},
   "outputs": [
    {
     "data": {
      "text/html": [
       "<div>\n",
       "<style scoped>\n",
       "    .dataframe tbody tr th:only-of-type {\n",
       "        vertical-align: middle;\n",
       "    }\n",
       "\n",
       "    .dataframe tbody tr th {\n",
       "        vertical-align: top;\n",
       "    }\n",
       "\n",
       "    .dataframe thead th {\n",
       "        text-align: right;\n",
       "    }\n",
       "</style>\n",
       "<table border=\"1\" class=\"dataframe\">\n",
       "  <thead>\n",
       "    <tr style=\"text-align: right;\">\n",
       "      <th></th>\n",
       "      <th>views_M</th>\n",
       "      <th>likes_K</th>\n",
       "      <th>dislikes_K</th>\n",
       "      <th>comments_K</th>\n",
       "    </tr>\n",
       "  </thead>\n",
       "  <tbody>\n",
       "    <tr>\n",
       "      <th>count</th>\n",
       "      <td>1000.000000</td>\n",
       "      <td>1000.000000</td>\n",
       "      <td>1000.000000</td>\n",
       "      <td>1000.000000</td>\n",
       "    </tr>\n",
       "    <tr>\n",
       "      <th>mean</th>\n",
       "      <td>0.226386</td>\n",
       "      <td>6.408772</td>\n",
       "      <td>0.288152</td>\n",
       "      <td>0.842868</td>\n",
       "    </tr>\n",
       "    <tr>\n",
       "      <th>std</th>\n",
       "      <td>0.814944</td>\n",
       "      <td>49.596837</td>\n",
       "      <td>1.539676</td>\n",
       "      <td>5.132957</td>\n",
       "    </tr>\n",
       "    <tr>\n",
       "      <th>min</th>\n",
       "      <td>0.001675</td>\n",
       "      <td>0.000000</td>\n",
       "      <td>0.000000</td>\n",
       "      <td>0.000000</td>\n",
       "    </tr>\n",
       "    <tr>\n",
       "      <th>25%</th>\n",
       "      <td>0.015444</td>\n",
       "      <td>0.113750</td>\n",
       "      <td>0.009000</td>\n",
       "      <td>0.015000</td>\n",
       "    </tr>\n",
       "    <tr>\n",
       "      <th>50%</th>\n",
       "      <td>0.056830</td>\n",
       "      <td>0.566500</td>\n",
       "      <td>0.041000</td>\n",
       "      <td>0.115000</td>\n",
       "    </tr>\n",
       "    <tr>\n",
       "      <th>75%</th>\n",
       "      <td>0.171569</td>\n",
       "      <td>2.189250</td>\n",
       "      <td>0.174250</td>\n",
       "      <td>0.421250</td>\n",
       "    </tr>\n",
       "    <tr>\n",
       "      <th>max</th>\n",
       "      <td>15.873773</td>\n",
       "      <td>1386.676000</td>\n",
       "      <td>40.715000</td>\n",
       "      <td>141.624000</td>\n",
       "    </tr>\n",
       "  </tbody>\n",
       "</table>\n",
       "</div>"
      ],
      "text/plain": [
       "           views_M      likes_K   dislikes_K   comments_K\n",
       "count  1000.000000  1000.000000  1000.000000  1000.000000\n",
       "mean      0.226386     6.408772     0.288152     0.842868\n",
       "std       0.814944    49.596837     1.539676     5.132957\n",
       "min       0.001675     0.000000     0.000000     0.000000\n",
       "25%       0.015444     0.113750     0.009000     0.015000\n",
       "50%       0.056830     0.566500     0.041000     0.115000\n",
       "75%       0.171569     2.189250     0.174250     0.421250\n",
       "max      15.873773  1386.676000    40.715000   141.624000"
      ]
     },
     "execution_count": 34,
     "metadata": {},
     "output_type": "execute_result"
    }
   ],
   "source": [
    "sample.describe()"
   ]
  },
  {
   "cell_type": "code",
   "execution_count": 35,
   "metadata": {},
   "outputs": [
    {
     "data": {
      "text/html": [
       "<div>\n",
       "<style scoped>\n",
       "    .dataframe tbody tr th:only-of-type {\n",
       "        vertical-align: middle;\n",
       "    }\n",
       "\n",
       "    .dataframe tbody tr th {\n",
       "        vertical-align: top;\n",
       "    }\n",
       "\n",
       "    .dataframe thead th {\n",
       "        text-align: right;\n",
       "    }\n",
       "</style>\n",
       "<table border=\"1\" class=\"dataframe\">\n",
       "  <thead>\n",
       "    <tr style=\"text-align: right;\">\n",
       "      <th></th>\n",
       "      <th>video_id</th>\n",
       "      <th>title</th>\n",
       "      <th>channel_title</th>\n",
       "      <th>thumbnail_link</th>\n",
       "      <th>description</th>\n",
       "    </tr>\n",
       "  </thead>\n",
       "  <tbody>\n",
       "    <tr>\n",
       "      <th>count</th>\n",
       "      <td>1000</td>\n",
       "      <td>1000</td>\n",
       "      <td>1000</td>\n",
       "      <td>1000</td>\n",
       "      <td>901</td>\n",
       "    </tr>\n",
       "    <tr>\n",
       "      <th>unique</th>\n",
       "      <td>981</td>\n",
       "      <td>991</td>\n",
       "      <td>757</td>\n",
       "      <td>991</td>\n",
       "      <td>870</td>\n",
       "    </tr>\n",
       "    <tr>\n",
       "      <th>top</th>\n",
       "      <td>#NAME?</td>\n",
       "      <td>佐藤仁美、12.2キロ痩せた美ボディ披露でご満悦／RIZAP 新CM発表会</td>\n",
       "      <td>釣りよか飯</td>\n",
       "      <td>https://i.ytimg.com/vi/snZubQmMd80/default.jpg</td>\n",
       "      <td>説明</td>\n",
       "    </tr>\n",
       "    <tr>\n",
       "      <th>freq</th>\n",
       "      <td>11</td>\n",
       "      <td>2</td>\n",
       "      <td>9</td>\n",
       "      <td>2</td>\n",
       "      <td>5</td>\n",
       "    </tr>\n",
       "  </tbody>\n",
       "</table>\n",
       "</div>"
      ],
      "text/plain": [
       "       video_id                                  title channel_title  \\\n",
       "count      1000                                   1000          1000   \n",
       "unique      981                                    991           757   \n",
       "top      #NAME?  佐藤仁美、12.2キロ痩せた美ボディ披露でご満悦／RIZAP 新CM発表会         釣りよか飯   \n",
       "freq         11                                      2             9   \n",
       "\n",
       "                                        thumbnail_link description  \n",
       "count                                             1000         901  \n",
       "unique                                             991         870  \n",
       "top     https://i.ytimg.com/vi/snZubQmMd80/default.jpg          説明  \n",
       "freq                                                 2           5  "
      ]
     },
     "execution_count": 35,
     "metadata": {},
     "output_type": "execute_result"
    }
   ],
   "source": [
    "sample.describe(include=[np.object])"
   ]
  },
  {
   "cell_type": "markdown",
   "metadata": {},
   "source": [
    "##### Boxplots and histograms of some numerical columns"
   ]
  },
  {
   "cell_type": "code",
   "execution_count": 36,
   "metadata": {},
   "outputs": [
    {
     "data": {
      "text/plain": [
       "<AxesSubplot:>"
      ]
     },
     "execution_count": 36,
     "metadata": {},
     "output_type": "execute_result"
    },
    {
     "data": {
      "image/png": "[encoded data removed]",
      "text/plain": [
       "<Figure size 432x288 with 1 Axes>"
      ]
     },
     "metadata": {
      "needs_background": "light"
     },
     "output_type": "display_data"
    }
   ],
   "source": [
    "sample.boxplot(column=['likes_K', 'dislikes_K', 'comments_K'])"
   ]
  },
  {
   "cell_type": "code",
   "execution_count": 37,
   "metadata": {},
   "outputs": [
    {
     "data": {
      "text/plain": [
       "<AxesSubplot:>"
      ]
     },
     "execution_count": 37,
     "metadata": {},
     "output_type": "execute_result"
    },
    {
     "data": {
      "image/png": "[encoded data removed]",
      "text/plain": [
       "<Figure size 432x288 with 1 Axes>"
      ]
     },
     "metadata": {
      "needs_background": "light"
     },
     "output_type": "display_data"
    }
   ],
   "source": [
    "sample.boxplot(column=['views_M'])"
   ]
  },
  {
   "cell_type": "code",
   "execution_count": 38,
   "metadata": {},
   "outputs": [
    {
     "data": {
      "text/plain": [
       "array([[<AxesSubplot:title={'center':'views_M'}>,\n",
       "        <AxesSubplot:title={'center':'likes_K'}>],\n",
       "       [<AxesSubplot:title={'center':'dislikes_K'}>,\n",
       "        <AxesSubplot:title={'center':'comments_K'}>]], dtype=object)"
      ]
     },
     "execution_count": 38,
     "metadata": {},
     "output_type": "execute_result"
    },
    {
     "data": {
      "image/png": "[encoded data removed]",
      "text/plain": [
       "<Figure size 1728x1080 with 4 Axes>"
      ]
     },
     "metadata": {
      "needs_background": "light"
     },
     "output_type": "display_data"
    }
   ],
   "source": [
    "sample.hist(column=['views_M', 'likes_K', 'dislikes_K', 'comments_K'], figsize=(24, 15))"
   ]
  },
  {
   "cell_type": "code",
   "execution_count": 39,
   "metadata": {
    "scrolled": true
   },
   "outputs": [
    {
     "data": {
      "text/plain": [
       "<AxesSubplot:xlabel='category_id', ylabel='views_M'>"
      ]
     },
     "execution_count": 39,
     "metadata": {},
     "output_type": "execute_result"
    },
    {
     "data": {
      "image/png": "[encoded data removed]",
      "text/plain": [
       "<Figure size 432x288 with 1 Axes>"
      ]
     },
     "metadata": {
      "needs_background": "light"
     },
     "output_type": "display_data"
    }
   ],
   "source": [
    "sns.boxplot(x='category_id', y='views_M', data=sample)"
   ]
  },
  {
   "cell_type": "markdown",
   "metadata": {},
   "source": [
    "##### Get categories from ID to identify the trend Categories"
   ]
  },
  {
   "cell_type": "code",
   "execution_count": 40,
   "metadata": {
    "scrolled": true
   },
   "outputs": [],
   "source": [
    "category = pd.read_json('JP_category_id.json')"
   ]
  },
  {
   "cell_type": "code",
   "execution_count": 41,
   "metadata": {},
   "outputs": [],
   "source": [
    "import json\n",
    "\n",
    "category_json = json.load(open('JP_category_id.json'))"
   ]
  },
  {
   "cell_type": "code",
   "execution_count": 42,
   "metadata": {},
   "outputs": [],
   "source": [
    "index = 0\n",
    "category_dict = {}\n",
    "\n",
    "while index < len(category_json['items']):\n",
    "    category_dict[index] = category_json['items'][index]['snippet']['title']\n",
    "    index += 1"
   ]
  },
  {
   "cell_type": "code",
   "execution_count": 43,
   "metadata": {},
   "outputs": [
    {
     "data": {
      "text/plain": [
       "{0: 'Film & Animation',\n",
       " 1: 'Autos & Vehicles',\n",
       " 2: 'Music',\n",
       " 3: 'Pets & Animals',\n",
       " 4: 'Sports',\n",
       " 5: 'Short Movies',\n",
       " 6: 'Travel & Events',\n",
       " 7: 'Gaming',\n",
       " 8: 'Videoblogging',\n",
       " 9: 'People & Blogs',\n",
       " 10: 'Comedy',\n",
       " 11: 'Entertainment',\n",
       " 12: 'News & Politics',\n",
       " 13: 'Howto & Style',\n",
       " 14: 'Education',\n",
       " 15: 'Science & Technology',\n",
       " 16: 'Movies',\n",
       " 17: 'Anime/Animation',\n",
       " 18: 'Action/Adventure',\n",
       " 19: 'Classics',\n",
       " 20: 'Comedy',\n",
       " 21: 'Documentary',\n",
       " 22: 'Drama',\n",
       " 23: 'Family',\n",
       " 24: 'Foreign',\n",
       " 25: 'Horror',\n",
       " 26: 'Sci-Fi/Fantasy',\n",
       " 27: 'Thriller',\n",
       " 28: 'Shorts',\n",
       " 29: 'Shows',\n",
       " 30: 'Trailers'}"
      ]
     },
     "execution_count": 43,
     "metadata": {},
     "output_type": "execute_result"
    }
   ],
   "source": [
    "category_dict"
   ]
  },
  {
   "cell_type": "code",
   "execution_count": 44,
   "metadata": {},
   "outputs": [],
   "source": [
    "category_name = [category_dict[index] for index in sample['category_id']]"
   ]
  },
  {
   "cell_type": "code",
   "execution_count": 45,
   "metadata": {},
   "outputs": [],
   "source": [
    "sample['category_name'] = category_name"
   ]
  },
  {
   "cell_type": "code",
   "execution_count": 46,
   "metadata": {
    "scrolled": true
   },
   "outputs": [
    {
     "data": {
      "text/plain": [
       "<AxesSubplot:xlabel='views_M', ylabel='category_name'>"
      ]
     },
     "execution_count": 46,
     "metadata": {},
     "output_type": "execute_result"
    },
    {
     "data": {
      "image/png": "[encoded data removed]",
      "text/plain": [
       "<Figure size 432x288 with 1 Axes>"
      ]
     },
     "metadata": {
      "needs_background": "light"
     },
     "output_type": "display_data"
    }
   ],
   "source": [
    "sns.boxplot(y='category_name', x='views_M', width=0.5, data=sample)"
   ]
  },
  {
   "cell_type": "markdown",
   "metadata": {},
   "source": [
    "##### Groupby - Pivot and Heatmap with categories - comments are disabled or not - amount of likes in thousands"
   ]
  },
  {
   "cell_type": "code",
   "execution_count": 47,
   "metadata": {},
   "outputs": [
    {
     "data": {
      "text/html": [
       "<div>\n",
       "<style scoped>\n",
       "    .dataframe tbody tr th:only-of-type {\n",
       "        vertical-align: middle;\n",
       "    }\n",
       "\n",
       "    .dataframe tbody tr th {\n",
       "        vertical-align: top;\n",
       "    }\n",
       "\n",
       "    .dataframe thead th {\n",
       "        text-align: right;\n",
       "    }\n",
       "</style>\n",
       "<table border=\"1\" class=\"dataframe\">\n",
       "  <thead>\n",
       "    <tr style=\"text-align: right;\">\n",
       "      <th></th>\n",
       "      <th>category_name</th>\n",
       "      <th>comments_disabled</th>\n",
       "      <th>likes_K</th>\n",
       "    </tr>\n",
       "  </thead>\n",
       "  <tbody>\n",
       "    <tr>\n",
       "      <th>0</th>\n",
       "      <td>Anime/Animation</td>\n",
       "      <td>False</td>\n",
       "      <td>1.478468</td>\n",
       "    </tr>\n",
       "    <tr>\n",
       "      <th>1</th>\n",
       "      <td>Anime/Animation</td>\n",
       "      <td>True</td>\n",
       "      <td>4.399750</td>\n",
       "    </tr>\n",
       "    <tr>\n",
       "      <th>2</th>\n",
       "      <td>Autos &amp; Vehicles</td>\n",
       "      <td>False</td>\n",
       "      <td>7.405661</td>\n",
       "    </tr>\n",
       "    <tr>\n",
       "      <th>3</th>\n",
       "      <td>Autos &amp; Vehicles</td>\n",
       "      <td>True</td>\n",
       "      <td>2.188000</td>\n",
       "    </tr>\n",
       "    <tr>\n",
       "      <th>4</th>\n",
       "      <td>Classics</td>\n",
       "      <td>False</td>\n",
       "      <td>1.171000</td>\n",
       "    </tr>\n",
       "    <tr>\n",
       "      <th>5</th>\n",
       "      <td>Comedy</td>\n",
       "      <td>False</td>\n",
       "      <td>21.615405</td>\n",
       "    </tr>\n",
       "    <tr>\n",
       "      <th>6</th>\n",
       "      <td>Comedy</td>\n",
       "      <td>True</td>\n",
       "      <td>0.677778</td>\n",
       "    </tr>\n",
       "    <tr>\n",
       "      <th>7</th>\n",
       "      <td>Drama</td>\n",
       "      <td>False</td>\n",
       "      <td>2.038418</td>\n",
       "    </tr>\n",
       "    <tr>\n",
       "      <th>8</th>\n",
       "      <td>Drama</td>\n",
       "      <td>True</td>\n",
       "      <td>0.623429</td>\n",
       "    </tr>\n",
       "    <tr>\n",
       "      <th>9</th>\n",
       "      <td>Family</td>\n",
       "      <td>False</td>\n",
       "      <td>21.139293</td>\n",
       "    </tr>\n",
       "    <tr>\n",
       "      <th>10</th>\n",
       "      <td>Foreign</td>\n",
       "      <td>False</td>\n",
       "      <td>4.885219</td>\n",
       "    </tr>\n",
       "    <tr>\n",
       "      <th>11</th>\n",
       "      <td>Foreign</td>\n",
       "      <td>True</td>\n",
       "      <td>1.144565</td>\n",
       "    </tr>\n",
       "    <tr>\n",
       "      <th>12</th>\n",
       "      <td>Horror</td>\n",
       "      <td>False</td>\n",
       "      <td>0.348717</td>\n",
       "    </tr>\n",
       "    <tr>\n",
       "      <th>13</th>\n",
       "      <td>Horror</td>\n",
       "      <td>True</td>\n",
       "      <td>1.022500</td>\n",
       "    </tr>\n",
       "    <tr>\n",
       "      <th>14</th>\n",
       "      <td>Music</td>\n",
       "      <td>False</td>\n",
       "      <td>0.399722</td>\n",
       "    </tr>\n",
       "    <tr>\n",
       "      <th>15</th>\n",
       "      <td>Sci-Fi/Fantasy</td>\n",
       "      <td>False</td>\n",
       "      <td>5.928000</td>\n",
       "    </tr>\n",
       "    <tr>\n",
       "      <th>16</th>\n",
       "      <td>Sci-Fi/Fantasy</td>\n",
       "      <td>True</td>\n",
       "      <td>1.700667</td>\n",
       "    </tr>\n",
       "    <tr>\n",
       "      <th>17</th>\n",
       "      <td>Science &amp; Technology</td>\n",
       "      <td>False</td>\n",
       "      <td>1.283040</td>\n",
       "    </tr>\n",
       "    <tr>\n",
       "      <th>18</th>\n",
       "      <td>Science &amp; Technology</td>\n",
       "      <td>True</td>\n",
       "      <td>0.167167</td>\n",
       "    </tr>\n",
       "    <tr>\n",
       "      <th>19</th>\n",
       "      <td>Shorts</td>\n",
       "      <td>False</td>\n",
       "      <td>52.253750</td>\n",
       "    </tr>\n",
       "    <tr>\n",
       "      <th>20</th>\n",
       "      <td>Shorts</td>\n",
       "      <td>True</td>\n",
       "      <td>0.000000</td>\n",
       "    </tr>\n",
       "    <tr>\n",
       "      <th>21</th>\n",
       "      <td>Shows</td>\n",
       "      <td>False</td>\n",
       "      <td>10.105000</td>\n",
       "    </tr>\n",
       "    <tr>\n",
       "      <th>22</th>\n",
       "      <td>Thriller</td>\n",
       "      <td>False</td>\n",
       "      <td>1.268600</td>\n",
       "    </tr>\n",
       "  </tbody>\n",
       "</table>\n",
       "</div>"
      ],
      "text/plain": [
       "           category_name  comments_disabled    likes_K\n",
       "0        Anime/Animation              False   1.478468\n",
       "1        Anime/Animation               True   4.399750\n",
       "2       Autos & Vehicles              False   7.405661\n",
       "3       Autos & Vehicles               True   2.188000\n",
       "4               Classics              False   1.171000\n",
       "5                 Comedy              False  21.615405\n",
       "6                 Comedy               True   0.677778\n",
       "7                  Drama              False   2.038418\n",
       "8                  Drama               True   0.623429\n",
       "9                 Family              False  21.139293\n",
       "10               Foreign              False   4.885219\n",
       "11               Foreign               True   1.144565\n",
       "12                Horror              False   0.348717\n",
       "13                Horror               True   1.022500\n",
       "14                 Music              False   0.399722\n",
       "15        Sci-Fi/Fantasy              False   5.928000\n",
       "16        Sci-Fi/Fantasy               True   1.700667\n",
       "17  Science & Technology              False   1.283040\n",
       "18  Science & Technology               True   0.167167\n",
       "19                Shorts              False  52.253750\n",
       "20                Shorts               True   0.000000\n",
       "21                 Shows              False  10.105000\n",
       "22              Thriller              False   1.268600"
      ]
     },
     "execution_count": 47,
     "metadata": {},
     "output_type": "execute_result"
    }
   ],
   "source": [
    "likes_comments = sample[['category_name', 'comments_disabled', 'likes_K']]\n",
    "likes_comments = likes_comments.groupby(['category_name', 'comments_disabled'], as_index=False).mean()\n",
    "likes_comments"
   ]
  },
  {
   "cell_type": "code",
   "execution_count": 48,
   "metadata": {},
   "outputs": [
    {
     "data": {
      "text/html": [
       "<div>\n",
       "<style scoped>\n",
       "    .dataframe tbody tr th:only-of-type {\n",
       "        vertical-align: middle;\n",
       "    }\n",
       "\n",
       "    .dataframe tbody tr th {\n",
       "        vertical-align: top;\n",
       "    }\n",
       "\n",
       "    .dataframe thead tr th {\n",
       "        text-align: left;\n",
       "    }\n",
       "\n",
       "    .dataframe thead tr:last-of-type th {\n",
       "        text-align: right;\n",
       "    }\n",
       "</style>\n",
       "<table border=\"1\" class=\"dataframe\">\n",
       "  <thead>\n",
       "    <tr>\n",
       "      <th></th>\n",
       "      <th colspan=\"2\" halign=\"left\">likes_K</th>\n",
       "    </tr>\n",
       "    <tr>\n",
       "      <th>comments_disabled</th>\n",
       "      <th>False</th>\n",
       "      <th>True</th>\n",
       "    </tr>\n",
       "    <tr>\n",
       "      <th>category_name</th>\n",
       "      <th></th>\n",
       "      <th></th>\n",
       "    </tr>\n",
       "  </thead>\n",
       "  <tbody>\n",
       "    <tr>\n",
       "      <th>Anime/Animation</th>\n",
       "      <td>1.478468</td>\n",
       "      <td>4.399750</td>\n",
       "    </tr>\n",
       "    <tr>\n",
       "      <th>Autos &amp; Vehicles</th>\n",
       "      <td>7.405661</td>\n",
       "      <td>2.188000</td>\n",
       "    </tr>\n",
       "    <tr>\n",
       "      <th>Classics</th>\n",
       "      <td>1.171000</td>\n",
       "      <td>NaN</td>\n",
       "    </tr>\n",
       "    <tr>\n",
       "      <th>Comedy</th>\n",
       "      <td>21.615405</td>\n",
       "      <td>0.677778</td>\n",
       "    </tr>\n",
       "    <tr>\n",
       "      <th>Drama</th>\n",
       "      <td>2.038418</td>\n",
       "      <td>0.623429</td>\n",
       "    </tr>\n",
       "    <tr>\n",
       "      <th>Family</th>\n",
       "      <td>21.139293</td>\n",
       "      <td>NaN</td>\n",
       "    </tr>\n",
       "    <tr>\n",
       "      <th>Foreign</th>\n",
       "      <td>4.885219</td>\n",
       "      <td>1.144565</td>\n",
       "    </tr>\n",
       "    <tr>\n",
       "      <th>Horror</th>\n",
       "      <td>0.348717</td>\n",
       "      <td>1.022500</td>\n",
       "    </tr>\n",
       "    <tr>\n",
       "      <th>Music</th>\n",
       "      <td>0.399722</td>\n",
       "      <td>NaN</td>\n",
       "    </tr>\n",
       "    <tr>\n",
       "      <th>Sci-Fi/Fantasy</th>\n",
       "      <td>5.928000</td>\n",
       "      <td>1.700667</td>\n",
       "    </tr>\n",
       "    <tr>\n",
       "      <th>Science &amp; Technology</th>\n",
       "      <td>1.283040</td>\n",
       "      <td>0.167167</td>\n",
       "    </tr>\n",
       "    <tr>\n",
       "      <th>Shorts</th>\n",
       "      <td>52.253750</td>\n",
       "      <td>0.000000</td>\n",
       "    </tr>\n",
       "    <tr>\n",
       "      <th>Shows</th>\n",
       "      <td>10.105000</td>\n",
       "      <td>NaN</td>\n",
       "    </tr>\n",
       "    <tr>\n",
       "      <th>Thriller</th>\n",
       "      <td>1.268600</td>\n",
       "      <td>NaN</td>\n",
       "    </tr>\n",
       "  </tbody>\n",
       "</table>\n",
       "</div>"
      ],
      "text/plain": [
       "                        likes_K          \n",
       "comments_disabled         False      True\n",
       "category_name                            \n",
       "Anime/Animation        1.478468  4.399750\n",
       "Autos & Vehicles       7.405661  2.188000\n",
       "Classics               1.171000       NaN\n",
       "Comedy                21.615405  0.677778\n",
       "Drama                  2.038418  0.623429\n",
       "Family                21.139293       NaN\n",
       "Foreign                4.885219  1.144565\n",
       "Horror                 0.348717  1.022500\n",
       "Music                  0.399722       NaN\n",
       "Sci-Fi/Fantasy         5.928000  1.700667\n",
       "Science & Technology   1.283040  0.167167\n",
       "Shorts                52.253750  0.000000\n",
       "Shows                 10.105000       NaN\n",
       "Thriller               1.268600       NaN"
      ]
     },
     "execution_count": 48,
     "metadata": {},
     "output_type": "execute_result"
    }
   ],
   "source": [
    "likes_comments_pivot = likes_comments.pivot(index='category_name', columns='comments_disabled')\n",
    "likes_comments_pivot"
   ]
  },
  {
   "cell_type": "code",
   "execution_count": 49,
   "metadata": {},
   "outputs": [
    {
     "data": {
      "image/png": "[encoded data removed]",
      "text/plain": [
       "<Figure size 432x288 with 2 Axes>"
      ]
     },
     "metadata": {
      "needs_background": "light"
     },
     "output_type": "display_data"
    }
   ],
   "source": [
    "fig, ax = plt.subplots()\n",
    "im = ax.pcolor(likes_comments_pivot, cmap='RdBu')\n",
    "\n",
    "#label names\n",
    "row_labels = likes_comments_pivot.columns.levels[1]\n",
    "col_labels = likes_comments_pivot.index\n",
    "\n",
    "#move ticks and labels to the center\n",
    "ax.set_xticks(np.arange(likes_comments_pivot.shape[1]) + 0.5, minor=False)\n",
    "ax.set_yticks(np.arange(likes_comments_pivot.shape[0]) + 0.5, minor=False)\n",
    "\n",
    "#insert labels\n",
    "ax.set_xticklabels(row_labels, minor=False)\n",
    "ax.set_yticklabels(col_labels, minor=False)\n",
    "\n",
    "fig.colorbar(im)\n",
    "plt.title('Amount of likes in thousands according to categories and comment if it is disabled or not\\n')\n",
    "plt.show()"
   ]
  },
  {
   "cell_type": "markdown",
   "metadata": {},
   "source": [
    "##### Frequency Distribution"
   ]
  },
  {
   "cell_type": "code",
   "execution_count": 50,
   "metadata": {},
   "outputs": [
    {
     "data": {
      "text/plain": [
       "video_id                               object\n",
       "trending_date                  datetime64[ns]\n",
       "title                                  object\n",
       "channel_title                          object\n",
       "category_id                          category\n",
       "publish_time              datetime64[ns, UTC]\n",
       "tags                                 category\n",
       "views_M                               float64\n",
       "likes_K                               float64\n",
       "dislikes_K                            float64\n",
       "comments_K                            float64\n",
       "thumbnail_link                         object\n",
       "comments_disabled                        bool\n",
       "ratings_disabled                         bool\n",
       "video_error_or_removed                   bool\n",
       "description                            object\n",
       "category_name                          object\n",
       "dtype: object"
      ]
     },
     "execution_count": 50,
     "metadata": {},
     "output_type": "execute_result"
    }
   ],
   "source": [
    "sample.dtypes"
   ]
  },
  {
   "cell_type": "code",
   "execution_count": 51,
   "metadata": {},
   "outputs": [
    {
     "data": {
      "text/plain": [
       "Foreign                 274\n",
       "Drama                   191\n",
       "Comedy                  125\n",
       "Anime/Animation         102\n",
       "Horror                   70\n",
       "Autos & Vehicles         62\n",
       "Science & Technology     56\n",
       "Sci-Fi/Fantasy           42\n",
       "Family                   41\n",
       "Music                    18\n",
       "Shorts                    9\n",
       "Thriller                  5\n",
       "Classics                  4\n",
       "Shows                     1\n",
       "Name: category_name, dtype: int64"
      ]
     },
     "execution_count": 51,
     "metadata": {},
     "output_type": "execute_result"
    }
   ],
   "source": [
    "freq_dis_category = sample['category_name'].value_counts()\n",
    "freq_dis_category"
   ]
  },
  {
   "cell_type": "code",
   "execution_count": 52,
   "metadata": {},
   "outputs": [
    {
     "data": {
      "text/plain": [
       "<AxesSubplot:title={'center':'Number of videos with corresponding categories'}>"
      ]
     },
     "execution_count": 52,
     "metadata": {},
     "output_type": "execute_result"
    },
    {
     "data": {
      "image/png": "[encoded data removed]",
      "text/plain": [
       "<Figure size 432x288 with 1 Axes>"
      ]
     },
     "metadata": {
      "needs_background": "light"
     },
     "output_type": "display_data"
    }
   ],
   "source": [
    "plt.title('Number of videos with corresponding categories')\n",
    "freq_dis_category.plot.bar()"
   ]
  },
  {
   "cell_type": "markdown",
   "metadata": {},
   "source": [
    "##### Applying empirical criteria to determine class number and rank for dislikes (in thousand)"
   ]
  },
  {
   "cell_type": "code",
   "execution_count": 53,
   "metadata": {},
   "outputs": [],
   "source": [
    "dislikes_categories = sample[['category_name', 'dislikes_K']]"
   ]
  },
  {
   "cell_type": "code",
   "execution_count": 54,
   "metadata": {},
   "outputs": [
    {
     "data": {
      "text/html": [
       "<div>\n",
       "<style scoped>\n",
       "    .dataframe tbody tr th:only-of-type {\n",
       "        vertical-align: middle;\n",
       "    }\n",
       "\n",
       "    .dataframe tbody tr th {\n",
       "        vertical-align: top;\n",
       "    }\n",
       "\n",
       "    .dataframe thead th {\n",
       "        text-align: right;\n",
       "    }\n",
       "</style>\n",
       "<table border=\"1\" class=\"dataframe\">\n",
       "  <thead>\n",
       "    <tr style=\"text-align: right;\">\n",
       "      <th></th>\n",
       "      <th>category_name</th>\n",
       "      <th>dislikes_K</th>\n",
       "    </tr>\n",
       "  </thead>\n",
       "  <tbody>\n",
       "    <tr>\n",
       "      <th>0</th>\n",
       "      <td>Anime/Animation</td>\n",
       "      <td>14.032</td>\n",
       "    </tr>\n",
       "    <tr>\n",
       "      <th>1</th>\n",
       "      <td>Autos &amp; Vehicles</td>\n",
       "      <td>16.159</td>\n",
       "    </tr>\n",
       "    <tr>\n",
       "      <th>2</th>\n",
       "      <td>Classics</td>\n",
       "      <td>0.746</td>\n",
       "    </tr>\n",
       "    <tr>\n",
       "      <th>3</th>\n",
       "      <td>Comedy</td>\n",
       "      <td>76.473</td>\n",
       "    </tr>\n",
       "    <tr>\n",
       "      <th>4</th>\n",
       "      <td>Drama</td>\n",
       "      <td>23.922</td>\n",
       "    </tr>\n",
       "    <tr>\n",
       "      <th>5</th>\n",
       "      <td>Family</td>\n",
       "      <td>26.415</td>\n",
       "    </tr>\n",
       "    <tr>\n",
       "      <th>6</th>\n",
       "      <td>Foreign</td>\n",
       "      <td>76.858</td>\n",
       "    </tr>\n",
       "    <tr>\n",
       "      <th>7</th>\n",
       "      <td>Horror</td>\n",
       "      <td>21.123</td>\n",
       "    </tr>\n",
       "    <tr>\n",
       "      <th>8</th>\n",
       "      <td>Music</td>\n",
       "      <td>2.082</td>\n",
       "    </tr>\n",
       "    <tr>\n",
       "      <th>9</th>\n",
       "      <td>Sci-Fi/Fantasy</td>\n",
       "      <td>11.722</td>\n",
       "    </tr>\n",
       "    <tr>\n",
       "      <th>10</th>\n",
       "      <td>Science &amp; Technology</td>\n",
       "      <td>2.135</td>\n",
       "    </tr>\n",
       "    <tr>\n",
       "      <th>11</th>\n",
       "      <td>Shorts</td>\n",
       "      <td>14.283</td>\n",
       "    </tr>\n",
       "    <tr>\n",
       "      <th>12</th>\n",
       "      <td>Shows</td>\n",
       "      <td>1.034</td>\n",
       "    </tr>\n",
       "    <tr>\n",
       "      <th>13</th>\n",
       "      <td>Thriller</td>\n",
       "      <td>1.168</td>\n",
       "    </tr>\n",
       "  </tbody>\n",
       "</table>\n",
       "</div>"
      ],
      "text/plain": [
       "           category_name  dislikes_K\n",
       "0        Anime/Animation      14.032\n",
       "1       Autos & Vehicles      16.159\n",
       "2               Classics       0.746\n",
       "3                 Comedy      76.473\n",
       "4                  Drama      23.922\n",
       "5                 Family      26.415\n",
       "6                Foreign      76.858\n",
       "7                 Horror      21.123\n",
       "8                  Music       2.082\n",
       "9         Sci-Fi/Fantasy      11.722\n",
       "10  Science & Technology       2.135\n",
       "11                Shorts      14.283\n",
       "12                 Shows       1.034\n",
       "13              Thriller       1.168"
      ]
     },
     "execution_count": 54,
     "metadata": {},
     "output_type": "execute_result"
    }
   ],
   "source": [
    "dislikes_categories = dislikes_categories.groupby(['category_name'], as_index=False).sum()\n",
    "dislikes_categories"
   ]
  },
  {
   "cell_type": "code",
   "execution_count": 55,
   "metadata": {},
   "outputs": [
    {
     "name": "stdout",
     "output_type": "stream",
     "text": [
      "Dislikes_K max =  40.715\n",
      "Dislikes_K min =  0.0\n",
      "Number of classes =  10\n",
      "Classes' range =  4.0715\n"
     ]
    }
   ],
   "source": [
    "number_observation = sample.shape[0]\n",
    "\n",
    "# determine number of classes for dislikes value\n",
    "for i in range(1, 16):\n",
    "    number_class = i\n",
    "    #check condition\n",
    "    if 2 ** i > number_observation:\n",
    "        break\n",
    "        \n",
    "#calc classes' range\n",
    "range_class = (sample['dislikes_K'].max() - sample['dislikes_K'].min()) / number_class\n",
    "\n",
    "#basic information\n",
    "print('Dislikes_K max = ', sample['dislikes_K'].max())\n",
    "print('Dislikes_K min = ', sample['dislikes_K'].min())\n",
    "print('Number of classes = ', number_class)\n",
    "print('Classes\\' range = ', range_class)"
   ]
  },
  {
   "cell_type": "code",
   "execution_count": 56,
   "metadata": {},
   "outputs": [
    {
     "name": "stdout",
     "output_type": "stream",
     "text": [
      "Categories count:  [991, 6, 0, 2, 0, 0, 0, 0, 0, 0]\n",
      "Class count:  [0, 4, 8, 12, 16, 20, 24, 28, 32, 36, 40]\n"
     ]
    }
   ],
   "source": [
    "bins_num = number_class\n",
    "class_range = round(range_class)\n",
    "\n",
    "new_bin = []\n",
    "cate_count = []\n",
    "\n",
    "begin_val = 0\n",
    "end_val = round(sample['dislikes_K'].min())\n",
    "new_bin.append(end_val)\n",
    "\n",
    "for i in range(bins_num):\n",
    "    end_val += class_range\n",
    "    new_bin.append(end_val)\n",
    "    \n",
    "    cate_count.append(sample[(sample['dislikes_K'] >= begin_val) & (sample['dislikes_K'] <= end_val)].shape[0])\n",
    "    \n",
    "    begin_val = end_val\n",
    "    \n",
    "print('Categories count: ', cate_count)\n",
    "print('Class count: ', new_bin)"
   ]
  },
  {
   "cell_type": "code",
   "execution_count": 57,
   "metadata": {
    "scrolled": true
   },
   "outputs": [
    {
     "data": {
      "image/png": "[encoded data removed]",
      "text/plain": [
       "<Figure size 576x360 with 1 Axes>"
      ]
     },
     "metadata": {
      "needs_background": "light"
     },
     "output_type": "display_data"
    }
   ],
   "source": [
    "count, bin_edges = np.histogram(sample['dislikes_K'], bins_num)\n",
    "\n",
    "sample['dislikes_K'].plot(kind='hist',\n",
    "                      figsize=(8,5),\n",
    "                      bins=new_bin,\n",
    "                      xticks=new_bin,\n",
    "                      color='mediumseagreen')\n",
    "\n",
    "plt.title('Dislikes in thousands Index Histogram on categories')\n",
    "plt.ylabel('Categories')\n",
    "plt.xlabel('Dislikes in thousand Index')\n",
    "\n",
    "plt.show()"
   ]
  },
  {
   "cell_type": "markdown",
   "metadata": {},
   "source": [
    "##### Correlation Analysis (with full Dataset) with Scatter Plots"
   ]
  },
  {
   "cell_type": "code",
   "execution_count": 58,
   "metadata": {},
   "outputs": [],
   "source": [
    "correlation = df.corr()"
   ]
  },
  {
   "cell_type": "code",
   "execution_count": 59,
   "metadata": {
    "scrolled": true
   },
   "outputs": [
    {
     "data": {
      "text/plain": [
       "<AxesSubplot:>"
      ]
     },
     "execution_count": 59,
     "metadata": {},
     "output_type": "execute_result"
    },
    {
     "data": {
      "image/png": "[encoded data removed]",
      "text/plain": [
       "<Figure size 432x288 with 2 Axes>"
      ]
     },
     "metadata": {
      "needs_background": "light"
     },
     "output_type": "display_data"
    }
   ],
   "source": [
    "sns.heatmap(correlation, xticklabels=correlation.columns, yticklabels=correlation.columns, annot=True)"
   ]
  },
  {
   "cell_type": "code",
   "execution_count": 60,
   "metadata": {},
   "outputs": [
    {
     "data": {
      "text/html": [
       "<div>\n",
       "<style scoped>\n",
       "    .dataframe tbody tr th:only-of-type {\n",
       "        vertical-align: middle;\n",
       "    }\n",
       "\n",
       "    .dataframe tbody tr th {\n",
       "        vertical-align: top;\n",
       "    }\n",
       "\n",
       "    .dataframe thead th {\n",
       "        text-align: right;\n",
       "    }\n",
       "</style>\n",
       "<table border=\"1\" class=\"dataframe\">\n",
       "  <thead>\n",
       "    <tr style=\"text-align: right;\">\n",
       "      <th></th>\n",
       "      <th>views</th>\n",
       "      <th>likes</th>\n",
       "      <th>dislikes</th>\n",
       "      <th>comment_count</th>\n",
       "    </tr>\n",
       "  </thead>\n",
       "  <tbody>\n",
       "    <tr>\n",
       "      <th>views</th>\n",
       "      <td>1.000000</td>\n",
       "      <td>0.787476</td>\n",
       "      <td>0.756154</td>\n",
       "      <td>0.772007</td>\n",
       "    </tr>\n",
       "    <tr>\n",
       "      <th>likes</th>\n",
       "      <td>0.787476</td>\n",
       "      <td>1.000000</td>\n",
       "      <td>0.635830</td>\n",
       "      <td>0.905587</td>\n",
       "    </tr>\n",
       "    <tr>\n",
       "      <th>dislikes</th>\n",
       "      <td>0.756154</td>\n",
       "      <td>0.635830</td>\n",
       "      <td>1.000000</td>\n",
       "      <td>0.755106</td>\n",
       "    </tr>\n",
       "    <tr>\n",
       "      <th>comment_count</th>\n",
       "      <td>0.772007</td>\n",
       "      <td>0.905587</td>\n",
       "      <td>0.755106</td>\n",
       "      <td>1.000000</td>\n",
       "    </tr>\n",
       "  </tbody>\n",
       "</table>\n",
       "</div>"
      ],
      "text/plain": [
       "                  views     likes  dislikes  comment_count\n",
       "views          1.000000  0.787476  0.756154       0.772007\n",
       "likes          0.787476  1.000000  0.635830       0.905587\n",
       "dislikes       0.756154  0.635830  1.000000       0.755106\n",
       "comment_count  0.772007  0.905587  0.755106       1.000000"
      ]
     },
     "execution_count": 60,
     "metadata": {},
     "output_type": "execute_result"
    }
   ],
   "source": [
    "df[['views', 'likes', 'dislikes', 'comment_count']].corr()"
   ]
  },
  {
   "cell_type": "code",
   "execution_count": 61,
   "metadata": {},
   "outputs": [
    {
     "data": {
      "image/png": "[encoded data removed]",
      "text/plain": [
       "<Figure size 1224x1008 with 16 Axes>"
      ]
     },
     "metadata": {
      "needs_background": "light"
     },
     "output_type": "display_data"
    }
   ],
   "source": [
    "scatter_matrix(df[['views', 'likes', 'dislikes', 'comment_count']], figsize=(17,14))\n",
    "plt.show()"
   ]
  },
  {
   "cell_type": "markdown",
   "metadata": {},
   "source": [
    "##### Scatter plot shows the relationship between views (milion) and likes (thousand) according to categories' name of the video"
   ]
  },
  {
   "cell_type": "code",
   "execution_count": 62,
   "metadata": {
    "scrolled": true
   },
   "outputs": [
    {
     "data": {
      "text/plain": [
       "<seaborn.axisgrid.FacetGrid at 0x1dde0e6c160>"
      ]
     },
     "execution_count": 62,
     "metadata": {},
     "output_type": "execute_result"
    },
    {
     "data": {
      "image/png": "[encoded data removed]",
      "text/plain": [
       "<Figure size 504.625x360 with 1 Axes>"
      ]
     },
     "metadata": {
      "needs_background": "light"
     },
     "output_type": "display_data"
    }
   ],
   "source": [
    "sns.relplot(x='views_M', y='likes_K', hue='category_name', data=sample)"
   ]
  },
  {
   "cell_type": "markdown",
   "metadata": {},
   "source": [
    "#### Some quick comments:\n",
    " - More views -> more likes / dislikes / comments\n",
    " - More likes -> more comments\n",
    " - Likes and Dislikes usually \"grow\" together: more likes -> more dislikes and vice versa\n",
    " - If comments and ratings are disabled: views / likes / dislikes / comments all decrease -> people want to interact with videos after / before watching them\n",
    " - People press \"like\" button more than \"dislike\" and \"comment\"\n",
    " - Comedy - Short videos have the most views -> people watch short comedy videos a lot\n",
    " - Videos that allow comments have more likes than those don't\n",
    " - No comments -> Thriller, Shows, Short, and Family videos receive more likes than others\n",
    " - With comments -> Shorts and Comedy videos receive considerably more likes than others\n",
    " - There are a lots more videos in Foreign, Drama, and Comedy topics than others"
   ]
  },
  {
   "cell_type": "markdown",
   "metadata": {},
   "source": [
    "### Part II: Doing on the whole data\n",
    "#### (USA, Mexico, South Korea, Japan, Great Britain, Germany, and France regions )"
   ]
  },
  {
   "cell_type": "markdown",
   "metadata": {},
   "source": [
    "#### 4. Adding the column titled “country_origin” and then merging all into one data set."
   ]
  },
  {
   "cell_type": "code",
   "execution_count": 63,
   "metadata": {},
   "outputs": [],
   "source": [
    "def category_name_list(filename, df):\n",
    "    category_json = json.load(open(filename))\n",
    "    count = 0\n",
    "    category_dict = {}\n",
    "\n",
    "    while count < len(category_json['items']):\n",
    "        index = category_json['items'][count]['id']\n",
    "        category_dict[index] = category_json['items'][count]['snippet']['title']\n",
    "        count += 1\n",
    "        \n",
    "    category_name = [category_dict[str(index)] if str(index) in category_dict else np.nan for index in df['category_id']]\n",
    "    \n",
    "    return category_name"
   ]
  },
  {
   "cell_type": "code",
   "execution_count": 64,
   "metadata": {
    "scrolled": true
   },
   "outputs": [
    {
     "data": {
      "text/plain": [
       "(40949, 18)"
      ]
     },
     "execution_count": 64,
     "metadata": {},
     "output_type": "execute_result"
    }
   ],
   "source": [
    "# USA\n",
    "df_us = pd.read_csv('US_videos.csv', encoding_errors='ignore')\n",
    "df_us['country_origin'] = ['USA'] * df_us.shape[0]\n",
    "df_us['category_name'] = category_name_list('US_category_id.json', df_us)\n",
    "df_us.shape"
   ]
  },
  {
   "cell_type": "code",
   "execution_count": 65,
   "metadata": {},
   "outputs": [
    {
     "data": {
      "text/plain": [
       "(40451, 18)"
      ]
     },
     "execution_count": 65,
     "metadata": {},
     "output_type": "execute_result"
    }
   ],
   "source": [
    "# Mexico\n",
    "df_mx = pd.read_csv('MX_videos.csv', encoding_errors='ignore')\n",
    "df_mx['country_origin'] = ['Mexico'] * df_mx.shape[0]\n",
    "df_mx['category_name'] = category_name_list('MX_category_id.json', df_mx)\n",
    "df_mx.shape"
   ]
  },
  {
   "cell_type": "code",
   "execution_count": 66,
   "metadata": {},
   "outputs": [
    {
     "data": {
      "text/plain": [
       "(34567, 18)"
      ]
     },
     "execution_count": 66,
     "metadata": {},
     "output_type": "execute_result"
    }
   ],
   "source": [
    "# South Korea\n",
    "df_kr = pd.read_csv('KR_videos.csv', encoding_errors='ignore')\n",
    "df_kr['country_origin'] = ['Korean'] * df_kr.shape[0]\n",
    "df_kr['category_name'] = category_name_list('KR_category_id.json', df_kr)\n",
    "df_kr.shape"
   ]
  },
  {
   "cell_type": "code",
   "execution_count": 67,
   "metadata": {},
   "outputs": [
    {
     "data": {
      "text/plain": [
       "(20523, 18)"
      ]
     },
     "execution_count": 67,
     "metadata": {},
     "output_type": "execute_result"
    }
   ],
   "source": [
    "# Japan\n",
    "df_jp = pd.read_csv('JP_videos.csv', encoding_errors='ignore')\n",
    "df_jp['country_origin'] = ['Japan'] * df_jp.shape[0]\n",
    "df_jp['category_name'] = category_name_list('KR_category_id.json', df_jp)\n",
    "df_jp.shape"
   ]
  },
  {
   "cell_type": "code",
   "execution_count": 68,
   "metadata": {},
   "outputs": [
    {
     "data": {
      "text/plain": [
       "(38916, 18)"
      ]
     },
     "execution_count": 68,
     "metadata": {},
     "output_type": "execute_result"
    }
   ],
   "source": [
    "# Great Britain\n",
    "df_gb = pd.read_csv('GB_videos.csv', encoding_errors='ignore')\n",
    "df_gb['country_origin'] = ['Great Britain'] * df_gb.shape[0]\n",
    "df_gb['category_name'] = category_name_list('GB_category_id.json', df_gb)\n",
    "df_gb.shape"
   ]
  },
  {
   "cell_type": "code",
   "execution_count": 69,
   "metadata": {},
   "outputs": [
    {
     "data": {
      "text/plain": [
       "(40840, 18)"
      ]
     },
     "execution_count": 69,
     "metadata": {},
     "output_type": "execute_result"
    }
   ],
   "source": [
    "# Germany\n",
    "df_de = pd.read_csv('DE_videos.csv', encoding_errors='ignore')\n",
    "df_de['country_origin'] = ['Germany'] * df_de.shape[0]\n",
    "df_de['category_name'] = category_name_list('DE_category_id.json', df_de)\n",
    "df_de.shape"
   ]
  },
  {
   "cell_type": "code",
   "execution_count": 70,
   "metadata": {},
   "outputs": [
    {
     "data": {
      "text/plain": [
       "(40724, 18)"
      ]
     },
     "execution_count": 70,
     "metadata": {},
     "output_type": "execute_result"
    }
   ],
   "source": [
    "# France\n",
    "df_fr = pd.read_csv('fr_videos.csv', encoding_errors='ignore')\n",
    "df_fr['country_origin'] = ['France'] * df_fr.shape[0]\n",
    "df_fr['category_name'] = category_name_list('FR_category_id.json', df_fr)\n",
    "df_fr.shape"
   ]
  },
  {
   "cell_type": "code",
   "execution_count": 71,
   "metadata": {
    "scrolled": true
   },
   "outputs": [
    {
     "data": {
      "text/html": [
       "<div>\n",
       "<style scoped>\n",
       "    .dataframe tbody tr th:only-of-type {\n",
       "        vertical-align: middle;\n",
       "    }\n",
       "\n",
       "    .dataframe tbody tr th {\n",
       "        vertical-align: top;\n",
       "    }\n",
       "\n",
       "    .dataframe thead th {\n",
       "        text-align: right;\n",
       "    }\n",
       "</style>\n",
       "<table border=\"1\" class=\"dataframe\">\n",
       "  <thead>\n",
       "    <tr style=\"text-align: right;\">\n",
       "      <th></th>\n",
       "      <th>video_id</th>\n",
       "      <th>trending_date</th>\n",
       "      <th>title</th>\n",
       "      <th>channel_title</th>\n",
       "      <th>category_id</th>\n",
       "      <th>publish_time</th>\n",
       "      <th>tags</th>\n",
       "      <th>views</th>\n",
       "      <th>likes</th>\n",
       "      <th>dislikes</th>\n",
       "      <th>comment_count</th>\n",
       "      <th>thumbnail_link</th>\n",
       "      <th>comments_disabled</th>\n",
       "      <th>ratings_disabled</th>\n",
       "      <th>video_error_or_removed</th>\n",
       "      <th>description</th>\n",
       "      <th>country_origin</th>\n",
       "      <th>category_name</th>\n",
       "    </tr>\n",
       "  </thead>\n",
       "  <tbody>\n",
       "    <tr>\n",
       "      <th>0</th>\n",
       "      <td>2kyS6SvSYSE</td>\n",
       "      <td>17.14.11</td>\n",
       "      <td>WE WANT TO TALK ABOUT OUR MARRIAGE</td>\n",
       "      <td>CaseyNeistat</td>\n",
       "      <td>22</td>\n",
       "      <td>2017-11-13T17:13:01.000Z</td>\n",
       "      <td>SHANtell martin</td>\n",
       "      <td>748374</td>\n",
       "      <td>57527</td>\n",
       "      <td>2966</td>\n",
       "      <td>15954</td>\n",
       "      <td>https://i.ytimg.com/vi/2kyS6SvSYSE/default.jpg</td>\n",
       "      <td>False</td>\n",
       "      <td>False</td>\n",
       "      <td>False</td>\n",
       "      <td>SHANTELL'S CHANNEL - https://www.youtube.com/s...</td>\n",
       "      <td>USA</td>\n",
       "      <td>People &amp; Blogs</td>\n",
       "    </tr>\n",
       "    <tr>\n",
       "      <th>1</th>\n",
       "      <td>1ZAPwfrtAFY</td>\n",
       "      <td>17.14.11</td>\n",
       "      <td>The Trump Presidency: Last Week Tonight with J...</td>\n",
       "      <td>LastWeekTonight</td>\n",
       "      <td>24</td>\n",
       "      <td>2017-11-13T07:30:00.000Z</td>\n",
       "      <td>last week tonight trump presidency|\"last week ...</td>\n",
       "      <td>2418783</td>\n",
       "      <td>97185</td>\n",
       "      <td>6146</td>\n",
       "      <td>12703</td>\n",
       "      <td>https://i.ytimg.com/vi/1ZAPwfrtAFY/default.jpg</td>\n",
       "      <td>False</td>\n",
       "      <td>False</td>\n",
       "      <td>False</td>\n",
       "      <td>One year after the presidential election, John...</td>\n",
       "      <td>USA</td>\n",
       "      <td>Entertainment</td>\n",
       "    </tr>\n",
       "    <tr>\n",
       "      <th>2</th>\n",
       "      <td>5qpjK5DgCt4</td>\n",
       "      <td>17.14.11</td>\n",
       "      <td>Racist Superman | Rudy Mancuso, King Bach &amp; Le...</td>\n",
       "      <td>Rudy Mancuso</td>\n",
       "      <td>23</td>\n",
       "      <td>2017-11-12T19:05:24.000Z</td>\n",
       "      <td>racist superman|\"rudy\"|\"mancuso\"|\"king\"|\"bach\"...</td>\n",
       "      <td>3191434</td>\n",
       "      <td>146033</td>\n",
       "      <td>5339</td>\n",
       "      <td>8181</td>\n",
       "      <td>https://i.ytimg.com/vi/5qpjK5DgCt4/default.jpg</td>\n",
       "      <td>False</td>\n",
       "      <td>False</td>\n",
       "      <td>False</td>\n",
       "      <td>WATCH MY PREVIOUS VIDEO ▶ \\n\\nSUBSCRIBE ► http...</td>\n",
       "      <td>USA</td>\n",
       "      <td>Comedy</td>\n",
       "    </tr>\n",
       "    <tr>\n",
       "      <th>3</th>\n",
       "      <td>puqaWrEC7tY</td>\n",
       "      <td>17.14.11</td>\n",
       "      <td>Nickelback Lyrics: Real or Fake?</td>\n",
       "      <td>Good Mythical Morning</td>\n",
       "      <td>24</td>\n",
       "      <td>2017-11-13T11:00:04.000Z</td>\n",
       "      <td>rhett and link|\"gmm\"|\"good mythical morning\"|\"...</td>\n",
       "      <td>343168</td>\n",
       "      <td>10172</td>\n",
       "      <td>666</td>\n",
       "      <td>2146</td>\n",
       "      <td>https://i.ytimg.com/vi/puqaWrEC7tY/default.jpg</td>\n",
       "      <td>False</td>\n",
       "      <td>False</td>\n",
       "      <td>False</td>\n",
       "      <td>Today we find out if Link is a Nickelback amat...</td>\n",
       "      <td>USA</td>\n",
       "      <td>Entertainment</td>\n",
       "    </tr>\n",
       "    <tr>\n",
       "      <th>4</th>\n",
       "      <td>d380meD0W0M</td>\n",
       "      <td>17.14.11</td>\n",
       "      <td>I Dare You: GOING BALD!?</td>\n",
       "      <td>nigahiga</td>\n",
       "      <td>24</td>\n",
       "      <td>2017-11-12T18:01:41.000Z</td>\n",
       "      <td>ryan|\"higa\"|\"higatv\"|\"nigahiga\"|\"i dare you\"|\"...</td>\n",
       "      <td>2095731</td>\n",
       "      <td>132235</td>\n",
       "      <td>1989</td>\n",
       "      <td>17518</td>\n",
       "      <td>https://i.ytimg.com/vi/d380meD0W0M/default.jpg</td>\n",
       "      <td>False</td>\n",
       "      <td>False</td>\n",
       "      <td>False</td>\n",
       "      <td>I know it's been a while since we did this sho...</td>\n",
       "      <td>USA</td>\n",
       "      <td>Entertainment</td>\n",
       "    </tr>\n",
       "  </tbody>\n",
       "</table>\n",
       "</div>"
      ],
      "text/plain": [
       "      video_id trending_date  \\\n",
       "0  2kyS6SvSYSE      17.14.11   \n",
       "1  1ZAPwfrtAFY      17.14.11   \n",
       "2  5qpjK5DgCt4      17.14.11   \n",
       "3  puqaWrEC7tY      17.14.11   \n",
       "4  d380meD0W0M      17.14.11   \n",
       "\n",
       "                                               title          channel_title  \\\n",
       "0                 WE WANT TO TALK ABOUT OUR MARRIAGE           CaseyNeistat   \n",
       "1  The Trump Presidency: Last Week Tonight with J...        LastWeekTonight   \n",
       "2  Racist Superman | Rudy Mancuso, King Bach & Le...           Rudy Mancuso   \n",
       "3                   Nickelback Lyrics: Real or Fake?  Good Mythical Morning   \n",
       "4                           I Dare You: GOING BALD!?               nigahiga   \n",
       "\n",
       "   category_id              publish_time  \\\n",
       "0           22  2017-11-13T17:13:01.000Z   \n",
       "1           24  2017-11-13T07:30:00.000Z   \n",
       "2           23  2017-11-12T19:05:24.000Z   \n",
       "3           24  2017-11-13T11:00:04.000Z   \n",
       "4           24  2017-11-12T18:01:41.000Z   \n",
       "\n",
       "                                                tags    views   likes  \\\n",
       "0                                    SHANtell martin   748374   57527   \n",
       "1  last week tonight trump presidency|\"last week ...  2418783   97185   \n",
       "2  racist superman|\"rudy\"|\"mancuso\"|\"king\"|\"bach\"...  3191434  146033   \n",
       "3  rhett and link|\"gmm\"|\"good mythical morning\"|\"...   343168   10172   \n",
       "4  ryan|\"higa\"|\"higatv\"|\"nigahiga\"|\"i dare you\"|\"...  2095731  132235   \n",
       "\n",
       "   dislikes  comment_count                                  thumbnail_link  \\\n",
       "0      2966          15954  https://i.ytimg.com/vi/2kyS6SvSYSE/default.jpg   \n",
       "1      6146          12703  https://i.ytimg.com/vi/1ZAPwfrtAFY/default.jpg   \n",
       "2      5339           8181  https://i.ytimg.com/vi/5qpjK5DgCt4/default.jpg   \n",
       "3       666           2146  https://i.ytimg.com/vi/puqaWrEC7tY/default.jpg   \n",
       "4      1989          17518  https://i.ytimg.com/vi/d380meD0W0M/default.jpg   \n",
       "\n",
       "   comments_disabled  ratings_disabled  video_error_or_removed  \\\n",
       "0              False             False                   False   \n",
       "1              False             False                   False   \n",
       "2              False             False                   False   \n",
       "3              False             False                   False   \n",
       "4              False             False                   False   \n",
       "\n",
       "                                         description country_origin  \\\n",
       "0  SHANTELL'S CHANNEL - https://www.youtube.com/s...            USA   \n",
       "1  One year after the presidential election, John...            USA   \n",
       "2  WATCH MY PREVIOUS VIDEO ▶ \\n\\nSUBSCRIBE ► http...            USA   \n",
       "3  Today we find out if Link is a Nickelback amat...            USA   \n",
       "4  I know it's been a while since we did this sho...            USA   \n",
       "\n",
       "    category_name  \n",
       "0  People & Blogs  \n",
       "1   Entertainment  \n",
       "2          Comedy  \n",
       "3   Entertainment  \n",
       "4   Entertainment  "
      ]
     },
     "execution_count": 71,
     "metadata": {},
     "output_type": "execute_result"
    }
   ],
   "source": [
    "dfs = [df_us, df_mx, df_kr, df_jp, df_gb, df_de, df_fr]\n",
    "merged_df = pd.concat(dfs, ignore_index=True)\n",
    "merged_df.head(5)"
   ]
  },
  {
   "cell_type": "code",
   "execution_count": 72,
   "metadata": {},
   "outputs": [
    {
     "data": {
      "text/html": [
       "<div>\n",
       "<style scoped>\n",
       "    .dataframe tbody tr th:only-of-type {\n",
       "        vertical-align: middle;\n",
       "    }\n",
       "\n",
       "    .dataframe tbody tr th {\n",
       "        vertical-align: top;\n",
       "    }\n",
       "\n",
       "    .dataframe thead th {\n",
       "        text-align: right;\n",
       "    }\n",
       "</style>\n",
       "<table border=\"1\" class=\"dataframe\">\n",
       "  <thead>\n",
       "    <tr style=\"text-align: right;\">\n",
       "      <th></th>\n",
       "      <th>video_id</th>\n",
       "      <th>trending_date</th>\n",
       "      <th>title</th>\n",
       "      <th>channel_title</th>\n",
       "      <th>category_id</th>\n",
       "      <th>publish_time</th>\n",
       "      <th>tags</th>\n",
       "      <th>views</th>\n",
       "      <th>likes</th>\n",
       "      <th>dislikes</th>\n",
       "      <th>comment_count</th>\n",
       "      <th>thumbnail_link</th>\n",
       "      <th>comments_disabled</th>\n",
       "      <th>ratings_disabled</th>\n",
       "      <th>video_error_or_removed</th>\n",
       "      <th>description</th>\n",
       "      <th>country_origin</th>\n",
       "      <th>category_name</th>\n",
       "    </tr>\n",
       "  </thead>\n",
       "  <tbody>\n",
       "    <tr>\n",
       "      <th>144551</th>\n",
       "      <td>QfmgAmtGXwo</td>\n",
       "      <td>17.24.12</td>\n",
       "      <td>MY FAVOURITE FILMS THIS YEAR 🎬</td>\n",
       "      <td>KickThePj</td>\n",
       "      <td>1</td>\n",
       "      <td>2017-12-18T16:50:15.000Z</td>\n",
       "      <td>kickthepj|\"pjthekick\"|\"movie weekender\"|\"movie...</td>\n",
       "      <td>95818</td>\n",
       "      <td>14373</td>\n",
       "      <td>70</td>\n",
       "      <td>3857</td>\n",
       "      <td>https://i.ytimg.com/vi/QfmgAmtGXwo/default.jpg</td>\n",
       "      <td>False</td>\n",
       "      <td>False</td>\n",
       "      <td>False</td>\n",
       "      <td>to find a favourite film of the year for your ...</td>\n",
       "      <td>Great Britain</td>\n",
       "      <td>Film &amp; Animation</td>\n",
       "    </tr>\n",
       "    <tr>\n",
       "      <th>202030</th>\n",
       "      <td>CHXqiiCZSbM</td>\n",
       "      <td>18.29.03</td>\n",
       "      <td>Dirk Müller - Facebook &amp; der perfide Plan hint...</td>\n",
       "      <td>Cashkurs.com</td>\n",
       "      <td>25</td>\n",
       "      <td>2018-03-28T07:27:12.000Z</td>\n",
       "      <td>Facebook|\"Datenschutz\"|\"Datenmissbrauch\"|\"KI\"|...</td>\n",
       "      <td>84051</td>\n",
       "      <td>4458</td>\n",
       "      <td>61</td>\n",
       "      <td>0</td>\n",
       "      <td>https://i.ytimg.com/vi/CHXqiiCZSbM/default.jpg</td>\n",
       "      <td>True</td>\n",
       "      <td>False</td>\n",
       "      <td>False</td>\n",
       "      <td>Alle Welt empört sich aktuell darüber, was uns...</td>\n",
       "      <td>Germany</td>\n",
       "      <td>News &amp; Politics</td>\n",
       "    </tr>\n",
       "    <tr>\n",
       "      <th>78700</th>\n",
       "      <td>JwkSHpA3VOQ</td>\n",
       "      <td>18.31.05</td>\n",
       "      <td>Ep 1 - John Cena &amp; Kat Dennings in Dallas &amp; Ro...</td>\n",
       "      <td>WWE</td>\n",
       "      <td>23</td>\n",
       "      <td>2018-05-30T16:00:08.000Z</td>\n",
       "      <td>Dallas &amp; Robo|\"Dallas and Robo\"|\"Dallas\"|\"Robo...</td>\n",
       "      <td>189720</td>\n",
       "      <td>4169</td>\n",
       "      <td>620</td>\n",
       "      <td>593</td>\n",
       "      <td>https://i.ytimg.com/vi/JwkSHpA3VOQ/default.jpg</td>\n",
       "      <td>False</td>\n",
       "      <td>False</td>\n",
       "      <td>False</td>\n",
       "      <td>When space truckers DALLAS &amp; ROBO have their t...</td>\n",
       "      <td>Mexico</td>\n",
       "      <td>Comedy</td>\n",
       "    </tr>\n",
       "    <tr>\n",
       "      <th>34400</th>\n",
       "      <td>DZJod5hUqx4</td>\n",
       "      <td>18.13.05</td>\n",
       "      <td>Michael B. Jordan Kept A Killmonger Diary</td>\n",
       "      <td>The Late Show with Stephen Colbert</td>\n",
       "      <td>24</td>\n",
       "      <td>2018-05-09T07:35:01.000Z</td>\n",
       "      <td>The Late Show|\"Late Show\"|\"Stephen Colbert\"|\"S...</td>\n",
       "      <td>524638</td>\n",
       "      <td>8709</td>\n",
       "      <td>218</td>\n",
       "      <td>748</td>\n",
       "      <td>https://i.ytimg.com/vi/DZJod5hUqx4/default.jpg</td>\n",
       "      <td>False</td>\n",
       "      <td>False</td>\n",
       "      <td>False</td>\n",
       "      <td>'Fahrenheit 451' star Michael B. Jordan approa...</td>\n",
       "      <td>USA</td>\n",
       "      <td>Entertainment</td>\n",
       "    </tr>\n",
       "    <tr>\n",
       "      <th>80759</th>\n",
       "      <td>RlwMH8XJKuM</td>\n",
       "      <td>18.11.06</td>\n",
       "      <td>Famosas que son reconocidas por su mala higien...</td>\n",
       "      <td>Los Capitanes HD</td>\n",
       "      <td>24</td>\n",
       "      <td>2018-06-10T11:28:47.000Z</td>\n",
       "      <td>Famosas|\"reconocidas\"|\"mala higiene\"</td>\n",
       "      <td>35591</td>\n",
       "      <td>115</td>\n",
       "      <td>101</td>\n",
       "      <td>22</td>\n",
       "      <td>https://i.ytimg.com/vi/RlwMH8XJKuM/default.jpg</td>\n",
       "      <td>False</td>\n",
       "      <td>False</td>\n",
       "      <td>False</td>\n",
       "      <td>NaN</td>\n",
       "      <td>Mexico</td>\n",
       "      <td>Entertainment</td>\n",
       "    </tr>\n",
       "  </tbody>\n",
       "</table>\n",
       "</div>"
      ],
      "text/plain": [
       "           video_id trending_date  \\\n",
       "144551  QfmgAmtGXwo      17.24.12   \n",
       "202030  CHXqiiCZSbM      18.29.03   \n",
       "78700   JwkSHpA3VOQ      18.31.05   \n",
       "34400   DZJod5hUqx4      18.13.05   \n",
       "80759   RlwMH8XJKuM      18.11.06   \n",
       "\n",
       "                                                    title  \\\n",
       "144551                     MY FAVOURITE FILMS THIS YEAR 🎬   \n",
       "202030  Dirk Müller - Facebook & der perfide Plan hint...   \n",
       "78700   Ep 1 - John Cena & Kat Dennings in Dallas & Ro...   \n",
       "34400           Michael B. Jordan Kept A Killmonger Diary   \n",
       "80759   Famosas que son reconocidas por su mala higien...   \n",
       "\n",
       "                             channel_title  category_id  \\\n",
       "144551                           KickThePj            1   \n",
       "202030                        Cashkurs.com           25   \n",
       "78700                                  WWE           23   \n",
       "34400   The Late Show with Stephen Colbert           24   \n",
       "80759                     Los Capitanes HD           24   \n",
       "\n",
       "                    publish_time  \\\n",
       "144551  2017-12-18T16:50:15.000Z   \n",
       "202030  2018-03-28T07:27:12.000Z   \n",
       "78700   2018-05-30T16:00:08.000Z   \n",
       "34400   2018-05-09T07:35:01.000Z   \n",
       "80759   2018-06-10T11:28:47.000Z   \n",
       "\n",
       "                                                     tags   views  likes  \\\n",
       "144551  kickthepj|\"pjthekick\"|\"movie weekender\"|\"movie...   95818  14373   \n",
       "202030  Facebook|\"Datenschutz\"|\"Datenmissbrauch\"|\"KI\"|...   84051   4458   \n",
       "78700   Dallas & Robo|\"Dallas and Robo\"|\"Dallas\"|\"Robo...  189720   4169   \n",
       "34400   The Late Show|\"Late Show\"|\"Stephen Colbert\"|\"S...  524638   8709   \n",
       "80759                Famosas|\"reconocidas\"|\"mala higiene\"   35591    115   \n",
       "\n",
       "        dislikes  comment_count  \\\n",
       "144551        70           3857   \n",
       "202030        61              0   \n",
       "78700        620            593   \n",
       "34400        218            748   \n",
       "80759        101             22   \n",
       "\n",
       "                                        thumbnail_link  comments_disabled  \\\n",
       "144551  https://i.ytimg.com/vi/QfmgAmtGXwo/default.jpg              False   \n",
       "202030  https://i.ytimg.com/vi/CHXqiiCZSbM/default.jpg               True   \n",
       "78700   https://i.ytimg.com/vi/JwkSHpA3VOQ/default.jpg              False   \n",
       "34400   https://i.ytimg.com/vi/DZJod5hUqx4/default.jpg              False   \n",
       "80759   https://i.ytimg.com/vi/RlwMH8XJKuM/default.jpg              False   \n",
       "\n",
       "        ratings_disabled  video_error_or_removed  \\\n",
       "144551             False                   False   \n",
       "202030             False                   False   \n",
       "78700              False                   False   \n",
       "34400              False                   False   \n",
       "80759              False                   False   \n",
       "\n",
       "                                              description country_origin  \\\n",
       "144551  to find a favourite film of the year for your ...  Great Britain   \n",
       "202030  Alle Welt empört sich aktuell darüber, was uns...        Germany   \n",
       "78700   When space truckers DALLAS & ROBO have their t...         Mexico   \n",
       "34400   'Fahrenheit 451' star Michael B. Jordan approa...            USA   \n",
       "80759                                                 NaN         Mexico   \n",
       "\n",
       "           category_name  \n",
       "144551  Film & Animation  \n",
       "202030   News & Politics  \n",
       "78700             Comedy  \n",
       "34400      Entertainment  \n",
       "80759      Entertainment  "
      ]
     },
     "execution_count": 72,
     "metadata": {},
     "output_type": "execute_result"
    }
   ],
   "source": [
    "merged_df.sample(5)"
   ]
  },
  {
   "cell_type": "code",
   "execution_count": 73,
   "metadata": {
    "scrolled": true
   },
   "outputs": [
    {
     "data": {
      "text/html": [
       "<div>\n",
       "<style scoped>\n",
       "    .dataframe tbody tr th:only-of-type {\n",
       "        vertical-align: middle;\n",
       "    }\n",
       "\n",
       "    .dataframe tbody tr th {\n",
       "        vertical-align: top;\n",
       "    }\n",
       "\n",
       "    .dataframe thead th {\n",
       "        text-align: right;\n",
       "    }\n",
       "</style>\n",
       "<table border=\"1\" class=\"dataframe\">\n",
       "  <thead>\n",
       "    <tr style=\"text-align: right;\">\n",
       "      <th></th>\n",
       "      <th>video_id</th>\n",
       "      <th>trending_date</th>\n",
       "      <th>title</th>\n",
       "      <th>channel_title</th>\n",
       "      <th>category_id</th>\n",
       "      <th>publish_time</th>\n",
       "      <th>tags</th>\n",
       "      <th>views</th>\n",
       "      <th>likes</th>\n",
       "      <th>dislikes</th>\n",
       "      <th>comment_count</th>\n",
       "      <th>thumbnail_link</th>\n",
       "      <th>comments_disabled</th>\n",
       "      <th>ratings_disabled</th>\n",
       "      <th>video_error_or_removed</th>\n",
       "      <th>description</th>\n",
       "      <th>country_origin</th>\n",
       "      <th>category_name</th>\n",
       "    </tr>\n",
       "  </thead>\n",
       "  <tbody>\n",
       "    <tr>\n",
       "      <th>256965</th>\n",
       "      <td>coVXf3Q9xBk</td>\n",
       "      <td>18.14.06</td>\n",
       "      <td>عاجل و رسمي : الملف الأمريكي يفوز بشرف تنظيم ك...</td>\n",
       "      <td>KORA LOVERS</td>\n",
       "      <td>1</td>\n",
       "      <td>2018-06-13T12:31:04.000Z</td>\n",
       "      <td>تنظيم كأس العالم 2026|\"كأس العالم 2026\"|\"المغر...</td>\n",
       "      <td>58758</td>\n",
       "      <td>307</td>\n",
       "      <td>86</td>\n",
       "      <td>485</td>\n",
       "      <td>https://i.ytimg.com/vi/coVXf3Q9xBk/default.jpg</td>\n",
       "      <td>False</td>\n",
       "      <td>False</td>\n",
       "      <td>False</td>\n",
       "      <td>المغرب تخسر تنظيم مونديال كاس العالم 2026 لصال...</td>\n",
       "      <td>France</td>\n",
       "      <td>Film &amp; Animation</td>\n",
       "    </tr>\n",
       "    <tr>\n",
       "      <th>256966</th>\n",
       "      <td>_umkjOQJvtw</td>\n",
       "      <td>18.14.06</td>\n",
       "      <td>شاهد ملخص البرلمان اليوم بحضور اخنوش الدي يعطي...</td>\n",
       "      <td>Jadal جدل</td>\n",
       "      <td>25</td>\n",
       "      <td>2018-06-12T17:51:24.000Z</td>\n",
       "      <td>الباكالوريا في المغرب|\"صحاب الباك\"|\"صحاب الباك...</td>\n",
       "      <td>264639</td>\n",
       "      <td>2011</td>\n",
       "      <td>999</td>\n",
       "      <td>1397</td>\n",
       "      <td>https://i.ytimg.com/vi/_umkjOQJvtw/default.jpg</td>\n",
       "      <td>False</td>\n",
       "      <td>False</td>\n",
       "      <td>False</td>\n",
       "      <td>ملخص ابرز ما حصل في جلسة البرلمان يوم 12/06/20...</td>\n",
       "      <td>France</td>\n",
       "      <td>News &amp; Politics</td>\n",
       "    </tr>\n",
       "    <tr>\n",
       "      <th>256967</th>\n",
       "      <td>nt25ec7nzIM</td>\n",
       "      <td>18.14.06</td>\n",
       "      <td>UN ANIME EXPLOSIF A VOIR ABSOLUMENT !</td>\n",
       "      <td>RushManga</td>\n",
       "      <td>22</td>\n",
       "      <td>2018-06-13T11:50:18.000Z</td>\n",
       "      <td>RushManga|\"rush manga\"|\"anime a voir\"|\"UN ANIM...</td>\n",
       "      <td>47510</td>\n",
       "      <td>4601</td>\n",
       "      <td>61</td>\n",
       "      <td>615</td>\n",
       "      <td>https://i.ytimg.com/vi/nt25ec7nzIM/default.jpg</td>\n",
       "      <td>False</td>\n",
       "      <td>False</td>\n",
       "      <td>False</td>\n",
       "      <td>•● Yozakura Quartet ~Hana no Uta~ ●•☆ S'abonne...</td>\n",
       "      <td>France</td>\n",
       "      <td>People &amp; Blogs</td>\n",
       "    </tr>\n",
       "    <tr>\n",
       "      <th>256968</th>\n",
       "      <td>NlxE_QQMRzg</td>\n",
       "      <td>18.14.06</td>\n",
       "      <td>Նռան հատիկ, Սերիա 192 / Pomegranate seed / Nra...</td>\n",
       "      <td>PanArmenian TV</td>\n",
       "      <td>1</td>\n",
       "      <td>2018-06-13T18:30:00.000Z</td>\n",
       "      <td>Նռան հատիկ|\"Սերիա 192\"|\"Pomegranate seed\"|\"Nra...</td>\n",
       "      <td>78117</td>\n",
       "      <td>244</td>\n",
       "      <td>74</td>\n",
       "      <td>46</td>\n",
       "      <td>https://i.ytimg.com/vi/NlxE_QQMRzg/default.jpg</td>\n",
       "      <td>False</td>\n",
       "      <td>False</td>\n",
       "      <td>False</td>\n",
       "      <td>Follow Armenia TV on social platforms:Instagra...</td>\n",
       "      <td>France</td>\n",
       "      <td>Film &amp; Animation</td>\n",
       "    </tr>\n",
       "    <tr>\n",
       "      <th>256969</th>\n",
       "      <td>_LgKglfnqlc</td>\n",
       "      <td>18.14.06</td>\n",
       "      <td>Mandoumbé ak Koor Gui 2018 Episode 28</td>\n",
       "      <td>Yesdakar</td>\n",
       "      <td>24</td>\n",
       "      <td>2018-06-13T19:45:14.000Z</td>\n",
       "      <td>ramadan2018|\"koorgui\"|\"Mandoumbé\"</td>\n",
       "      <td>46604</td>\n",
       "      <td>947</td>\n",
       "      <td>37</td>\n",
       "      <td>127</td>\n",
       "      <td>https://i.ytimg.com/vi/_LgKglfnqlc/default.jpg</td>\n",
       "      <td>False</td>\n",
       "      <td>False</td>\n",
       "      <td>False</td>\n",
       "      <td>NaN</td>\n",
       "      <td>France</td>\n",
       "      <td>Entertainment</td>\n",
       "    </tr>\n",
       "  </tbody>\n",
       "</table>\n",
       "</div>"
      ],
      "text/plain": [
       "           video_id trending_date  \\\n",
       "256965  coVXf3Q9xBk      18.14.06   \n",
       "256966  _umkjOQJvtw      18.14.06   \n",
       "256967  nt25ec7nzIM      18.14.06   \n",
       "256968  NlxE_QQMRzg      18.14.06   \n",
       "256969  _LgKglfnqlc      18.14.06   \n",
       "\n",
       "                                                    title   channel_title  \\\n",
       "256965  عاجل و رسمي : الملف الأمريكي يفوز بشرف تنظيم ك...     KORA LOVERS   \n",
       "256966  شاهد ملخص البرلمان اليوم بحضور اخنوش الدي يعطي...       Jadal جدل   \n",
       "256967              UN ANIME EXPLOSIF A VOIR ABSOLUMENT !       RushManga   \n",
       "256968  Նռան հատիկ, Սերիա 192 / Pomegranate seed / Nra...  PanArmenian TV   \n",
       "256969              Mandoumbé ak Koor Gui 2018 Episode 28        Yesdakar   \n",
       "\n",
       "        category_id              publish_time  \\\n",
       "256965            1  2018-06-13T12:31:04.000Z   \n",
       "256966           25  2018-06-12T17:51:24.000Z   \n",
       "256967           22  2018-06-13T11:50:18.000Z   \n",
       "256968            1  2018-06-13T18:30:00.000Z   \n",
       "256969           24  2018-06-13T19:45:14.000Z   \n",
       "\n",
       "                                                     tags   views  likes  \\\n",
       "256965  تنظيم كأس العالم 2026|\"كأس العالم 2026\"|\"المغر...   58758    307   \n",
       "256966  الباكالوريا في المغرب|\"صحاب الباك\"|\"صحاب الباك...  264639   2011   \n",
       "256967  RushManga|\"rush manga\"|\"anime a voir\"|\"UN ANIM...   47510   4601   \n",
       "256968  Նռան հատիկ|\"Սերիա 192\"|\"Pomegranate seed\"|\"Nra...   78117    244   \n",
       "256969                  ramadan2018|\"koorgui\"|\"Mandoumbé\"   46604    947   \n",
       "\n",
       "        dislikes  comment_count  \\\n",
       "256965        86            485   \n",
       "256966       999           1397   \n",
       "256967        61            615   \n",
       "256968        74             46   \n",
       "256969        37            127   \n",
       "\n",
       "                                        thumbnail_link  comments_disabled  \\\n",
       "256965  https://i.ytimg.com/vi/coVXf3Q9xBk/default.jpg              False   \n",
       "256966  https://i.ytimg.com/vi/_umkjOQJvtw/default.jpg              False   \n",
       "256967  https://i.ytimg.com/vi/nt25ec7nzIM/default.jpg              False   \n",
       "256968  https://i.ytimg.com/vi/NlxE_QQMRzg/default.jpg              False   \n",
       "256969  https://i.ytimg.com/vi/_LgKglfnqlc/default.jpg              False   \n",
       "\n",
       "        ratings_disabled  video_error_or_removed  \\\n",
       "256965             False                   False   \n",
       "256966             False                   False   \n",
       "256967             False                   False   \n",
       "256968             False                   False   \n",
       "256969             False                   False   \n",
       "\n",
       "                                              description country_origin  \\\n",
       "256965  المغرب تخسر تنظيم مونديال كاس العالم 2026 لصال...         France   \n",
       "256966  ملخص ابرز ما حصل في جلسة البرلمان يوم 12/06/20...         France   \n",
       "256967  •● Yozakura Quartet ~Hana no Uta~ ●•☆ S'abonne...         France   \n",
       "256968  Follow Armenia TV on social platforms:Instagra...         France   \n",
       "256969                                                NaN         France   \n",
       "\n",
       "           category_name  \n",
       "256965  Film & Animation  \n",
       "256966   News & Politics  \n",
       "256967    People & Blogs  \n",
       "256968  Film & Animation  \n",
       "256969     Entertainment  "
      ]
     },
     "execution_count": 73,
     "metadata": {},
     "output_type": "execute_result"
    }
   ],
   "source": [
    "merged_df.tail(5)"
   ]
  },
  {
   "cell_type": "code",
   "execution_count": 74,
   "metadata": {},
   "outputs": [],
   "source": [
    "merged_df.dropna(axis='rows', inplace=True)"
   ]
  },
  {
   "cell_type": "markdown",
   "metadata": {},
   "source": [
    "#### 5. Doing correlation analysis\n",
    "\n",
    "\n",
    "##### categorical variables\n",
    "country_origin\n",
    "publish_year\n",
    "publish_month\n",
    "trending_date\n",
    "category_id\n",
    "comments_disabled\n",
    "ratings_disabled\n",
    "\n",
    "\n",
    "##### numerical variables\n",
    "likes\n",
    "dislikes\n",
    "views_count\n",
    "comment_count"
   ]
  },
  {
   "cell_type": "code",
   "execution_count": 75,
   "metadata": {},
   "outputs": [
    {
     "data": {
      "text/plain": [
       "(240973, 18)"
      ]
     },
     "execution_count": 75,
     "metadata": {},
     "output_type": "execute_result"
    }
   ],
   "source": [
    "merged_df.shape"
   ]
  },
  {
   "cell_type": "code",
   "execution_count": 76,
   "metadata": {},
   "outputs": [
    {
     "name": "stdout",
     "output_type": "stream",
     "text": [
      "<class 'pandas.core.frame.DataFrame'>\n",
      "Int64Index: 240973 entries, 0 to 256968\n",
      "Data columns (total 18 columns):\n",
      " #   Column                  Non-Null Count   Dtype \n",
      "---  ------                  --------------   ----- \n",
      " 0   video_id                240973 non-null  object\n",
      " 1   trending_date           240973 non-null  object\n",
      " 2   title                   240973 non-null  object\n",
      " 3   channel_title           240973 non-null  object\n",
      " 4   category_id             240973 non-null  int64 \n",
      " 5   publish_time            240973 non-null  object\n",
      " 6   tags                    240973 non-null  object\n",
      " 7   views                   240973 non-null  int64 \n",
      " 8   likes                   240973 non-null  int64 \n",
      " 9   dislikes                240973 non-null  int64 \n",
      " 10  comment_count           240973 non-null  int64 \n",
      " 11  thumbnail_link          240973 non-null  object\n",
      " 12  comments_disabled       240973 non-null  bool  \n",
      " 13  ratings_disabled        240973 non-null  bool  \n",
      " 14  video_error_or_removed  240973 non-null  bool  \n",
      " 15  description             240973 non-null  object\n",
      " 16  country_origin          240973 non-null  object\n",
      " 17  category_name           240973 non-null  object\n",
      "dtypes: bool(3), int64(5), object(10)\n",
      "memory usage: 30.1+ MB\n"
     ]
    }
   ],
   "source": [
    "merged_df.info()"
   ]
  },
  {
   "cell_type": "code",
   "execution_count": 77,
   "metadata": {},
   "outputs": [
    {
     "data": {
      "text/plain": [
       "Index(['video_id', 'trending_date', 'title', 'channel_title', 'category_id',\n",
       "       'publish_time', 'tags', 'views', 'likes', 'dislikes', 'comment_count',\n",
       "       'thumbnail_link', 'comments_disabled', 'ratings_disabled',\n",
       "       'video_error_or_removed', 'description', 'country_origin',\n",
       "       'category_name'],\n",
       "      dtype='object')"
      ]
     },
     "execution_count": 77,
     "metadata": {},
     "output_type": "execute_result"
    }
   ],
   "source": [
    "merged_df.columns"
   ]
  },
  {
   "cell_type": "code",
   "execution_count": 78,
   "metadata": {},
   "outputs": [],
   "source": [
    "# basic cleaning\n",
    "merged_df['trending_date'] = pd.to_datetime(merged_df['trending_date'], format='%y.%d.%m')\n",
    "merged_df['publish_time'] = pd.to_datetime(merged_df['publish_time'])\n",
    "\n",
    "merged_df['category_id'] = merged_df['category_id'].astype('category')\n",
    "merged_df['tags'] = merged_df['tags'].astype('category')\n",
    "\n",
    "merged_df.drop_duplicates(inplace=True)"
   ]
  },
  {
   "cell_type": "code",
   "execution_count": 79,
   "metadata": {
    "scrolled": true
   },
   "outputs": [
    {
     "data": {
      "text/plain": [
       "video_id                  False\n",
       "trending_date             False\n",
       "title                     False\n",
       "channel_title             False\n",
       "category_id               False\n",
       "publish_time              False\n",
       "tags                      False\n",
       "views                     False\n",
       "likes                     False\n",
       "dislikes                  False\n",
       "comment_count             False\n",
       "thumbnail_link            False\n",
       "comments_disabled         False\n",
       "ratings_disabled          False\n",
       "video_error_or_removed    False\n",
       "description               False\n",
       "country_origin            False\n",
       "category_name             False\n",
       "dtype: bool"
      ]
     },
     "execution_count": 79,
     "metadata": {},
     "output_type": "execute_result"
    }
   ],
   "source": [
    "merged_df.isnull().any()"
   ]
  },
  {
   "cell_type": "code",
   "execution_count": 80,
   "metadata": {},
   "outputs": [
    {
     "name": "stdout",
     "output_type": "stream",
     "text": [
      "<class 'pandas.core.frame.DataFrame'>\n",
      "Int64Index: 233498 entries, 0 to 256968\n",
      "Data columns (total 20 columns):\n",
      " #   Column                  Non-Null Count   Dtype              \n",
      "---  ------                  --------------   -----              \n",
      " 0   video_id                233498 non-null  object             \n",
      " 1   trending_date           233498 non-null  datetime64[ns]     \n",
      " 2   title                   233498 non-null  object             \n",
      " 3   channel_title           233498 non-null  object             \n",
      " 4   category_id             233498 non-null  category           \n",
      " 5   publish_time            233498 non-null  datetime64[ns, UTC]\n",
      " 6   tags                    233498 non-null  category           \n",
      " 7   views                   233498 non-null  int64              \n",
      " 8   likes                   233498 non-null  int64              \n",
      " 9   dislikes                233498 non-null  int64              \n",
      " 10  comment_count           233498 non-null  int64              \n",
      " 11  thumbnail_link          233498 non-null  object             \n",
      " 12  comments_disabled       233498 non-null  bool               \n",
      " 13  ratings_disabled        233498 non-null  bool               \n",
      " 14  video_error_or_removed  233498 non-null  bool               \n",
      " 15  description             233498 non-null  object             \n",
      " 16  country_origin          233498 non-null  object             \n",
      " 17  category_name           233498 non-null  object             \n",
      " 18  publish_year            233498 non-null  int64              \n",
      " 19  publish_month           233498 non-null  int64              \n",
      "dtypes: bool(3), category(2), datetime64[ns, UTC](1), datetime64[ns](1), int64(6), object(7)\n",
      "memory usage: 33.0+ MB\n"
     ]
    }
   ],
   "source": [
    "merged_df['publish_year'] = merged_df['publish_time'].dt.year\n",
    "merged_df['publish_month'] = merged_df['publish_time'].dt.month\n",
    "merged_df.info()"
   ]
  },
  {
   "cell_type": "markdown",
   "metadata": {},
   "source": [
    "##### For numerical variables"
   ]
  },
  {
   "cell_type": "code",
   "execution_count": 81,
   "metadata": {},
   "outputs": [],
   "source": [
    "def check_p_value(p_value):\n",
    "    print('P-value = ', p_value, ' -> ', end='')\n",
    "    if p_value < 0.001:\n",
    "        print('High certainty in the result')\n",
    "    elif p_value < 0.05:\n",
    "        print('Moderate certainty in the result')\n",
    "    elif p_value < 0.1:\n",
    "        print('Low certainty in the result')\n",
    "    else:\n",
    "        print('Lack of certainty in the result')"
   ]
  },
  {
   "cell_type": "code",
   "execution_count": 82,
   "metadata": {},
   "outputs": [],
   "source": [
    "def check_pearson_coef(pearson_coef):\n",
    "    print('Pearson\\'s Correlation coefficient = ', pearson_coef, ' -> ', end='')\n",
    "    if round(pearson_coef) == 0:\n",
    "        print('No correlation')\n",
    "    elif round(pearson_coef) == -1:\n",
    "        print('High negative correlation')\n",
    "    elif round(pearson_coef) == 1:\n",
    "        print('High positive correlation')"
   ]
  },
  {
   "cell_type": "code",
   "execution_count": 83,
   "metadata": {},
   "outputs": [
    {
     "name": "stdout",
     "output_type": "stream",
     "text": [
      "Likes and Dislikes\n",
      "Pearson's Correlation coefficient =  0.49994018141014646  -> No correlation\n",
      "P-value =  0.0  -> High certainty in the result\n"
     ]
    }
   ],
   "source": [
    "print('Likes and Dislikes')\n",
    "pearson_coef, p_value = stats.pearsonr(merged_df['likes'], merged_df['dislikes'])\n",
    "check_pearson_coef(pearson_coef)\n",
    "check_p_value(p_value)"
   ]
  },
  {
   "cell_type": "code",
   "execution_count": 84,
   "metadata": {},
   "outputs": [
    {
     "name": "stdout",
     "output_type": "stream",
     "text": [
      "Likes and Views\n",
      "Pearson's Correlation coefficient =  0.7837634212026893  -> High positive correlation\n",
      "P-value =  0.0  -> High certainty in the result\n"
     ]
    }
   ],
   "source": [
    "print('Likes and Views')\n",
    "pearson_coef, p_value = stats.pearsonr(merged_df['likes'], merged_df['views'])\n",
    "check_pearson_coef(pearson_coef)\n",
    "check_p_value(p_value)"
   ]
  },
  {
   "cell_type": "code",
   "execution_count": 85,
   "metadata": {},
   "outputs": [
    {
     "name": "stdout",
     "output_type": "stream",
     "text": [
      "Likes and Comments\n",
      "Pearson's Correlation coefficient =  0.8435923122486381  -> High positive correlation\n",
      "P-value =  0.0  -> High certainty in the result\n"
     ]
    }
   ],
   "source": [
    "print('Likes and Comments')\n",
    "pearson_coef, p_value = stats.pearsonr(merged_df['likes'], merged_df['comment_count'])\n",
    "check_pearson_coef(pearson_coef)\n",
    "check_p_value(p_value)"
   ]
  },
  {
   "cell_type": "code",
   "execution_count": 86,
   "metadata": {},
   "outputs": [
    {
     "name": "stdout",
     "output_type": "stream",
     "text": [
      "Dislikes and Views\n",
      "Pearson's Correlation coefficient =  0.4818430417455055  -> No correlation\n",
      "P-value =  0.0  -> High certainty in the result\n"
     ]
    }
   ],
   "source": [
    "print('Dislikes and Views')\n",
    "pearson_coef, p_value = stats.pearsonr(merged_df['dislikes'], merged_df['views'])\n",
    "check_pearson_coef(pearson_coef)\n",
    "check_p_value(p_value)"
   ]
  },
  {
   "cell_type": "code",
   "execution_count": 87,
   "metadata": {},
   "outputs": [
    {
     "name": "stdout",
     "output_type": "stream",
     "text": [
      "Dislikes and Comments\n",
      "Pearson's Correlation coefficient =  0.6361240700671953  -> High positive correlation\n",
      "P-value =  0.0  -> High certainty in the result\n"
     ]
    }
   ],
   "source": [
    "print('Dislikes and Comments')\n",
    "pearson_coef, p_value = stats.pearsonr(merged_df['dislikes'], merged_df['comment_count'])\n",
    "check_pearson_coef(pearson_coef)\n",
    "check_p_value(p_value)"
   ]
  },
  {
   "cell_type": "code",
   "execution_count": 88,
   "metadata": {},
   "outputs": [
    {
     "name": "stdout",
     "output_type": "stream",
     "text": [
      "Views and Comments\n",
      "Pearson's Correlation coefficient =  0.5449442118813932  -> High positive correlation\n",
      "P-value =  0.0  -> High certainty in the result\n"
     ]
    }
   ],
   "source": [
    "print('Views and Comments')\n",
    "pearson_coef, p_value = stats.pearsonr(merged_df['views'], merged_df['comment_count'])\n",
    "check_pearson_coef(pearson_coef)\n",
    "check_p_value(p_value)"
   ]
  },
  {
   "cell_type": "code",
   "execution_count": 89,
   "metadata": {},
   "outputs": [
    {
     "data": {
      "text/plain": [
       "<AxesSubplot:>"
      ]
     },
     "execution_count": 89,
     "metadata": {},
     "output_type": "execute_result"
    },
    {
     "data": {
      "image/png": "[encoded data removed]",
      "text/plain": [
       "<Figure size 432x288 with 2 Axes>"
      ]
     },
     "metadata": {
      "needs_background": "light"
     },
     "output_type": "display_data"
    }
   ],
   "source": [
    "correlation = merged_df.corr()\n",
    "sns.heatmap(correlation, xticklabels=correlation.columns, yticklabels=correlation.columns, annot=True)"
   ]
  },
  {
   "cell_type": "code",
   "execution_count": 90,
   "metadata": {},
   "outputs": [
    {
     "data": {
      "text/html": [
       "<div>\n",
       "<style scoped>\n",
       "    .dataframe tbody tr th:only-of-type {\n",
       "        vertical-align: middle;\n",
       "    }\n",
       "\n",
       "    .dataframe tbody tr th {\n",
       "        vertical-align: top;\n",
       "    }\n",
       "\n",
       "    .dataframe thead th {\n",
       "        text-align: right;\n",
       "    }\n",
       "</style>\n",
       "<table border=\"1\" class=\"dataframe\">\n",
       "  <thead>\n",
       "    <tr style=\"text-align: right;\">\n",
       "      <th></th>\n",
       "      <th>views</th>\n",
       "      <th>likes</th>\n",
       "      <th>dislikes</th>\n",
       "      <th>comment_count</th>\n",
       "    </tr>\n",
       "  </thead>\n",
       "  <tbody>\n",
       "    <tr>\n",
       "      <th>views</th>\n",
       "      <td>1.000000</td>\n",
       "      <td>0.783763</td>\n",
       "      <td>0.481843</td>\n",
       "      <td>0.544944</td>\n",
       "    </tr>\n",
       "    <tr>\n",
       "      <th>likes</th>\n",
       "      <td>0.783763</td>\n",
       "      <td>1.000000</td>\n",
       "      <td>0.499940</td>\n",
       "      <td>0.843592</td>\n",
       "    </tr>\n",
       "    <tr>\n",
       "      <th>dislikes</th>\n",
       "      <td>0.481843</td>\n",
       "      <td>0.499940</td>\n",
       "      <td>1.000000</td>\n",
       "      <td>0.636124</td>\n",
       "    </tr>\n",
       "    <tr>\n",
       "      <th>comment_count</th>\n",
       "      <td>0.544944</td>\n",
       "      <td>0.843592</td>\n",
       "      <td>0.636124</td>\n",
       "      <td>1.000000</td>\n",
       "    </tr>\n",
       "  </tbody>\n",
       "</table>\n",
       "</div>"
      ],
      "text/plain": [
       "                  views     likes  dislikes  comment_count\n",
       "views          1.000000  0.783763  0.481843       0.544944\n",
       "likes          0.783763  1.000000  0.499940       0.843592\n",
       "dislikes       0.481843  0.499940  1.000000       0.636124\n",
       "comment_count  0.544944  0.843592  0.636124       1.000000"
      ]
     },
     "execution_count": 90,
     "metadata": {},
     "output_type": "execute_result"
    }
   ],
   "source": [
    "merged_df[['views', 'likes', 'dislikes', 'comment_count']].corr()"
   ]
  },
  {
   "cell_type": "code",
   "execution_count": 91,
   "metadata": {},
   "outputs": [
    {
     "data": {
      "image/png": "[encoded data removed]",
      "text/plain": [
       "<Figure size 1224x1008 with 16 Axes>"
      ]
     },
     "metadata": {
      "needs_background": "light"
     },
     "output_type": "display_data"
    }
   ],
   "source": [
    "scatter_matrix(merged_df[['views', 'likes', 'dislikes', 'comment_count']], figsize=(17,14))\n",
    "plt.show()"
   ]
  },
  {
   "cell_type": "markdown",
   "metadata": {},
   "source": [
    "##### For categorical variables"
   ]
  },
  {
   "cell_type": "markdown",
   "metadata": {},
   "source": [
    "##### Question: Is there any relationship between comments_disabled and country_origin?"
   ]
  },
  {
   "cell_type": "code",
   "execution_count": 92,
   "metadata": {
    "scrolled": true
   },
   "outputs": [
    {
     "data": {
      "text/plain": [
       "USA              40332\n",
       "Germany          39042\n",
       "Great Britain    38099\n",
       "France           37702\n",
       "Mexico           36043\n",
       "Korean           28997\n",
       "Japan            13283\n",
       "Name: country_origin, dtype: int64"
      ]
     },
     "execution_count": 92,
     "metadata": {},
     "output_type": "execute_result"
    }
   ],
   "source": [
    "merged_df['country_origin'].value_counts()"
   ]
  },
  {
   "cell_type": "code",
   "execution_count": 93,
   "metadata": {},
   "outputs": [
    {
     "data": {
      "text/plain": [
       "False    228798\n",
       "True       4700\n",
       "Name: comments_disabled, dtype: int64"
      ]
     },
     "execution_count": 93,
     "metadata": {},
     "output_type": "execute_result"
    }
   ],
   "source": [
    "merged_df['comments_disabled'].value_counts()"
   ]
  },
  {
   "cell_type": "code",
   "execution_count": 94,
   "metadata": {},
   "outputs": [
    {
     "data": {
      "image/png": "[encoded data removed]",
      "text/plain": [
       "<Figure size 1440x360 with 1 Axes>"
      ]
     },
     "metadata": {},
     "output_type": "display_data"
    }
   ],
   "source": [
    "sns.set(style='darkgrid')\n",
    "sns.set_palette('hls', 3)\n",
    "fig, ax = plt.subplots(figsize=(20, 5))\n",
    "ax = sns.countplot(x='country_origin', hue='comments_disabled', data=merged_df)\n",
    "ax.set_xticklabels(ax.get_xticklabels(), rotation=45)\n",
    "\n",
    "for p in ax.patches:\n",
    "    height = p.get_height()\n",
    "    ax.text(p.get_x() + p.get_width()/2.,\n",
    "           height + 3,\n",
    "           '{:1.2f}'.format(height/merged_df.shape[0]),\n",
    "           ha='center')"
   ]
  },
  {
   "cell_type": "code",
   "execution_count": 95,
   "metadata": {
    "scrolled": true
   },
   "outputs": [
    {
     "data": {
      "text/html": [
       "<div>\n",
       "<style scoped>\n",
       "    .dataframe tbody tr th:only-of-type {\n",
       "        vertical-align: middle;\n",
       "    }\n",
       "\n",
       "    .dataframe tbody tr th {\n",
       "        vertical-align: top;\n",
       "    }\n",
       "\n",
       "    .dataframe thead th {\n",
       "        text-align: right;\n",
       "    }\n",
       "</style>\n",
       "<table border=\"1\" class=\"dataframe\">\n",
       "  <thead>\n",
       "    <tr style=\"text-align: right;\">\n",
       "      <th>comments_disabled</th>\n",
       "      <th>False</th>\n",
       "      <th>True</th>\n",
       "    </tr>\n",
       "    <tr>\n",
       "      <th>country_origin</th>\n",
       "      <th></th>\n",
       "      <th></th>\n",
       "    </tr>\n",
       "  </thead>\n",
       "  <tbody>\n",
       "    <tr>\n",
       "      <th>France</th>\n",
       "      <td>36935</td>\n",
       "      <td>767</td>\n",
       "    </tr>\n",
       "    <tr>\n",
       "      <th>Germany</th>\n",
       "      <td>38086</td>\n",
       "      <td>956</td>\n",
       "    </tr>\n",
       "    <tr>\n",
       "      <th>Great Britain</th>\n",
       "      <td>37441</td>\n",
       "      <td>658</td>\n",
       "    </tr>\n",
       "    <tr>\n",
       "      <th>Japan</th>\n",
       "      <td>12358</td>\n",
       "      <td>925</td>\n",
       "    </tr>\n",
       "    <tr>\n",
       "      <th>Korean</th>\n",
       "      <td>28574</td>\n",
       "      <td>423</td>\n",
       "    </tr>\n",
       "    <tr>\n",
       "      <th>Mexico</th>\n",
       "      <td>35675</td>\n",
       "      <td>368</td>\n",
       "    </tr>\n",
       "    <tr>\n",
       "      <th>USA</th>\n",
       "      <td>39729</td>\n",
       "      <td>603</td>\n",
       "    </tr>\n",
       "  </tbody>\n",
       "</table>\n",
       "</div>"
      ],
      "text/plain": [
       "comments_disabled  False  True\n",
       "country_origin                \n",
       "France             36935   767\n",
       "Germany            38086   956\n",
       "Great Britain      37441   658\n",
       "Japan              12358   925\n",
       "Korean             28574   423\n",
       "Mexico             35675   368\n",
       "USA                39729   603"
      ]
     },
     "execution_count": 95,
     "metadata": {},
     "output_type": "execute_result"
    }
   ],
   "source": [
    "country_comments_disabled_ct = pd.crosstab(index=merged_df['country_origin'],\n",
    "                                                      columns=merged_df['comments_disabled'])\n",
    "\n",
    "country_comments_disabled_ct"
   ]
  },
  {
   "cell_type": "code",
   "execution_count": 96,
   "metadata": {},
   "outputs": [
    {
     "name": "stdout",
     "output_type": "stream",
     "text": [
      "chi2:  1983.9568756896258\n",
      "p-value:  0.0\n",
      "Degree of freedom:  6\n",
      "significance=0.050, p=0.000\n",
      "Dependent (reject H0)\n",
      "\n",
      "Double Check:\n",
      "probability=0.950, critical=12.592, chi2_value=1983.957\n",
      "Dependent (reject H0)\n"
     ]
    }
   ],
   "source": [
    "arr_input = country_comments_disabled_ct.iloc[:].to_numpy()\n",
    "(chi2, p, dof, _) = stats.chi2_contingency([arr_input])\n",
    "\n",
    "print('chi2: ', chi2)\n",
    "print('p-value: ', p)\n",
    "print('Degree of freedom: ', dof)\n",
    "\n",
    "alpha = 0.05\n",
    "print('significance=%.3f, p=%.3f' % (alpha, p))\n",
    "if p <= alpha:\n",
    "    print('Dependent (reject H0)')\n",
    "else:\n",
    "    print('Independent (fail to reject H0)')\n",
    "\n",
    "print('\\nDouble Check:')\n",
    "prob = 0.95\n",
    "critical = stats.chi2.ppf(prob, dof)\n",
    "print('probability=%.3f, critical=%.3f, chi2_value=%.3f' % (prob, critical, chi2))\n",
    "if abs(chi2) >= critical:\n",
    "    print('Dependent (reject H0)')\n",
    "else:\n",
    "    print('Independent (fail to reject H0)')"
   ]
  },
  {
   "cell_type": "markdown",
   "metadata": {},
   "source": [
    "##### Conclusion: There is a relationship between the country (country_origin) and whether the comments are disabled or not (comments_disabled)."
   ]
  },
  {
   "cell_type": "markdown",
   "metadata": {},
   "source": [
    "##### Question: Is there any relationship between category_name and publish_month?"
   ]
  },
  {
   "cell_type": "code",
   "execution_count": 97,
   "metadata": {
    "scrolled": true
   },
   "outputs": [
    {
     "data": {
      "text/plain": [
       "Entertainment            67556\n",
       "Music                    31990\n",
       "People & Blogs           30050\n",
       "News & Politics          19590\n",
       "Sports                   16473\n",
       "Comedy                   15807\n",
       "Howto & Style            13600\n",
       "Film & Animation         12785\n",
       "Gaming                    8275\n",
       "Science & Technology      5120\n",
       "Education                 4659\n",
       "Pets & Animals            3492\n",
       "Autos & Vehicles          2566\n",
       "Travel & Events           1021\n",
       "Shows                      443\n",
       "Nonprofits & Activism       53\n",
       "Movies                      13\n",
       "Trailers                     5\n",
       "Name: category_name, dtype: int64"
      ]
     },
     "execution_count": 97,
     "metadata": {},
     "output_type": "execute_result"
    }
   ],
   "source": [
    "merged_df['category_name'].value_counts()"
   ]
  },
  {
   "cell_type": "code",
   "execution_count": 98,
   "metadata": {},
   "outputs": [
    {
     "data": {
      "text/plain": [
       "3     36475\n",
       "5     35172\n",
       "12    34153\n",
       "2     33555\n",
       "1     31571\n",
       "4     29178\n",
       "11    21663\n",
       "6     11334\n",
       "10      174\n",
       "9        88\n",
       "8        78\n",
       "7        57\n",
       "Name: publish_month, dtype: int64"
      ]
     },
     "execution_count": 98,
     "metadata": {},
     "output_type": "execute_result"
    }
   ],
   "source": [
    "merged_df['publish_month'].value_counts()"
   ]
  },
  {
   "cell_type": "code",
   "execution_count": 99,
   "metadata": {},
   "outputs": [
    {
     "name": "stderr",
     "output_type": "stream",
     "text": [
      "posx and posy should be finite values\n",
      "posx and posy should be finite values\n",
      "posx and posy should be finite values\n",
      "posx and posy should be finite values\n",
      "posx and posy should be finite values\n",
      "posx and posy should be finite values\n",
      "posx and posy should be finite values\n",
      "posx and posy should be finite values\n",
      "posx and posy should be finite values\n",
      "posx and posy should be finite values\n",
      "posx and posy should be finite values\n",
      "posx and posy should be finite values\n",
      "posx and posy should be finite values\n",
      "posx and posy should be finite values\n",
      "posx and posy should be finite values\n",
      "posx and posy should be finite values\n",
      "posx and posy should be finite values\n",
      "posx and posy should be finite values\n",
      "posx and posy should be finite values\n",
      "posx and posy should be finite values\n",
      "posx and posy should be finite values\n",
      "posx and posy should be finite values\n",
      "posx and posy should be finite values\n",
      "posx and posy should be finite values\n",
      "posx and posy should be finite values\n",
      "posx and posy should be finite values\n",
      "posx and posy should be finite values\n",
      "posx and posy should be finite values\n",
      "posx and posy should be finite values\n",
      "posx and posy should be finite values\n",
      "posx and posy should be finite values\n",
      "posx and posy should be finite values\n",
      "posx and posy should be finite values\n",
      "posx and posy should be finite values\n",
      "posx and posy should be finite values\n",
      "posx and posy should be finite values\n",
      "posx and posy should be finite values\n",
      "posx and posy should be finite values\n",
      "posx and posy should be finite values\n",
      "posx and posy should be finite values\n",
      "posx and posy should be finite values\n",
      "posx and posy should be finite values\n",
      "posx and posy should be finite values\n",
      "posx and posy should be finite values\n",
      "posx and posy should be finite values\n",
      "posx and posy should be finite values\n",
      "posx and posy should be finite values\n",
      "posx and posy should be finite values\n",
      "posx and posy should be finite values\n",
      "posx and posy should be finite values\n",
      "posx and posy should be finite values\n",
      "posx and posy should be finite values\n",
      "posx and posy should be finite values\n",
      "posx and posy should be finite values\n",
      "posx and posy should be finite values\n",
      "posx and posy should be finite values\n",
      "posx and posy should be finite values\n",
      "posx and posy should be finite values\n",
      "posx and posy should be finite values\n",
      "posx and posy should be finite values\n",
      "posx and posy should be finite values\n",
      "posx and posy should be finite values\n",
      "posx and posy should be finite values\n",
      "posx and posy should be finite values\n",
      "posx and posy should be finite values\n",
      "posx and posy should be finite values\n",
      "posx and posy should be finite values\n",
      "posx and posy should be finite values\n",
      "posx and posy should be finite values\n",
      "posx and posy should be finite values\n",
      "posx and posy should be finite values\n",
      "posx and posy should be finite values\n",
      "posx and posy should be finite values\n",
      "posx and posy should be finite values\n",
      "posx and posy should be finite values\n",
      "posx and posy should be finite values\n",
      "posx and posy should be finite values\n",
      "posx and posy should be finite values\n",
      "posx and posy should be finite values\n",
      "posx and posy should be finite values\n",
      "posx and posy should be finite values\n",
      "posx and posy should be finite values\n",
      "posx and posy should be finite values\n",
      "posx and posy should be finite values\n",
      "posx and posy should be finite values\n",
      "posx and posy should be finite values\n",
      "posx and posy should be finite values\n",
      "posx and posy should be finite values\n",
      "posx and posy should be finite values\n",
      "posx and posy should be finite values\n"
     ]
    },
    {
     "data": {
      "image/png": "[encoded data removed]",
      "text/plain": [
       "<Figure size 1440x360 with 1 Axes>"
      ]
     },
     "metadata": {},
     "output_type": "display_data"
    }
   ],
   "source": [
    "sns.set(style='darkgrid')\n",
    "sns.set_palette('hls', 3)\n",
    "fig, ax = plt.subplots(figsize=(20, 5))\n",
    "ax = sns.countplot(x='category_name', hue='publish_month', data=merged_df)\n",
    "ax.set_xticklabels(ax.get_xticklabels(), rotation=45)\n",
    "\n",
    "for p in ax.patches:\n",
    "    height = p.get_height()\n",
    "    ax.text(p.get_x() + p.get_width()/2.,\n",
    "           height + 3,\n",
    "           '{:1.2f}'.format(height/merged_df.shape[0]),\n",
    "           ha='center')"
   ]
  },
  {
   "cell_type": "code",
   "execution_count": 100,
   "metadata": {
    "scrolled": true
   },
   "outputs": [
    {
     "data": {
      "text/html": [
       "<div>\n",
       "<style scoped>\n",
       "    .dataframe tbody tr th:only-of-type {\n",
       "        vertical-align: middle;\n",
       "    }\n",
       "\n",
       "    .dataframe tbody tr th {\n",
       "        vertical-align: top;\n",
       "    }\n",
       "\n",
       "    .dataframe thead th {\n",
       "        text-align: right;\n",
       "    }\n",
       "</style>\n",
       "<table border=\"1\" class=\"dataframe\">\n",
       "  <thead>\n",
       "    <tr style=\"text-align: right;\">\n",
       "      <th>publish_month</th>\n",
       "      <th>1</th>\n",
       "      <th>2</th>\n",
       "      <th>3</th>\n",
       "      <th>4</th>\n",
       "      <th>5</th>\n",
       "      <th>6</th>\n",
       "      <th>7</th>\n",
       "      <th>8</th>\n",
       "      <th>9</th>\n",
       "      <th>10</th>\n",
       "      <th>11</th>\n",
       "      <th>12</th>\n",
       "    </tr>\n",
       "    <tr>\n",
       "      <th>category_name</th>\n",
       "      <th></th>\n",
       "      <th></th>\n",
       "      <th></th>\n",
       "      <th></th>\n",
       "      <th></th>\n",
       "      <th></th>\n",
       "      <th></th>\n",
       "      <th></th>\n",
       "      <th></th>\n",
       "      <th></th>\n",
       "      <th></th>\n",
       "      <th></th>\n",
       "    </tr>\n",
       "  </thead>\n",
       "  <tbody>\n",
       "    <tr>\n",
       "      <th>Autos &amp; Vehicles</th>\n",
       "      <td>335</td>\n",
       "      <td>460</td>\n",
       "      <td>430</td>\n",
       "      <td>301</td>\n",
       "      <td>281</td>\n",
       "      <td>102</td>\n",
       "      <td>0</td>\n",
       "      <td>0</td>\n",
       "      <td>17</td>\n",
       "      <td>8</td>\n",
       "      <td>298</td>\n",
       "      <td>334</td>\n",
       "    </tr>\n",
       "    <tr>\n",
       "      <th>Comedy</th>\n",
       "      <td>2119</td>\n",
       "      <td>2066</td>\n",
       "      <td>2223</td>\n",
       "      <td>1804</td>\n",
       "      <td>2555</td>\n",
       "      <td>713</td>\n",
       "      <td>4</td>\n",
       "      <td>1</td>\n",
       "      <td>11</td>\n",
       "      <td>5</td>\n",
       "      <td>1698</td>\n",
       "      <td>2608</td>\n",
       "    </tr>\n",
       "    <tr>\n",
       "      <th>Education</th>\n",
       "      <td>706</td>\n",
       "      <td>719</td>\n",
       "      <td>743</td>\n",
       "      <td>529</td>\n",
       "      <td>572</td>\n",
       "      <td>179</td>\n",
       "      <td>0</td>\n",
       "      <td>0</td>\n",
       "      <td>10</td>\n",
       "      <td>0</td>\n",
       "      <td>501</td>\n",
       "      <td>700</td>\n",
       "    </tr>\n",
       "    <tr>\n",
       "      <th>Entertainment</th>\n",
       "      <td>8522</td>\n",
       "      <td>9406</td>\n",
       "      <td>10630</td>\n",
       "      <td>8195</td>\n",
       "      <td>11161</td>\n",
       "      <td>3909</td>\n",
       "      <td>13</td>\n",
       "      <td>17</td>\n",
       "      <td>0</td>\n",
       "      <td>21</td>\n",
       "      <td>5730</td>\n",
       "      <td>9952</td>\n",
       "    </tr>\n",
       "    <tr>\n",
       "      <th>Film &amp; Animation</th>\n",
       "      <td>1647</td>\n",
       "      <td>2151</td>\n",
       "      <td>1786</td>\n",
       "      <td>1664</td>\n",
       "      <td>1931</td>\n",
       "      <td>614</td>\n",
       "      <td>2</td>\n",
       "      <td>18</td>\n",
       "      <td>10</td>\n",
       "      <td>39</td>\n",
       "      <td>1143</td>\n",
       "      <td>1780</td>\n",
       "    </tr>\n",
       "    <tr>\n",
       "      <th>Gaming</th>\n",
       "      <td>1282</td>\n",
       "      <td>1007</td>\n",
       "      <td>1473</td>\n",
       "      <td>754</td>\n",
       "      <td>1104</td>\n",
       "      <td>483</td>\n",
       "      <td>1</td>\n",
       "      <td>0</td>\n",
       "      <td>0</td>\n",
       "      <td>9</td>\n",
       "      <td>746</td>\n",
       "      <td>1416</td>\n",
       "    </tr>\n",
       "    <tr>\n",
       "      <th>Howto &amp; Style</th>\n",
       "      <td>1983</td>\n",
       "      <td>2133</td>\n",
       "      <td>2163</td>\n",
       "      <td>1549</td>\n",
       "      <td>1700</td>\n",
       "      <td>540</td>\n",
       "      <td>3</td>\n",
       "      <td>1</td>\n",
       "      <td>1</td>\n",
       "      <td>21</td>\n",
       "      <td>1469</td>\n",
       "      <td>2037</td>\n",
       "    </tr>\n",
       "    <tr>\n",
       "      <th>Movies</th>\n",
       "      <td>0</td>\n",
       "      <td>0</td>\n",
       "      <td>0</td>\n",
       "      <td>5</td>\n",
       "      <td>7</td>\n",
       "      <td>1</td>\n",
       "      <td>0</td>\n",
       "      <td>0</td>\n",
       "      <td>0</td>\n",
       "      <td>0</td>\n",
       "      <td>0</td>\n",
       "      <td>0</td>\n",
       "    </tr>\n",
       "    <tr>\n",
       "      <th>Music</th>\n",
       "      <td>4222</td>\n",
       "      <td>4392</td>\n",
       "      <td>5433</td>\n",
       "      <td>4583</td>\n",
       "      <td>5305</td>\n",
       "      <td>1044</td>\n",
       "      <td>13</td>\n",
       "      <td>6</td>\n",
       "      <td>18</td>\n",
       "      <td>20</td>\n",
       "      <td>2694</td>\n",
       "      <td>4260</td>\n",
       "    </tr>\n",
       "    <tr>\n",
       "      <th>News &amp; Politics</th>\n",
       "      <td>2907</td>\n",
       "      <td>2621</td>\n",
       "      <td>2744</td>\n",
       "      <td>2672</td>\n",
       "      <td>2962</td>\n",
       "      <td>1059</td>\n",
       "      <td>0</td>\n",
       "      <td>3</td>\n",
       "      <td>4</td>\n",
       "      <td>4</td>\n",
       "      <td>1909</td>\n",
       "      <td>2705</td>\n",
       "    </tr>\n",
       "    <tr>\n",
       "      <th>Nonprofits &amp; Activism</th>\n",
       "      <td>17</td>\n",
       "      <td>13</td>\n",
       "      <td>0</td>\n",
       "      <td>0</td>\n",
       "      <td>9</td>\n",
       "      <td>0</td>\n",
       "      <td>0</td>\n",
       "      <td>0</td>\n",
       "      <td>0</td>\n",
       "      <td>0</td>\n",
       "      <td>4</td>\n",
       "      <td>10</td>\n",
       "    </tr>\n",
       "    <tr>\n",
       "      <th>People &amp; Blogs</th>\n",
       "      <td>4183</td>\n",
       "      <td>4358</td>\n",
       "      <td>4844</td>\n",
       "      <td>3924</td>\n",
       "      <td>3747</td>\n",
       "      <td>1339</td>\n",
       "      <td>5</td>\n",
       "      <td>21</td>\n",
       "      <td>4</td>\n",
       "      <td>30</td>\n",
       "      <td>2653</td>\n",
       "      <td>4942</td>\n",
       "    </tr>\n",
       "    <tr>\n",
       "      <th>Pets &amp; Animals</th>\n",
       "      <td>508</td>\n",
       "      <td>531</td>\n",
       "      <td>543</td>\n",
       "      <td>505</td>\n",
       "      <td>616</td>\n",
       "      <td>172</td>\n",
       "      <td>13</td>\n",
       "      <td>0</td>\n",
       "      <td>0</td>\n",
       "      <td>0</td>\n",
       "      <td>227</td>\n",
       "      <td>377</td>\n",
       "    </tr>\n",
       "    <tr>\n",
       "      <th>Science &amp; Technology</th>\n",
       "      <td>663</td>\n",
       "      <td>930</td>\n",
       "      <td>812</td>\n",
       "      <td>541</td>\n",
       "      <td>651</td>\n",
       "      <td>132</td>\n",
       "      <td>0</td>\n",
       "      <td>11</td>\n",
       "      <td>0</td>\n",
       "      <td>2</td>\n",
       "      <td>772</td>\n",
       "      <td>606</td>\n",
       "    </tr>\n",
       "    <tr>\n",
       "      <th>Shows</th>\n",
       "      <td>47</td>\n",
       "      <td>27</td>\n",
       "      <td>45</td>\n",
       "      <td>45</td>\n",
       "      <td>125</td>\n",
       "      <td>26</td>\n",
       "      <td>0</td>\n",
       "      <td>0</td>\n",
       "      <td>0</td>\n",
       "      <td>0</td>\n",
       "      <td>57</td>\n",
       "      <td>71</td>\n",
       "    </tr>\n",
       "    <tr>\n",
       "      <th>Sports</th>\n",
       "      <td>2297</td>\n",
       "      <td>2516</td>\n",
       "      <td>2444</td>\n",
       "      <td>1996</td>\n",
       "      <td>2367</td>\n",
       "      <td>987</td>\n",
       "      <td>2</td>\n",
       "      <td>0</td>\n",
       "      <td>8</td>\n",
       "      <td>13</td>\n",
       "      <td>1678</td>\n",
       "      <td>2165</td>\n",
       "    </tr>\n",
       "    <tr>\n",
       "      <th>Trailers</th>\n",
       "      <td>0</td>\n",
       "      <td>2</td>\n",
       "      <td>1</td>\n",
       "      <td>0</td>\n",
       "      <td>2</td>\n",
       "      <td>0</td>\n",
       "      <td>0</td>\n",
       "      <td>0</td>\n",
       "      <td>0</td>\n",
       "      <td>0</td>\n",
       "      <td>0</td>\n",
       "      <td>0</td>\n",
       "    </tr>\n",
       "    <tr>\n",
       "      <th>Travel &amp; Events</th>\n",
       "      <td>133</td>\n",
       "      <td>223</td>\n",
       "      <td>161</td>\n",
       "      <td>111</td>\n",
       "      <td>77</td>\n",
       "      <td>34</td>\n",
       "      <td>1</td>\n",
       "      <td>0</td>\n",
       "      <td>5</td>\n",
       "      <td>2</td>\n",
       "      <td>84</td>\n",
       "      <td>190</td>\n",
       "    </tr>\n",
       "  </tbody>\n",
       "</table>\n",
       "</div>"
      ],
      "text/plain": [
       "publish_month            1     2      3     4      5     6   7   8   9   10  \\\n",
       "category_name                                                                 \n",
       "Autos & Vehicles        335   460    430   301    281   102   0   0  17   8   \n",
       "Comedy                 2119  2066   2223  1804   2555   713   4   1  11   5   \n",
       "Education               706   719    743   529    572   179   0   0  10   0   \n",
       "Entertainment          8522  9406  10630  8195  11161  3909  13  17   0  21   \n",
       "Film & Animation       1647  2151   1786  1664   1931   614   2  18  10  39   \n",
       "Gaming                 1282  1007   1473   754   1104   483   1   0   0   9   \n",
       "Howto & Style          1983  2133   2163  1549   1700   540   3   1   1  21   \n",
       "Movies                    0     0      0     5      7     1   0   0   0   0   \n",
       "Music                  4222  4392   5433  4583   5305  1044  13   6  18  20   \n",
       "News & Politics        2907  2621   2744  2672   2962  1059   0   3   4   4   \n",
       "Nonprofits & Activism    17    13      0     0      9     0   0   0   0   0   \n",
       "People & Blogs         4183  4358   4844  3924   3747  1339   5  21   4  30   \n",
       "Pets & Animals          508   531    543   505    616   172  13   0   0   0   \n",
       "Science & Technology    663   930    812   541    651   132   0  11   0   2   \n",
       "Shows                    47    27     45    45    125    26   0   0   0   0   \n",
       "Sports                 2297  2516   2444  1996   2367   987   2   0   8  13   \n",
       "Trailers                  0     2      1     0      2     0   0   0   0   0   \n",
       "Travel & Events         133   223    161   111     77    34   1   0   5   2   \n",
       "\n",
       "publish_month            11    12  \n",
       "category_name                      \n",
       "Autos & Vehicles        298   334  \n",
       "Comedy                 1698  2608  \n",
       "Education               501   700  \n",
       "Entertainment          5730  9952  \n",
       "Film & Animation       1143  1780  \n",
       "Gaming                  746  1416  \n",
       "Howto & Style          1469  2037  \n",
       "Movies                    0     0  \n",
       "Music                  2694  4260  \n",
       "News & Politics        1909  2705  \n",
       "Nonprofits & Activism     4    10  \n",
       "People & Blogs         2653  4942  \n",
       "Pets & Animals          227   377  \n",
       "Science & Technology    772   606  \n",
       "Shows                    57    71  \n",
       "Sports                 1678  2165  \n",
       "Trailers                  0     0  \n",
       "Travel & Events          84   190  "
      ]
     },
     "execution_count": 100,
     "metadata": {},
     "output_type": "execute_result"
    }
   ],
   "source": [
    "category_month_ct = pd.crosstab(index=merged_df['category_name'],\n",
    "                                                      columns=merged_df['publish_month'])\n",
    "\n",
    "category_month_ct"
   ]
  },
  {
   "cell_type": "code",
   "execution_count": 101,
   "metadata": {},
   "outputs": [
    {
     "name": "stdout",
     "output_type": "stream",
     "text": [
      "chi2:  3566.509029181082\n",
      "p-value:  0.0\n",
      "Degree of freedom:  187\n",
      "significance=0.050, p=0.000\n",
      "Dependent (reject H0)\n",
      "\n",
      "Double Check:\n",
      "probability=0.950, critical=219.906, chi2_value=3566.509\n",
      "Dependent (reject H0)\n"
     ]
    }
   ],
   "source": [
    "arr_input = category_month_ct.iloc[:].to_numpy()\n",
    "(chi2, p, dof, _) = stats.chi2_contingency([arr_input])\n",
    "\n",
    "print('chi2: ', chi2)\n",
    "print('p-value: ', p)\n",
    "print('Degree of freedom: ', dof)\n",
    "\n",
    "alpha = 0.05\n",
    "print('significance=%.3f, p=%.3f' % (alpha, p))\n",
    "if p <= alpha:\n",
    "    print('Dependent (reject H0)')\n",
    "else:\n",
    "    print('Independent (fail to reject H0)')\n",
    "\n",
    "print('\\nDouble Check:')\n",
    "prob = 0.95\n",
    "critical = stats.chi2.ppf(prob, dof)\n",
    "print('probability=%.3f, critical=%.3f, chi2_value=%.3f' % (prob, critical, chi2))\n",
    "if abs(chi2) >= critical:\n",
    "    print('Dependent (reject H0)')\n",
    "else:\n",
    "    print('Independent (fail to reject H0)')"
   ]
  },
  {
   "cell_type": "markdown",
   "metadata": {},
   "source": [
    "##### Conclusion: There is a relationship between the categories (category_name) and months in a year (publish_month)."
   ]
  },
  {
   "cell_type": "markdown",
   "metadata": {},
   "source": [
    "#### 6. Disscuss the result"
   ]
  },
  {
   "cell_type": "markdown",
   "metadata": {},
   "source": [
    " - More views -> more likes / dislikes / comments\n",
    " - More likes -> more comments\n",
    " - Likes and Dislikes usually \"grow\" together: more likes -> more dislikes and vice versa\n",
    " - If comments and ratings are disabled: views / likes / dislikes / comments all decrease -> people want to interact with videos after / before watching them\n",
    " - People press \"like\" button more than \"dislike\" and \"comment\"\n",
    " \n",
    " ###### In Japan:\n",
    " - Comedy - Short videos have the most views -> people watch short comedy videos a lot\n",
    " - Videos that allow comments have more likes than those don't\n",
    " - No comments -> Thriller, Shows, Short, and Family videos receive more likes than others\n",
    " - With comments -> Shorts and Comedy videos receive considerably more likes than others\n",
    " - There are a lots more videos in Foreign, Drama, and Comedy topics than others\n",
    " \n",
    " ###### In general:\n",
    " - July, August, September, October: less videos than other months (all categories)\n",
    " - There are less videos in Movies, Nonprofits & Activism and Trailers than other categories\n",
    " - Most videos are in the Entertainments category\n",
    " - Publish time (date, month, year) is not related to how people interact with videos"
   ]
  }
 ],
 "metadata": {
  "kernelspec": {
   "display_name": "Python 3",
   "language": "python",
   "name": "python3"
  },
  "language_info": {
   "codemirror_mode": {
    "name": "ipython",
    "version": 3
   },
   "file_extension": ".py",
   "mimetype": "text/x-python",
   "name": "python",
   "nbconvert_exporter": "python",
   "pygments_lexer": "ipython3",
   "version": "3.6.13"
  }
 },
 "nbformat": 4,
 "nbformat_minor": 4
}
